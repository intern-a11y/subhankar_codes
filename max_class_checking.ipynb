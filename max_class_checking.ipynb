{
 "cells": [
  {
   "cell_type": "code",
   "execution_count": 82,
   "metadata": {},
   "outputs": [],
   "source": [
    "m_dict = {'k1':[4, 12, 106], 'k2':[15, 19, 96], 'k3':[11, 2005, 20], 'k4':[45, 2, 8], 'k5':[742, 52, 3]}"
   ]
  },
  {
   "cell_type": "code",
   "execution_count": 83,
   "metadata": {},
   "outputs": [],
   "source": [
    "cat_dict = {}\n",
    "for x in range(len(m_dict[key])):\n",
    "    t_dict = {x:[0, '']}\n",
    "    cat_dict.update(t_dict)"
   ]
  },
  {
   "cell_type": "code",
   "execution_count": 70,
   "metadata": {},
   "outputs": [],
   "source": [
    "# for key in m_dict.keys():\n",
    "#     for x in range(len(m_dict[key])):\n",
    "#         if x == 0:\n",
    "#             if m_dict[key][x] > cat_dict['a'][0]:\n",
    "#                 cat_dict['a'] = [m_dict[key][x], key]\n",
    "#             else:\n",
    "#                 pass\n",
    "#         elif x == 1:\n",
    "#             if m_dict[key][x] > cat_dict['b'][0]:\n",
    "#                 cat_dict['b'] = [m_dict[key][x], key]\n",
    "#             else:\n",
    "#                 pass\n",
    "#         elif x == 2:\n",
    "#             if m_dict[key][x] > cat_dict['c'][0]:\n",
    "#                 cat_dict['c'] = [m_dict[key][x], key]\n",
    "#             else:\n",
    "#                 pass\n",
    "#         else:\n",
    "#             pass"
   ]
  },
  {
   "cell_type": "code",
   "execution_count": 85,
   "metadata": {},
   "outputs": [],
   "source": [
    "for key in m_dict.keys():\n",
    "    for x in range(len(m_dict[key])):\n",
    "        if m_dict[key][x] > cat_dict[x][0]:\n",
    "            cat_dict[x] = [m_dict[key][x], key]\n",
    "        else:\n",
    "            pass"
   ]
  },
  {
   "cell_type": "code",
   "execution_count": 86,
   "metadata": {},
   "outputs": [
    {
     "data": {
      "text/plain": [
       "{0: [742, 'k5'], 1: [2005, 'k3'], 2: [106, 'k1']}"
      ]
     },
     "execution_count": 86,
     "metadata": {},
     "output_type": "execute_result"
    }
   ],
   "source": [
    "cat_dict"
   ]
  },
  {
   "cell_type": "code",
   "execution_count": null,
   "metadata": {},
   "outputs": [],
   "source": []
  }
 ],
 "metadata": {
  "kernelspec": {
   "display_name": "Python 3",
   "language": "python",
   "name": "python3"
  },
  "language_info": {
   "codemirror_mode": {
    "name": "ipython",
    "version": 3
   },
   "file_extension": ".py",
   "mimetype": "text/x-python",
   "name": "python",
   "nbconvert_exporter": "python",
   "pygments_lexer": "ipython3",
   "version": "3.6.9"
  }
 },
 "nbformat": 4,
 "nbformat_minor": 2
}
