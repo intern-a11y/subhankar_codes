{
 "cells": [
  {
   "cell_type": "code",
   "execution_count": 1,
   "metadata": {},
   "outputs": [],
   "source": [
    "import pandas as pd\n",
    "from difflib import SequenceMatcher\n",
    "from pandas import ExcelWriter"
   ]
  },
  {
   "cell_type": "code",
   "execution_count": 2,
   "metadata": {},
   "outputs": [],
   "source": [
    "lbl_sent = pd.DataFrame()"
   ]
  },
  {
   "cell_type": "code",
   "execution_count": 3,
   "metadata": {},
   "outputs": [],
   "source": [
    "# os.system('python3 audit_run.py')"
   ]
  },
  {
   "cell_type": "code",
   "execution_count": 4,
   "metadata": {},
   "outputs": [],
   "source": [
    "df_sen = pd.read_csv('/home/xelpmoc/Desktop/contracts/audit rights clause procurement - Sheet1.csv')"
   ]
  },
  {
   "cell_type": "code",
   "execution_count": 5,
   "metadata": {},
   "outputs": [],
   "source": [
    "contract_name_ = 'contract-1565751418721'"
   ]
  },
  {
   "cell_type": "code",
   "execution_count": 6,
   "metadata": {},
   "outputs": [],
   "source": [
    "high_match = ['15 2 Contractor shall have the right to conduct audit with respect to the books, records, factory invoices and all other documents and material in the possession or under the control of Don Polly relating to this Agreement, the cost of which shall be borne by the Contractor ', 'BOOKS AND RECORDS 15 1 Don Polly shall keep complete books of account and records in accordance with generally accepted accounting principles of all activities under this Agreement ', 'Such books of account and records shall be retained by Don Polly and kept available for at least five (5) years after the termination of this Agreement for possible inspection, copying, extracting and/or audit by Contractor ', \"Don Polly will reimburse Contractor for all business expenses which are preapproved in writing by Don Polly and incurred or paid by Contractor in the performance of Contractor' duties and responsibilities for Don Polly \", 'Contractor further agrees to sign, upon 72 hours of request of any Commissioning Don Polly any documents needed to confirm such assignment to Don Polly ']"
   ]
  },
  {
   "cell_type": "code",
   "execution_count": 7,
   "metadata": {},
   "outputs": [
    {
     "name": "stdout",
     "output_type": "stream",
     "text": [
      "                                         instruction                      id\n",
      "0  Contractor shall have the right to conduct aud...  contract-1565751418721\n",
      "1  Each Party shall use reasonable efforts to mai...  contract-1565928651227\n",
      "2  FECR and AAF shall each have the right, at its...  contract-1566205000886\n",
      "3  The Company shall reimburse Consultant for all...  contract-1566887323342\n",
      "4  Client shall have the right once per calendar ...  contract-1567147497608\n"
     ]
    }
   ],
   "source": [
    "print(df_sen.head())"
   ]
  },
  {
   "cell_type": "code",
   "execution_count": 18,
   "metadata": {},
   "outputs": [],
   "source": [
    "sentnce = df_sen.loc[df_sen['id'] == contract_name_, 'instruction'].iloc[0]"
   ]
  },
  {
   "cell_type": "code",
   "execution_count": 19,
   "metadata": {},
   "outputs": [
    {
     "data": {
      "text/plain": [
       "'Each Party shall use reasonable efforts to maintain a complete and correct set of records pertaining to the purchase and sale of the Exclusive Products and Exclusive Services in their respective segments (and the terms to the extent necessary to calculate the Supplier Sourcing Share) under this Agreement and compliance with the obligations hereunder and with applicable Law (if Exclusive Products or Exclusive Services being procured are in support of a United States government end customer or an end customer funded in whole or in part by the United States government) applicable to each Party’s performance under this Agreement (the “Records”).'"
      ]
     },
     "execution_count": 19,
     "metadata": {},
     "output_type": "execute_result"
    }
   ],
   "source": [
    "sentnce"
   ]
  },
  {
   "cell_type": "code",
   "execution_count": 9,
   "metadata": {},
   "outputs": [],
   "source": [
    "match_ratio = []\n",
    "for itr,item in enumerate(high_match):\n",
    "    ratio = SequenceMatcher(None, item, sentnce).ratio()\n",
    "    match_ratio.append(ratio)"
   ]
  },
  {
   "cell_type": "code",
   "execution_count": 10,
   "metadata": {},
   "outputs": [],
   "source": [
    "max_ratio = max(match_ratio)\n",
    "if max_ratio > 0.6:\n",
    "    indx = match_ratio.index(max_ratio)\n",
    "    temp2 = pd.DataFrame({'sentence': [high_match[indx]], 'contract_name': [contract_name_], \n",
    "                                      'label':['1']})\n",
    "    lbl_sent = pd.concat([lbl_sent, temp2])\n",
    "    high_match.pop(indx)\n",
    "    for sents in high_match:\n",
    "        temp2 = pd.DataFrame({'sentence': [sents], 'contract_name': [contract_name_], \n",
    "                                      'label':['0']})\n",
    "        lbl_sent = pd.concat([lbl_sent, temp2])\n",
    "else:\n",
    "    temp2 = pd.DataFrame({'sentence': [sentnce], 'contract_name': [contract_name_], \n",
    "                                      'label':['1']})\n",
    "    lbl_sent = pd.concat([lbl_sent, temp2])"
   ]
  },
  {
   "cell_type": "code",
   "execution_count": 11,
   "metadata": {},
   "outputs": [],
   "source": [
    "lbl_sent=lbl_sent.reset_index(drop=True)"
   ]
  },
  {
   "cell_type": "code",
   "execution_count": 12,
   "metadata": {},
   "outputs": [],
   "source": [
    "writer = pd.ExcelWriter('sentence_label.xlsx')\n",
    "lbl_sent.to_excel(writer, sheet_name='Sheet1')\n",
    "writer.save()"
   ]
  },
  {
   "cell_type": "code",
   "execution_count": 13,
   "metadata": {},
   "outputs": [
    {
     "data": {
      "text/html": [
       "<div>\n",
       "<style scoped>\n",
       "    .dataframe tbody tr th:only-of-type {\n",
       "        vertical-align: middle;\n",
       "    }\n",
       "\n",
       "    .dataframe tbody tr th {\n",
       "        vertical-align: top;\n",
       "    }\n",
       "\n",
       "    .dataframe thead th {\n",
       "        text-align: right;\n",
       "    }\n",
       "</style>\n",
       "<table border=\"1\" class=\"dataframe\">\n",
       "  <thead>\n",
       "    <tr style=\"text-align: right;\">\n",
       "      <th></th>\n",
       "      <th>sentence</th>\n",
       "      <th>contract_name</th>\n",
       "      <th>label</th>\n",
       "    </tr>\n",
       "  </thead>\n",
       "  <tbody>\n",
       "    <tr>\n",
       "      <th>0</th>\n",
       "      <td>15 2 Contractor shall have the right to conduc...</td>\n",
       "      <td>contract-1565751418721</td>\n",
       "      <td>1</td>\n",
       "    </tr>\n",
       "    <tr>\n",
       "      <th>1</th>\n",
       "      <td>BOOKS AND RECORDS 15 1 Don Polly shall keep co...</td>\n",
       "      <td>contract-1565751418721</td>\n",
       "      <td>0</td>\n",
       "    </tr>\n",
       "    <tr>\n",
       "      <th>2</th>\n",
       "      <td>Such books of account and records shall be ret...</td>\n",
       "      <td>contract-1565751418721</td>\n",
       "      <td>0</td>\n",
       "    </tr>\n",
       "    <tr>\n",
       "      <th>3</th>\n",
       "      <td>Don Polly will reimburse Contractor for all bu...</td>\n",
       "      <td>contract-1565751418721</td>\n",
       "      <td>0</td>\n",
       "    </tr>\n",
       "    <tr>\n",
       "      <th>4</th>\n",
       "      <td>Contractor further agrees to sign, upon 72 hou...</td>\n",
       "      <td>contract-1565751418721</td>\n",
       "      <td>0</td>\n",
       "    </tr>\n",
       "  </tbody>\n",
       "</table>\n",
       "</div>"
      ],
      "text/plain": [
       "                                            sentence           contract_name  \\\n",
       "0  15 2 Contractor shall have the right to conduc...  contract-1565751418721   \n",
       "1  BOOKS AND RECORDS 15 1 Don Polly shall keep co...  contract-1565751418721   \n",
       "2  Such books of account and records shall be ret...  contract-1565751418721   \n",
       "3  Don Polly will reimburse Contractor for all bu...  contract-1565751418721   \n",
       "4  Contractor further agrees to sign, upon 72 hou...  contract-1565751418721   \n",
       "\n",
       "  label  \n",
       "0     1  \n",
       "1     0  \n",
       "2     0  \n",
       "3     0  \n",
       "4     0  "
      ]
     },
     "execution_count": 13,
     "metadata": {},
     "output_type": "execute_result"
    }
   ],
   "source": [
    "lbl_sent"
   ]
  },
  {
   "cell_type": "code",
   "execution_count": 14,
   "metadata": {},
   "outputs": [],
   "source": [
    "li = [84, 54, 94, 62]"
   ]
  },
  {
   "cell_type": "code",
   "execution_count": 15,
   "metadata": {},
   "outputs": [
    {
     "data": {
      "text/plain": [
       "54"
      ]
     },
     "execution_count": 15,
     "metadata": {},
     "output_type": "execute_result"
    }
   ],
   "source": [
    "li.pop(1)"
   ]
  },
  {
   "cell_type": "code",
   "execution_count": 16,
   "metadata": {},
   "outputs": [
    {
     "data": {
      "text/plain": [
       "[84, 94, 62]"
      ]
     },
     "execution_count": 16,
     "metadata": {},
     "output_type": "execute_result"
    }
   ],
   "source": [
    "li"
   ]
  },
  {
   "cell_type": "code",
   "execution_count": 17,
   "metadata": {},
   "outputs": [
    {
     "data": {
      "text/plain": [
       "['BOOKS AND RECORDS 15 1 Don Polly shall keep complete books of account and records in accordance with generally accepted accounting principles of all activities under this Agreement ',\n",
       " 'Such books of account and records shall be retained by Don Polly and kept available for at least five (5) years after the termination of this Agreement for possible inspection, copying, extracting and/or audit by Contractor ',\n",
       " \"Don Polly will reimburse Contractor for all business expenses which are preapproved in writing by Don Polly and incurred or paid by Contractor in the performance of Contractor' duties and responsibilities for Don Polly \",\n",
       " 'Contractor further agrees to sign, upon 72 hours of request of any Commissioning Don Polly any documents needed to confirm such assignment to Don Polly ']"
      ]
     },
     "execution_count": 17,
     "metadata": {},
     "output_type": "execute_result"
    }
   ],
   "source": [
    "high_match"
   ]
  },
  {
   "cell_type": "code",
   "execution_count": null,
   "metadata": {},
   "outputs": [],
   "source": []
  }
 ],
 "metadata": {
  "kernelspec": {
   "display_name": "Python 3",
   "language": "python",
   "name": "python3"
  },
  "language_info": {
   "codemirror_mode": {
    "name": "ipython",
    "version": 3
   },
   "file_extension": ".py",
   "mimetype": "text/x-python",
   "name": "python",
   "nbconvert_exporter": "python",
   "pygments_lexer": "ipython3",
   "version": "3.6.9"
  }
 },
 "nbformat": 4,
 "nbformat_minor": 4
}
