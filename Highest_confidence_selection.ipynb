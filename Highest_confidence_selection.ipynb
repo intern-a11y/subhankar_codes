{
 "cells": [
  {
   "cell_type": "code",
   "execution_count": 11,
   "metadata": {},
   "outputs": [],
   "source": [
    "temp_list = [{'sentence': ' Exhibit 10.32                                      Equipment Lease Agreement                                          “Mini Melts” Vending Machines This Equipment Lease Agreement (“Agreement”) is made and entered into eﬀective as of October 21, 2014 (the “Eﬀective Date”) by and between:         PERKIN INDUSTRIES, LLC, a Louisiana limited liability company having its principal place of         business at 342 Walnut Street, New Orleans, Louisiana, 70118 (“Lessor”); and         U-VEND, INC. (OTC: UVND), a Delaware corporation, with its principal place of business located at:         1507 7th Street, Unit 425, Santa Monica, CA 90401 (“Lessee”).',\n",
    "  'class': 'venue_jurisdiction',\n",
    "  'accuracy': 0.8475545644760132},\n",
    " {'sentence': ' Exhibit 10.32                                      Equipment Lease Agreement                                          “Mini Melts” Vending Machines This Equipment Lease Agreement (“Agreement”) is made and entered into eﬀective as of October 21, 2014 (the “Eﬀective Date”) by and between:         PERKIN INDUSTRIES, LLC, a Louisiana limited liability company having its principal place of         business at 342 Walnut Street, New Orleans, Louisiana, 70118 (“Lessor”); and         U-VEND, INC. (OTC: UVND), a Delaware corporation, with its principal place of business located at:         1507 7th Street, Unit 425, Santa Monica, CA 90401 (“Lessee”).',\n",
    "  'class': 'venue_jurisdiction',\n",
    "  'accuracy': 0.8475545644760132},\n",
    " {'sentence': ' Exhibit 10.32                                      Equipment Lease Agreement                                          “Mini Melts” Vending Machines This Equipment Lease Agreement (“Agreement”) is made and entered into eﬀective as of October 21, 2014 (the “Eﬀective Date”) by and between:         PERKIN INDUSTRIES, LLC, a Louisiana limited liability company having its principal place of         business at 342 Walnut Street, New Orleans, Louisiana, 70118 (“Lessor”); and         U-VEND, INC. (OTC: UVND), a Delaware corporation, with its principal place of business located at:         1507 7th Street, Unit 425, Santa Monica, CA 90401 (“Lessee”).',\n",
    "  'class': 'venue_jurisdiction',\n",
    "  'accuracy': 0.8475545644760132},\n",
    " {'sentence': ' Exhibit 10.32                                      Equipment Lease Agreement                                          “Mini Melts” Vending Machines This Equipment Lease Agreement (“Agreement”) is made and entered into eﬀective as of October 21, 2014 (the “Eﬀective Date”) by and between:         PERKIN INDUSTRIES, LLC, a Louisiana limited liability company having its principal place of         business at 342 Walnut Street, New Orleans, Louisiana, 70118 (“Lessor”); and         U-VEND, INC. (OTC: UVND), a Delaware corporation, with its principal place of business located at:         1507 7th Street, Unit 425, Santa Monica, CA 90401 (“Lessee”).',\n",
    "  'class': 'venue_jurisdiction',\n",
    "  'accuracy': 0.8475545644760132},\n",
    " {'sentence': 'All payments of Rent and any applicable late charges shall be made to: Perkin Industries, LLC 342 Walnut Street New Orleans, LA 70118         4.3         If Lessee fails to make any payment of Rent within ﬁve (5) days of the date then due, Lessee shall pay to Lessor a late charge in the sum of THREE HUNDRED DOLLARS and NO/100 ($300.00).',\n",
    "  'class': 'venue_jurisdiction',\n",
    "  'accuracy': 0.5694546699523926},\n",
    " {'sentence': '10.2           The Lessee shall also take out and maintain insurance coverage on the Equipment to protect against loss, destruction or damage to the Equipment by burglary, theft, misuse, mischief, malicious damages, ﬂood, ﬁre, storm, earthquake, other water damage, sprinkler leakage, act of god, tempest, explosion, aircraft or other aerial devices (including any articles dropped there from), strikes, riots, civil commotion and such other risk as Lessor may consider necessary from time to time.',\n",
    "  'class': 'venue_jurisdiction',\n",
    "  'accuracy': 0.7782210111618042},\n",
    " {'sentence': 'Governing Law and Jurisdiction: 14.1          This Agreement shall be exclusively governed by and interpreted in accordance with the laws of Louisiana and will not change unless mutually agreed to between the Parties in writing.',\n",
    "  'class': 'governing_law',\n",
    "  'accuracy': 0.6550183892250061},\n",
    " {'sentence': 'The Parties submit to the non-exclusive jurisdiction of the federal and state courts of Louisiana.',\n",
    "  'class': 'venue_jurisdiction',\n",
    "  'accuracy': 0.8827147483825684},\n",
    "    {'sentence': 'Test1 Parties submit to the non-exclusive jurisdiction of the federal and state courts of Louisiana.',\n",
    "  'class': 'test',\n",
    "  'accuracy': 0.9827147483825684},\n",
    "    {'sentence': 'Test2 Parties submit to the non-exclusive jurisdiction of the federal and state courts of Louisiana.',\n",
    "  'class': 'test',\n",
    "  'accuracy': 0.9927147483825684}]"
   ]
  },
  {
   "cell_type": "code",
   "execution_count": 12,
   "metadata": {},
   "outputs": [],
   "source": [
    "def find_max(temp_list):\n",
    "    class_vals = []\n",
    "    for x in range(len(temp_list)):\n",
    "        class_vals.append(temp_list[x]['class'])\n",
    "    class_vals = set(class_vals)\n",
    "    \n",
    "    dict_max = {}\n",
    "    for val in class_vals:\n",
    "        li = []\n",
    "        for i in range(len(temp_list)):\n",
    "            if temp_list[i]['class'] == val:\n",
    "                li.append(temp_list[i]['accuracy'])\n",
    "        temp_dict = {val:li}\n",
    "        dict_max.update(temp_dict)\n",
    "        \n",
    "    max_list = {}\n",
    "    for vals in class_vals:\n",
    "        mx = max(dict_max[vals])\n",
    "        t_n_dict = {vals:mx}\n",
    "        max_list.update(t_n_dict)\n",
    "    \n",
    "    return_list = []\n",
    "    for k in max_list:\n",
    "        for i in range(len(temp_list)):\n",
    "            if temp_list[i]['class'] == k and temp_list[i]['accuracy'] == max_list[k]:\n",
    "                return_list.append(temp_list[i])\n",
    "            else:\n",
    "                pass\n",
    "    \n",
    "    return(return_list)"
   ]
  },
  {
   "cell_type": "code",
   "execution_count": 15,
   "metadata": {},
   "outputs": [],
   "source": [
    "t = find_max(temp_list)"
   ]
  },
  {
   "cell_type": "code",
   "execution_count": 16,
   "metadata": {},
   "outputs": [
    {
     "data": {
      "text/plain": [
       "[{'sentence': 'Governing Law and Jurisdiction: 14.1          This Agreement shall be exclusively governed by and interpreted in accordance with the laws of Louisiana and will not change unless mutually agreed to between the Parties in writing.',\n",
       "  'class': 'governing_law',\n",
       "  'accuracy': 0.6550183892250061},\n",
       " {'sentence': 'The Parties submit to the non-exclusive jurisdiction of the federal and state courts of Louisiana.',\n",
       "  'class': 'venue_jurisdiction',\n",
       "  'accuracy': 0.8827147483825684},\n",
       " {'sentence': 'Test2 Parties submit to the non-exclusive jurisdiction of the federal and state courts of Louisiana.',\n",
       "  'class': 'test',\n",
       "  'accuracy': 0.9927147483825683}]"
      ]
     },
     "execution_count": 16,
     "metadata": {},
     "output_type": "execute_result"
    }
   ],
   "source": [
    "t"
   ]
  },
  {
   "cell_type": "code",
   "execution_count": null,
   "metadata": {},
   "outputs": [],
   "source": []
  }
 ],
 "metadata": {
  "kernelspec": {
   "display_name": "Python 3",
   "language": "python",
   "name": "python3"
  },
  "language_info": {
   "codemirror_mode": {
    "name": "ipython",
    "version": 3
   },
   "file_extension": ".py",
   "mimetype": "text/x-python",
   "name": "python",
   "nbconvert_exporter": "python",
   "pygments_lexer": "ipython3",
   "version": "3.6.9"
  }
 },
 "nbformat": 4,
 "nbformat_minor": 2
}
