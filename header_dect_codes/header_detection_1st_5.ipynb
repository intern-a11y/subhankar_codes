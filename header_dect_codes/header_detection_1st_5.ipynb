{
 "cells": [
  {
   "cell_type": "code",
   "execution_count": 155,
   "metadata": {},
   "outputs": [],
   "source": [
    "import re\n",
    "import csv\n",
    "import os"
   ]
  },
  {
   "cell_type": "code",
   "execution_count": 156,
   "metadata": {},
   "outputs": [],
   "source": [
    "rootdir = '/home/xelpmoc/Desktop/contracts/cons/'"
   ]
  },
  {
   "cell_type": "code",
   "execution_count": 157,
   "metadata": {},
   "outputs": [],
   "source": [
    "test_re=re.compile(\"(font-family[^\\<]*)\")\n",
    "str_ch = re.compile(\"^([\\s\\d\\/\\.]+)$\")\n",
    "header_list = {}\n",
    "for subdir, dirs, files in os.walk(rootdir):\n",
    "    for file in files:\n",
    "        f_n = os.path.join(file)\n",
    "        if '.html' in f_n:\n",
    "            f = open(f_n, \"r\")\n",
    "            s = f.read()\n",
    "            matched_str = test_re.findall(s)\n",
    "            count = 0\n",
    "            con_name = f_n.split('.html')\n",
    "            con_name = con_name[0]\n",
    "            temp_d = {con_name:[]}\n",
    "            header_list.update(temp_d)\n",
    "            count = 0\n",
    "            for match in matched_str:\n",
    "                temp_list = []\n",
    "                match = match.strip(' ')\n",
    "                match = match.split('>')\n",
    "                main_content = match[1]\n",
    "                match = match[0].replace(' ', '')\n",
    "                match = match.split(';')\n",
    "                font_pro = match[0][12:]\n",
    "                font_size = match[1][10:12]\n",
    "                \n",
    "                if 'p' in font_size:\n",
    "                    font_size = font_size.replace('p', '')\n",
    "                else:\n",
    "                    pass\n",
    "                \n",
    "                font_size = int(font_size)\n",
    "                if 'bold' in font_pro or 'Bold' in font_pro and font_size >= 13:\n",
    "                    label = 1\n",
    "#                     temp_list = [main_content, font_pro, font_size, label]\n",
    "#                     header_list[con_name].append(temp_list)\n",
    "                    if 'Exhibit' not in main_content and not(str_ch.findall(main_content)):\n",
    "                        temp_list = [main_content, font_pro, font_size, label]\n",
    "                        header_list[con_name].append(temp_list)\n",
    "                        count = count +1\n",
    "                    else:\n",
    "                        pass\n",
    "                else:\n",
    "                    pass\n",
    "                \n",
    "                if count == 5:\n",
    "                    break\n",
    "                else:\n",
    "                    pass                "
   ]
  },
  {
   "cell_type": "code",
   "execution_count": 158,
   "metadata": {},
   "outputs": [
    {
     "data": {
      "text/plain": [
       "'dataset_creation_code-Copy1-checkpoint.ipynb'"
      ]
     },
     "execution_count": 158,
     "metadata": {},
     "output_type": "execute_result"
    }
   ],
   "source": [
    "f_n"
   ]
  },
  {
   "cell_type": "code",
   "execution_count": 159,
   "metadata": {},
   "outputs": [
    {
     "data": {
      "text/plain": [
       "558"
      ]
     },
     "execution_count": 159,
     "metadata": {},
     "output_type": "execute_result"
    }
   ],
   "source": [
    "len(header_list)"
   ]
  },
  {
   "cell_type": "code",
   "execution_count": 161,
   "metadata": {},
   "outputs": [
    {
     "data": {
      "text/plain": [
       "5"
      ]
     },
     "execution_count": 161,
     "metadata": {},
     "output_type": "execute_result"
    }
   ],
   "source": [
    "len(header_list['LIServicesNuGeneKathyIrelandWorldwide'])"
   ]
  },
  {
   "cell_type": "code",
   "execution_count": 162,
   "metadata": {},
   "outputs": [
    {
     "data": {
      "text/plain": [
       "[['SERVICES AGREEMENT\\n', 'DejaVuSerif-Bold', 15, 1],\n",
       " ['NUGENE  INC.  (“NuGene”  or  “NG”),  a  California  corporation  that  is  a  wholly  owned\\n',\n",
       "  'DejaVuSerif-Bold',\n",
       "  15,\n",
       "  1],\n",
       " ['KBHJJ,', 'DejaVuSerif-Bold', 15, 1],\n",
       " ['LLC  (“KBHJJ”)', 'DejaVuSerif-Bold', 15, 1],\n",
       " ['WHEREAS', 'DejaVuSerif-Bold', 15, 1]]"
      ]
     },
     "execution_count": 162,
     "metadata": {},
     "output_type": "execute_result"
    }
   ],
   "source": [
    "header_list['LIServicesNuGeneKathyIrelandWorldwide']"
   ]
  },
  {
   "cell_type": "code",
   "execution_count": 28,
   "metadata": {},
   "outputs": [],
   "source": [
    "f = open(\"test13.html\", \"r\")"
   ]
  },
  {
   "cell_type": "code",
   "execution_count": 29,
   "metadata": {},
   "outputs": [],
   "source": [
    "s = f.read()"
   ]
  },
  {
   "cell_type": "code",
   "execution_count": 43,
   "metadata": {},
   "outputs": [],
   "source": [
    "h_d = {}"
   ]
  },
  {
   "cell_type": "code",
   "execution_count": 44,
   "metadata": {},
   "outputs": [],
   "source": [
    "l= [1,2,4]"
   ]
  },
  {
   "cell_type": "code",
   "execution_count": 45,
   "metadata": {},
   "outputs": [
    {
     "ename": "SyntaxError",
     "evalue": "invalid syntax (<ipython-input-45-02e27399557b>, line 1)",
     "output_type": "error",
     "traceback": [
      "\u001b[0;36m  File \u001b[0;32m\"<ipython-input-45-02e27399557b>\"\u001b[0;36m, line \u001b[0;32m1\u001b[0m\n\u001b[0;31m    h_d.update('s':l)\u001b[0m\n\u001b[0m                  ^\u001b[0m\n\u001b[0;31mSyntaxError\u001b[0m\u001b[0;31m:\u001b[0m invalid syntax\n"
     ]
    }
   ],
   "source": [
    "h_d.update('s':l)"
   ]
  },
  {
   "cell_type": "code",
   "execution_count": 46,
   "metadata": {},
   "outputs": [],
   "source": [
    "h_d= {'s':[]}"
   ]
  },
  {
   "cell_type": "code",
   "execution_count": 49,
   "metadata": {},
   "outputs": [],
   "source": [
    "h_d['s'].append(l)"
   ]
  },
  {
   "cell_type": "code",
   "execution_count": 50,
   "metadata": {},
   "outputs": [
    {
     "data": {
      "text/plain": [
       "{'s': [[1, 2, 4]]}"
      ]
     },
     "execution_count": 50,
     "metadata": {},
     "output_type": "execute_result"
    }
   ],
   "source": [
    "h_d"
   ]
  },
  {
   "cell_type": "code",
   "execution_count": 80,
   "metadata": {},
   "outputs": [],
   "source": [
    "main_content = '7454545gbgvgv'"
   ]
  },
  {
   "cell_type": "code",
   "execution_count": 81,
   "metadata": {},
   "outputs": [],
   "source": [
    "str_ch = re.compile(\"^([\\s\\d\\/\\.]+)$\")"
   ]
  },
  {
   "cell_type": "code",
   "execution_count": 82,
   "metadata": {},
   "outputs": [],
   "source": [
    "matched_str = str_ch.findall(main_content)"
   ]
  },
  {
   "cell_type": "code",
   "execution_count": 83,
   "metadata": {},
   "outputs": [
    {
     "data": {
      "text/plain": [
       "[]"
      ]
     },
     "execution_count": 83,
     "metadata": {},
     "output_type": "execute_result"
    }
   ],
   "source": [
    "matched_str"
   ]
  },
  {
   "cell_type": "code",
   "execution_count": 84,
   "metadata": {},
   "outputs": [
    {
     "name": "stdout",
     "output_type": "stream",
     "text": [
      "True\n"
     ]
    }
   ],
   "source": [
    "if not(str_ch.findall(main_content)):\n",
    "    print(\"True\")"
   ]
  },
  {
   "cell_type": "code",
   "execution_count": null,
   "metadata": {},
   "outputs": [],
   "source": []
  }
 ],
 "metadata": {
  "kernelspec": {
   "display_name": "Python 3",
   "language": "python",
   "name": "python3"
  },
  "language_info": {
   "codemirror_mode": {
    "name": "ipython",
    "version": 3
   },
   "file_extension": ".py",
   "mimetype": "text/x-python",
   "name": "python",
   "nbconvert_exporter": "python",
   "pygments_lexer": "ipython3",
   "version": "3.6.9"
  }
 },
 "nbformat": 4,
 "nbformat_minor": 2
}
