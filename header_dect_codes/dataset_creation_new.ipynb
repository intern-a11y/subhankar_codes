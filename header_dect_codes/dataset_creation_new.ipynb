{
 "cells": [
  {
   "cell_type": "code",
   "execution_count": 1,
   "metadata": {},
   "outputs": [],
   "source": [
    "import re\n",
    "import csv\n",
    "import os"
   ]
  },
  {
   "cell_type": "code",
   "execution_count": 2,
   "metadata": {},
   "outputs": [],
   "source": [
    "rootdir = '/home/xelpmoc/Desktop/contracts/cons/'"
   ]
  },
  {
   "cell_type": "code",
   "execution_count": 3,
   "metadata": {},
   "outputs": [],
   "source": [
    "test_re=re.compile(\"(font-family[^\\<]*)\")\n",
    "str_ch = re.compile(\"^([\\s\\d\\/\\.]+)$\")\n",
    "header_list = []\n",
    "for subdir, dirs, files in os.walk(rootdir):\n",
    "    for file in files:\n",
    "        f_n = os.path.join(file)\n",
    "        if '.html' in f_n:\n",
    "            f = open(f_n, \"r\")\n",
    "            s = f.read()\n",
    "            s = s.strip('\\n')\n",
    "            s = s.replace('\\n','')\n",
    "            matched_str = test_re.findall(s)\n",
    "            count = 0\n",
    "            for match in matched_str:\n",
    "                temp_list = []\n",
    "                match = match.strip(' ')\n",
    "                match = match.split('>')\n",
    "                main_content = match[1]\n",
    "                match = match[0].replace(' ', '')\n",
    "                match = match.split(';')\n",
    "                font_pro = match[0][12:]\n",
    "                font_size = match[1][10:12]\n",
    "                \n",
    "                if 'p' in font_size:\n",
    "                    font_size = font_size.replace('p', '')\n",
    "                else:\n",
    "                    pass\n",
    "                \n",
    "                font_size = int(font_size)\n",
    "                if 'bold' in font_pro or 'Bold' in font_pro and font_size >= 13:\n",
    "                    label = 1\n",
    "#                     temp_list = [main_content, font_pro, font_size, label]\n",
    "#                     header_list[con_name].append(temp_list)\n",
    "                else:\n",
    "                    label = 0\n",
    "                \n",
    "                \n",
    "                if 'Exhibit' not in main_content and not(str_ch.findall(main_content)):\n",
    "                    temp_list = [main_content, font_pro, font_size, label]\n",
    "                    header_list.append(temp_list)\n",
    "                else:\n",
    "                    pass"
   ]
  },
  {
   "cell_type": "code",
   "execution_count": 6,
   "metadata": {},
   "outputs": [],
   "source": [
    "with open('new_pdf_data.csv', 'w') as csvfile:\n",
    "    writer = csv.writer(csvfile)\n",
    "    row = ['content', 'font_pro', 'font_size', 'label']\n",
    "    writer.writerow(row)\n",
    "    for x in header_list:\n",
    "        row = x\n",
    "        writer.writerow(row)\n",
    "csvfile.close()"
   ]
  },
  {
   "cell_type": "code",
   "execution_count": null,
   "metadata": {},
   "outputs": [],
   "source": []
  }
 ],
 "metadata": {
  "kernelspec": {
   "display_name": "Python 3",
   "language": "python",
   "name": "python3"
  },
  "language_info": {
   "codemirror_mode": {
    "name": "ipython",
    "version": 3
   },
   "file_extension": ".py",
   "mimetype": "text/x-python",
   "name": "python",
   "nbconvert_exporter": "python",
   "pygments_lexer": "ipython3",
   "version": "3.6.9"
  }
 },
 "nbformat": 4,
 "nbformat_minor": 2
}
