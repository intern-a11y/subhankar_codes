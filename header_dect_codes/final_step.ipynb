{
 "cells": [
  {
   "cell_type": "code",
   "execution_count": 1,
   "metadata": {},
   "outputs": [],
   "source": [
    "import pandas as pd\n",
    "import numpy as np\n",
    "from nltk import word_tokenize, pos_tag, pos_tag_sents\n",
    "from sklearn.model_selection import train_test_split\n",
    "from sklearn.linear_model import LogisticRegression\n",
    "from sklearn.tree import DecisionTreeClassifier\n",
    "from sklearn.preprocessing import LabelEncoder\n",
    "from sklearn.feature_extraction.text import CountVectorizer\n",
    "from imblearn.over_sampling import SMOTE\n",
    "from sklearn.metrics import confusion_matrix, classification_report, accuracy_score"
   ]
  },
  {
   "cell_type": "code",
   "execution_count": 2,
   "metadata": {},
   "outputs": [],
   "source": [
    "df = pd.read_csv(\"possible_cleaned_data.csv\")"
   ]
  },
  {
   "cell_type": "code",
   "execution_count": 3,
   "metadata": {},
   "outputs": [
    {
     "data": {
      "text/html": [
       "<div>\n",
       "<style scoped>\n",
       "    .dataframe tbody tr th:only-of-type {\n",
       "        vertical-align: middle;\n",
       "    }\n",
       "\n",
       "    .dataframe tbody tr th {\n",
       "        vertical-align: top;\n",
       "    }\n",
       "\n",
       "    .dataframe thead th {\n",
       "        text-align: right;\n",
       "    }\n",
       "</style>\n",
       "<table border=\"1\" class=\"dataframe\">\n",
       "  <thead>\n",
       "    <tr style=\"text-align: right;\">\n",
       "      <th></th>\n",
       "      <th>content</th>\n",
       "      <th>font_pro</th>\n",
       "      <th>font_size</th>\n",
       "      <th>label</th>\n",
       "    </tr>\n",
       "  </thead>\n",
       "  <tbody>\n",
       "    <tr>\n",
       "      <th>0</th>\n",
       "      <td>SERVICES AGREEMENT</td>\n",
       "      <td>DejaVuSerif-Bold</td>\n",
       "      <td>15</td>\n",
       "      <td>1</td>\n",
       "    </tr>\n",
       "    <tr>\n",
       "      <th>1</th>\n",
       "      <td>THIS SERVICES AGREEMENT (this “Agreement”), eﬀ...</td>\n",
       "      <td>DejaVuSerif</td>\n",
       "      <td>14</td>\n",
       "      <td>0</td>\n",
       "    </tr>\n",
       "    <tr>\n",
       "      <th>2</th>\n",
       "      <td>NUGENE  INC.  (“NuGene”  or  “NG”),  a  Califo...</td>\n",
       "      <td>DejaVuSerif-Bold</td>\n",
       "      <td>15</td>\n",
       "      <td>1</td>\n",
       "    </tr>\n",
       "    <tr>\n",
       "      <th>3</th>\n",
       "      <td>;  and</td>\n",
       "      <td>DejaVuSerif</td>\n",
       "      <td>14</td>\n",
       "      <td>0</td>\n",
       "    </tr>\n",
       "    <tr>\n",
       "      <th>4</th>\n",
       "      <td>KBHJJ,</td>\n",
       "      <td>DejaVuSerif-Bold</td>\n",
       "      <td>15</td>\n",
       "      <td>1</td>\n",
       "    </tr>\n",
       "    <tr>\n",
       "      <th>...</th>\n",
       "      <td>...</td>\n",
       "      <td>...</td>\n",
       "      <td>...</td>\n",
       "      <td>...</td>\n",
       "    </tr>\n",
       "    <tr>\n",
       "      <th>202025</th>\n",
       "      <td>levels set</td>\n",
       "      <td>DejaVuSans</td>\n",
       "      <td>20</td>\n",
       "      <td>0</td>\n",
       "    </tr>\n",
       "    <tr>\n",
       "      <th>202026</th>\n",
       "      <td>June 30, 2005 grant date, a 12.5% equity award...</td>\n",
       "      <td>DejaVuSans</td>\n",
       "      <td>20</td>\n",
       "      <td>0</td>\n",
       "    </tr>\n",
       "    <tr>\n",
       "      <th>202027</th>\n",
       "      <td>full upon the Executive's termination for any ...</td>\n",
       "      <td>DejaVuSans</td>\n",
       "      <td>20</td>\n",
       "      <td>0</td>\n",
       "    </tr>\n",
       "    <tr>\n",
       "      <th>202028</th>\n",
       "      <td>Bonus</td>\n",
       "      <td>DejaVuSans</td>\n",
       "      <td>20</td>\n",
       "      <td>0</td>\n",
       "    </tr>\n",
       "    <tr>\n",
       "      <th>202029</th>\n",
       "      <td>-- MICHAEL KARPHEDEN Signed: /s/ Hakan Wretsel...</td>\n",
       "      <td>DejaVuSans</td>\n",
       "      <td>20</td>\n",
       "      <td>0</td>\n",
       "    </tr>\n",
       "  </tbody>\n",
       "</table>\n",
       "<p>202030 rows × 4 columns</p>\n",
       "</div>"
      ],
      "text/plain": [
       "                                                  content          font_pro  \\\n",
       "0                                      SERVICES AGREEMENT  DejaVuSerif-Bold   \n",
       "1       THIS SERVICES AGREEMENT (this “Agreement”), eﬀ...       DejaVuSerif   \n",
       "2       NUGENE  INC.  (“NuGene”  or  “NG”),  a  Califo...  DejaVuSerif-Bold   \n",
       "3                                                  ;  and       DejaVuSerif   \n",
       "4                                                  KBHJJ,  DejaVuSerif-Bold   \n",
       "...                                                   ...               ...   \n",
       "202025                                         levels set        DejaVuSans   \n",
       "202026  June 30, 2005 grant date, a 12.5% equity award...        DejaVuSans   \n",
       "202027  full upon the Executive's termination for any ...        DejaVuSans   \n",
       "202028                                              Bonus        DejaVuSans   \n",
       "202029  -- MICHAEL KARPHEDEN Signed: /s/ Hakan Wretsel...        DejaVuSans   \n",
       "\n",
       "        font_size  label  \n",
       "0              15      1  \n",
       "1              14      0  \n",
       "2              15      1  \n",
       "3              14      0  \n",
       "4              15      1  \n",
       "...           ...    ...  \n",
       "202025         20      0  \n",
       "202026         20      0  \n",
       "202027         20      0  \n",
       "202028         20      0  \n",
       "202029         20      0  \n",
       "\n",
       "[202030 rows x 4 columns]"
      ]
     },
     "execution_count": 3,
     "metadata": {},
     "output_type": "execute_result"
    }
   ],
   "source": [
    "df"
   ]
  },
  {
   "cell_type": "code",
   "execution_count": 4,
   "metadata": {},
   "outputs": [
    {
     "name": "stdout",
     "output_type": "stream",
     "text": [
      "<class 'pandas.core.frame.DataFrame'>\n",
      "RangeIndex: 202030 entries, 0 to 202029\n",
      "Data columns (total 4 columns):\n",
      "content      202030 non-null object\n",
      "font_pro     202030 non-null object\n",
      "font_size    202030 non-null int64\n",
      "label        202030 non-null int64\n",
      "dtypes: int64(2), object(2)\n",
      "memory usage: 6.2+ MB\n"
     ]
    }
   ],
   "source": [
    "df.info()"
   ]
  },
  {
   "cell_type": "code",
   "execution_count": 5,
   "metadata": {},
   "outputs": [
    {
     "data": {
      "text/plain": [
       "0                                        SERVICES AGREEMENT\n",
       "1         THIS SERVICES AGREEMENT (this “Agreement”), eﬀ...\n",
       "2         NUGENE  INC.  (“NuGene”  or  “NG”),  a  Califo...\n",
       "3                                                    ;  and\n",
       "4                                                    KBHJJ,\n",
       "                                ...                        \n",
       "202025                                           levels set\n",
       "202026    June 30, 2005 grant date, a 12.5% equity award...\n",
       "202027    full upon the Executive's termination for any ...\n",
       "202028                                                Bonus\n",
       "202029    -- MICHAEL KARPHEDEN Signed: /s/ Hakan Wretsel...\n",
       "Name: content, Length: 202030, dtype: object"
      ]
     },
     "execution_count": 5,
     "metadata": {},
     "output_type": "execute_result"
    }
   ],
   "source": [
    "df['content']"
   ]
  },
  {
   "cell_type": "code",
   "execution_count": 6,
   "metadata": {},
   "outputs": [],
   "source": [
    "texts = df['content'].tolist()"
   ]
  },
  {
   "cell_type": "code",
   "execution_count": 7,
   "metadata": {},
   "outputs": [],
   "source": [
    "tagged_texts = pos_tag_sents(map(word_tokenize, texts))        # parts of speech tagging"
   ]
  },
  {
   "cell_type": "code",
   "execution_count": 8,
   "metadata": {},
   "outputs": [],
   "source": [
    "df['POS'] = tagged_texts"
   ]
  },
  {
   "cell_type": "code",
   "execution_count": 9,
   "metadata": {},
   "outputs": [],
   "source": [
    "X = pd.DataFrame(df, columns=['POS', 'font_pro', 'font_size'])"
   ]
  },
  {
   "cell_type": "code",
   "execution_count": 10,
   "metadata": {},
   "outputs": [
    {
     "name": "stderr",
     "output_type": "stream",
     "text": [
      "/home/xelpmoc/.local/lib/python3.6/site-packages/ipykernel_launcher.py:2: SettingWithCopyWarning: \n",
      "A value is trying to be set on a copy of a slice from a DataFrame\n",
      "\n",
      "See the caveats in the documentation: http://pandas.pydata.org/pandas-docs/stable/user_guide/indexing.html#returning-a-view-versus-a-copy\n",
      "  \n"
     ]
    }
   ],
   "source": [
    "for x in range(len(X)):\n",
    "    X['POS'][x] = str(X['POS'][x])"
   ]
  },
  {
   "cell_type": "code",
   "execution_count": 11,
   "metadata": {},
   "outputs": [],
   "source": [
    "le = LabelEncoder()\n",
    "X.POS = le.fit_transform(X.POS)\n",
    "X.font_pro = le.fit_transform(X.font_pro)\n",
    "X.font_size = le.fit_transform(X.font_size)"
   ]
  },
  {
   "cell_type": "code",
   "execution_count": 12,
   "metadata": {},
   "outputs": [],
   "source": [
    "y = pd.DataFrame(df, columns=['label'])"
   ]
  },
  {
   "cell_type": "code",
   "execution_count": 13,
   "metadata": {},
   "outputs": [],
   "source": [
    "X_train, X_test, y_train, y_test = train_test_split(X, y, test_size = 0.3, random_state = 0)"
   ]
  },
  {
   "cell_type": "code",
   "execution_count": 14,
   "metadata": {},
   "outputs": [],
   "source": [
    "# x_train = CountVectorizer(tokenizer=lambda doc: doc, lowercase=False).fit_transform(x_train)\n",
    "# x_test = CountVectorizer(tokenizer=lambda doc: doc, lowercase=False).fit_transform(x_test)\n",
    "# y_train = CountVectorizer(tokenizer=lambda doc: doc, lowercase=False).fit_transform(y_train)\n",
    "# y_test = CountVectorizer(tokenizer=lambda doc: doc, lowercase=False).fit_transform(y_test)"
   ]
  },
  {
   "cell_type": "code",
   "execution_count": 15,
   "metadata": {},
   "outputs": [],
   "source": [
    "# x_train = x_train.toarray()\n",
    "# x_test = x_test.toarray()\n",
    "# y_train = y_train.toarray()\n",
    "# y_test = y_test.toarray()"
   ]
  },
  {
   "cell_type": "code",
   "execution_count": 16,
   "metadata": {},
   "outputs": [],
   "source": [
    "# encoder = LabelEncoder()\n",
    "# encoder.fit(x_train)"
   ]
  },
  {
   "cell_type": "code",
   "execution_count": 17,
   "metadata": {},
   "outputs": [],
   "source": [
    "# y_train = encoder.transform(y_train)\n",
    "# y_test = encoder.transform(y_test)"
   ]
  },
  {
   "cell_type": "code",
   "execution_count": 18,
   "metadata": {},
   "outputs": [],
   "source": [
    "treeclf = DecisionTreeClassifier(criterion = \"gini\", splitter = \"best\", min_samples_split = 2, min_samples_leaf = 3)"
   ]
  },
  {
   "cell_type": "code",
   "execution_count": 19,
   "metadata": {},
   "outputs": [
    {
     "data": {
      "text/plain": [
       "DecisionTreeClassifier(ccp_alpha=0.0, class_weight=None, criterion='gini',\n",
       "                       max_depth=None, max_features=None, max_leaf_nodes=None,\n",
       "                       min_impurity_decrease=0.0, min_impurity_split=None,\n",
       "                       min_samples_leaf=3, min_samples_split=2,\n",
       "                       min_weight_fraction_leaf=0.0, presort='deprecated',\n",
       "                       random_state=None, splitter='best')"
      ]
     },
     "execution_count": 19,
     "metadata": {},
     "output_type": "execute_result"
    }
   ],
   "source": [
    "treeclf.fit(X_train, y_train)"
   ]
  },
  {
   "cell_type": "code",
   "execution_count": 20,
   "metadata": {},
   "outputs": [],
   "source": [
    "predictions = treeclf.predict(X_test)"
   ]
  },
  {
   "cell_type": "code",
   "execution_count": 21,
   "metadata": {},
   "outputs": [
    {
     "name": "stdout",
     "output_type": "stream",
     "text": [
      "              precision    recall  f1-score   support\n",
      "\n",
      "           0       1.00      1.00      1.00     49881\n",
      "           1       1.00      1.00      1.00     10728\n",
      "\n",
      "    accuracy                           1.00     60609\n",
      "   macro avg       1.00      1.00      1.00     60609\n",
      "weighted avg       1.00      1.00      1.00     60609\n",
      "\n"
     ]
    }
   ],
   "source": [
    "print(classification_report(y_test, predictions))"
   ]
  },
  {
   "cell_type": "code",
   "execution_count": 22,
   "metadata": {},
   "outputs": [],
   "source": [
    "accuracy = accuracy_score(predictions, y_test)                             # before over sampling"
   ]
  },
  {
   "cell_type": "code",
   "execution_count": 23,
   "metadata": {},
   "outputs": [
    {
     "data": {
      "text/plain": [
       "0.9999835008002111"
      ]
     },
     "execution_count": 23,
     "metadata": {},
     "output_type": "execute_result"
    }
   ],
   "source": [
    "accuracy"
   ]
  },
  {
   "cell_type": "code",
   "execution_count": 24,
   "metadata": {},
   "outputs": [],
   "source": [
    "y_train_series = y_train.iloc[:,0]"
   ]
  },
  {
   "cell_type": "code",
   "execution_count": 25,
   "metadata": {},
   "outputs": [],
   "source": [
    "sm = SMOTE(random_state = 42)"
   ]
  },
  {
   "cell_type": "code",
   "execution_count": 26,
   "metadata": {},
   "outputs": [],
   "source": [
    "X_train_res, y_train_res = sm.fit_resample(X_train, y_train_series)        # Over Smapling using SMOTE"
   ]
  },
  {
   "cell_type": "code",
   "execution_count": 27,
   "metadata": {
    "scrolled": true
   },
   "outputs": [
    {
     "data": {
      "text/plain": [
       "DecisionTreeClassifier(ccp_alpha=0.0, class_weight=None, criterion='gini',\n",
       "                       max_depth=None, max_features=None, max_leaf_nodes=None,\n",
       "                       min_impurity_decrease=0.0, min_impurity_split=None,\n",
       "                       min_samples_leaf=3, min_samples_split=2,\n",
       "                       min_weight_fraction_leaf=0.0, presort='deprecated',\n",
       "                       random_state=None, splitter='best')"
      ]
     },
     "execution_count": 27,
     "metadata": {},
     "output_type": "execute_result"
    }
   ],
   "source": [
    "treeclf.fit(X_train_res, y_train_res)"
   ]
  },
  {
   "cell_type": "code",
   "execution_count": 28,
   "metadata": {},
   "outputs": [],
   "source": [
    "predictions = treeclf.predict(X_test)"
   ]
  },
  {
   "cell_type": "code",
   "execution_count": 29,
   "metadata": {},
   "outputs": [],
   "source": [
    "accuracy = accuracy_score(predictions, y_test)"
   ]
  },
  {
   "cell_type": "code",
   "execution_count": 31,
   "metadata": {},
   "outputs": [
    {
     "data": {
      "text/plain": [
       "0.9943737728720157"
      ]
     },
     "execution_count": 31,
     "metadata": {},
     "output_type": "execute_result"
    }
   ],
   "source": [
    "accuracy"
   ]
  },
  {
   "cell_type": "code",
   "execution_count": 59,
   "metadata": {},
   "outputs": [
    {
     "data": {
      "text/plain": [
       "array([0, 0, 0, ..., 1, 1, 1])"
      ]
     },
     "execution_count": 59,
     "metadata": {},
     "output_type": "execute_result"
    }
   ],
   "source": [
    "predictions"
   ]
  },
  {
   "cell_type": "code",
   "execution_count": null,
   "metadata": {},
   "outputs": [],
   "source": [
    "# Below code is for testing."
   ]
  },
  {
   "cell_type": "code",
   "execution_count": 109,
   "metadata": {},
   "outputs": [],
   "source": [
    "df_test = pd.read_csv(\"possible_cleaned_test_data.csv\")"
   ]
  },
  {
   "cell_type": "code",
   "execution_count": 110,
   "metadata": {},
   "outputs": [],
   "source": [
    "texts = df_test['content'].tolist()"
   ]
  },
  {
   "cell_type": "code",
   "execution_count": 111,
   "metadata": {},
   "outputs": [],
   "source": [
    "tagged_texts = pos_tag_sents(map(word_tokenize, texts))"
   ]
  },
  {
   "cell_type": "code",
   "execution_count": 112,
   "metadata": {},
   "outputs": [],
   "source": [
    "df_test['POS'] = tagged_texts"
   ]
  },
  {
   "cell_type": "code",
   "execution_count": 113,
   "metadata": {},
   "outputs": [],
   "source": [
    "X = pd.DataFrame(df_test, columns=['POS', 'font_pro', 'font_size'])"
   ]
  },
  {
   "cell_type": "code",
   "execution_count": 114,
   "metadata": {},
   "outputs": [
    {
     "name": "stderr",
     "output_type": "stream",
     "text": [
      "/home/xelpmoc/.local/lib/python3.6/site-packages/ipykernel_launcher.py:2: SettingWithCopyWarning: \n",
      "A value is trying to be set on a copy of a slice from a DataFrame\n",
      "\n",
      "See the caveats in the documentation: http://pandas.pydata.org/pandas-docs/stable/user_guide/indexing.html#returning-a-view-versus-a-copy\n",
      "  \n"
     ]
    }
   ],
   "source": [
    "for x in range(len(X)):\n",
    "    X['POS'][x] = str(X['POS'][x])"
   ]
  },
  {
   "cell_type": "code",
   "execution_count": 116,
   "metadata": {},
   "outputs": [],
   "source": [
    "# le = LabelEncoder()\n",
    "X.POS = le.fit_transform(X.POS)\n",
    "# X.font_pro = le.fit_transform(X.font_pro)\n",
    "# X.font_size = le.fit_transform(X.font_size)"
   ]
  },
  {
   "cell_type": "code",
   "execution_count": 117,
   "metadata": {},
   "outputs": [],
   "source": [
    "test_pre = treeclf.predict(X)"
   ]
  },
  {
   "cell_type": "code",
   "execution_count": 127,
   "metadata": {},
   "outputs": [
    {
     "data": {
      "text/plain": [
       "[\"[(',', ','), ('with', 'IN'), ('the', 'DT'), ('grade', 'NN'), ('lowered', 'VBN'), ('by', 'IN'), ('one', 'CD'), ('grade', 'NN'), (',', ','), ('with', 'IN'), ('a', 'DT'), ('one-day', 'JJ'), ('window', 'NN'), ('.', '.')]\",\n",
       " \"[(',', ','), ('with', 'IN'), ('the', 'DT'), ('grade', 'NN'), ('lowered', 'VBN'), ('by', 'IN'), ('one', 'CD'), ('grade', 'NN'), (',', ','), ('with', 'IN'), ('a', 'DT'), ('one-day', 'JJ'), ('window', 'NN'), ('.', '.')]\",\n",
       " \"[(',', ','), ('with', 'IN'), ('the', 'DT'), ('grade', 'NN'), ('lowered', 'VBN'), ('by', 'IN'), ('one', 'CD'), ('grade', 'NN'), (',', ','), ('with', 'IN'), ('a', 'DT'), ('one-day', 'JJ'), ('window', 'NN'), ('.', '.')]\",\n",
       " \"[(',', ','), ('with', 'IN'), ('the', 'DT'), ('grade', 'NN'), ('lowered', 'VBN'), ('by', 'IN'), ('one', 'CD'), ('grade', 'NN'), (',', ','), ('with', 'IN'), ('a', 'DT'), ('one-day', 'JJ'), ('window', 'NN'), ('.', '.')]\",\n",
       " \"[(',', ','), ('with', 'IN'), ('the', 'DT'), ('grade', 'NN'), ('lowered', 'VBN'), ('by', 'IN'), ('one', 'CD'), ('grade', 'NN'), (',', ','), ('with', 'IN'), ('a', 'DT'), ('one-day', 'JJ'), ('window', 'NN'), ('.', '.')]\",\n",
       " \"[(',', ','), ('with', 'IN'), ('the', 'DT'), ('grade', 'NN'), ('lowered', 'VBN'), ('by', 'IN'), ('one', 'CD'), ('grade', 'NN'), (',', ','), ('with', 'IN'), ('a', 'DT'), ('one-day', 'JJ'), ('window', 'NN'), ('.', '.')]\",\n",
       " \"[(',', ','), ('with', 'IN'), ('the', 'DT'), ('grade', 'NN'), ('lowered', 'VBN'), ('by', 'IN'), ('one', 'CD'), ('grade', 'NN'), (',', ','), ('with', 'IN'), ('a', 'DT'), ('one-day', 'JJ'), ('window', 'NN'), ('.', '.')]\",\n",
       " \"[(',', ','), ('with', 'IN'), ('the', 'DT'), ('grade', 'NN'), ('lowered', 'VBN'), ('by', 'IN'), ('one', 'CD'), ('grade', 'NN'), (',', ','), ('with', 'IN'), ('a', 'DT'), ('one-day', 'JJ'), ('window', 'NN'), ('.', '.')]\",\n",
       " \"[(',', ','), ('with', 'IN'), ('the', 'DT'), ('grade', 'NN'), ('lowered', 'VBN'), ('by', 'IN'), ('one', 'CD'), ('grade', 'NN'), (',', ','), ('with', 'IN'), ('a', 'DT'), ('one-day', 'JJ'), ('window', 'NN'), ('.', '.')]\",\n",
       " \"[(',', ','), ('with', 'IN'), ('the', 'DT'), ('grade', 'NN'), ('lowered', 'VBN'), ('by', 'IN'), ('one', 'CD'), ('grade', 'NN'), (',', ','), ('with', 'IN'), ('a', 'DT'), ('one-day', 'JJ'), ('window', 'NN'), ('.', '.')]\",\n",
       " \"[(',', ','), ('with', 'IN'), ('the', 'DT'), ('grade', 'NN'), ('lowered', 'VBN'), ('by', 'IN'), ('one', 'CD'), ('grade', 'NN'), (',', ','), ('with', 'IN'), ('a', 'DT'), ('one-day', 'JJ'), ('window', 'NN'), ('.', '.')]\",\n",
       " \"[(',', ','), ('with', 'IN'), ('the', 'DT'), ('grade', 'NN'), ('lowered', 'VBN'), ('by', 'IN'), ('one', 'CD'), ('grade', 'NN'), (',', ','), ('with', 'IN'), ('a', 'DT'), ('one-day', 'JJ'), ('window', 'NN'), ('.', '.')]\",\n",
       " \"[(',', ','), ('with', 'IN'), ('the', 'DT'), ('grade', 'NN'), ('lowered', 'VBN'), ('by', 'IN'), ('one', 'CD'), ('grade', 'NN'), (',', ','), ('with', 'IN'), ('a', 'DT'), ('one-day', 'JJ'), ('window', 'NN'), ('.', '.')]\",\n",
       " \"[(',', ','), ('with', 'IN'), ('the', 'DT'), ('grade', 'NN'), ('lowered', 'VBN'), ('by', 'IN'), ('one', 'CD'), ('grade', 'NN'), (',', ','), ('with', 'IN'), ('a', 'DT'), ('one-day', 'JJ'), ('window', 'NN'), ('.', '.')]\",\n",
       " \"[(',', ','), ('with', 'IN'), ('the', 'DT'), ('grade', 'NN'), ('lowered', 'VBN'), ('by', 'IN'), ('one', 'CD'), ('grade', 'NN'), (',', ','), ('with', 'IN'), ('a', 'DT'), ('one-day', 'JJ'), ('window', 'NN'), ('.', '.')]\",\n",
       " \"[(',', ','), ('with', 'IN'), ('the', 'DT'), ('grade', 'NN'), ('lowered', 'VBN'), ('by', 'IN'), ('one', 'CD'), ('grade', 'NN'), (',', ','), ('with', 'IN'), ('a', 'DT'), ('one-day', 'JJ'), ('window', 'NN'), ('.', '.')]\",\n",
       " \"[(',', ','), ('with', 'IN'), ('the', 'DT'), ('grade', 'NN'), ('lowered', 'VBN'), ('by', 'IN'), ('one', 'CD'), ('grade', 'NN'), (',', ','), ('with', 'IN'), ('a', 'DT'), ('one-day', 'JJ'), ('window', 'NN'), ('.', '.')]\",\n",
       " \"[(',', ','), ('with', 'IN'), ('the', 'DT'), ('grade', 'NN'), ('lowered', 'VBN'), ('by', 'IN'), ('one', 'CD'), ('grade', 'NN'), (',', ','), ('with', 'IN'), ('a', 'DT'), ('one-day', 'JJ'), ('window', 'NN'), ('.', '.')]\",\n",
       " \"[(',', ','), ('with', 'IN'), ('the', 'DT'), ('grade', 'NN'), ('lowered', 'VBN'), ('by', 'IN'), ('one', 'CD'), ('grade', 'NN'), (',', ','), ('with', 'IN'), ('a', 'DT'), ('one-day', 'JJ'), ('window', 'NN'), ('.', '.')]\",\n",
       " \"[(',', ','), ('with', 'IN'), ('the', 'DT'), ('grade', 'NN'), ('lowered', 'VBN'), ('by', 'IN'), ('one', 'CD'), ('grade', 'NN'), (',', ','), ('with', 'IN'), ('a', 'DT'), ('one-day', 'JJ'), ('window', 'NN'), ('.', '.')]\",\n",
       " \"[(',', ','), ('with', 'IN'), ('the', 'DT'), ('grade', 'NN'), ('lowered', 'VBN'), ('by', 'IN'), ('one', 'CD'), ('grade', 'NN'), (',', ','), ('with', 'IN'), ('a', 'DT'), ('one-day', 'JJ'), ('window', 'NN'), ('.', '.')]\",\n",
       " \"[(',', ','), ('via', 'IN'), ('my', 'PRP$'), ('email', 'JJ'), ('address', 'NN'), (':', ':')]\",\n",
       " \"[(',', ','), ('with', 'IN'), ('the', 'DT'), ('grade', 'NN'), ('lowered', 'VBN'), ('by', 'IN'), ('one', 'CD'), ('grade', 'NN'), (',', ','), ('with', 'IN'), ('a', 'DT'), ('one-day', 'JJ'), ('window', 'NN'), ('.', '.')]\",\n",
       " \"[(',', ','), ('with', 'IN'), ('the', 'DT'), ('grade', 'NN'), ('lowered', 'VBN'), ('by', 'IN'), ('one', 'CD'), ('grade', 'NN'), (',', ','), ('with', 'IN'), ('a', 'DT'), ('one-day', 'JJ'), ('window', 'NN'), ('.', '.')]\",\n",
       " \"[(',', ','), ('with', 'IN'), ('the', 'DT'), ('grade', 'NN'), ('lowered', 'VBN'), ('by', 'IN'), ('one', 'CD'), ('grade', 'NN'), (',', ','), ('with', 'IN'), ('a', 'DT'), ('one-day', 'JJ'), ('window', 'NN'), ('.', '.')]\",\n",
       " \"[(',', ','), ('with', 'IN'), ('the', 'DT'), ('grade', 'NN'), ('lowered', 'VBN'), ('by', 'IN'), ('one', 'CD'), ('grade', 'NN'), (',', ','), ('with', 'IN'), ('a', 'DT'), ('one-day', 'JJ'), ('window', 'NN'), ('.', '.')]\",\n",
       " \"[(',', ','), ('with', 'IN'), ('the', 'DT'), ('grade', 'NN'), ('lowered', 'VBN'), ('by', 'IN'), ('one', 'CD'), ('grade', 'NN'), (',', ','), ('with', 'IN'), ('a', 'DT'), ('one-day', 'JJ'), ('window', 'NN'), ('.', '.')]\",\n",
       " \"[(',', ','), ('with', 'IN'), ('the', 'DT'), ('grade', 'NN'), ('lowered', 'VBN'), ('by', 'IN'), ('one', 'CD'), ('grade', 'NN'), (',', ','), ('with', 'IN'), ('a', 'DT'), ('one-day', 'JJ'), ('window', 'NN'), ('.', '.')]\",\n",
       " \"[(',', ','), ('with', 'IN'), ('the', 'DT'), ('grade', 'NN'), ('lowered', 'VBN'), ('by', 'IN'), ('one', 'CD'), ('grade', 'NN'), (',', ','), ('with', 'IN'), ('a', 'DT'), ('one-day', 'JJ'), ('window', 'NN'), ('.', '.')]\",\n",
       " \"[(',', ','), ('with', 'IN'), ('the', 'DT'), ('grade', 'NN'), ('lowered', 'VBN'), ('by', 'IN'), ('one', 'CD'), ('grade', 'NN'), (',', ','), ('with', 'IN'), ('a', 'DT'), ('one-day', 'JJ'), ('window', 'NN'), ('.', '.')]\",\n",
       " \"[(',', ','), ('with', 'IN'), ('the', 'DT'), ('grade', 'NN'), ('lowered', 'VBN'), ('by', 'IN'), ('one', 'CD'), ('grade', 'NN'), (',', ','), ('with', 'IN'), ('a', 'DT'), ('one-day', 'JJ'), ('window', 'NN'), ('.', '.')]\",\n",
       " \"[(',', ','), ('with', 'IN'), ('the', 'DT'), ('grade', 'NN'), ('lowered', 'VBN'), ('by', 'IN'), ('one', 'CD'), ('grade', 'NN'), (',', ','), ('with', 'IN'), ('a', 'DT'), ('one-day', 'JJ'), ('window', 'NN'), ('.', '.')]\",\n",
       " \"[(',', ','), ('with', 'IN'), ('the', 'DT'), ('grade', 'NN'), ('lowered', 'VBN'), ('by', 'IN'), ('one', 'CD'), ('grade', 'NN'), (',', ','), ('with', 'IN'), ('a', 'DT'), ('one-day', 'JJ'), ('window', 'NN'), ('.', '.')]\",\n",
       " \"[(',', ','), ('with', 'IN'), ('the', 'DT'), ('grade', 'NN'), ('lowered', 'VBN'), ('by', 'IN'), ('one', 'CD'), ('grade', 'NN'), (',', ','), ('with', 'IN'), ('a', 'DT'), ('one-day', 'JJ'), ('window', 'NN'), ('.', '.')]\",\n",
       " \"[(',', ','), ('with', 'IN'), ('the', 'DT'), ('grade', 'NN'), ('lowered', 'VBN'), ('by', 'IN'), ('one', 'CD'), ('grade', 'NN'), (',', ','), ('with', 'IN'), ('a', 'DT'), ('one-day', 'JJ'), ('window', 'NN'), ('.', '.')]\",\n",
       " \"[(',', ','), ('with', 'IN'), ('the', 'DT'), ('grade', 'NN'), ('lowered', 'VBN'), ('by', 'IN'), ('one', 'CD'), ('grade', 'NN'), (',', ','), ('with', 'IN'), ('a', 'DT'), ('one-day', 'JJ'), ('window', 'NN'), ('.', '.')]\",\n",
       " \"[(',', ','), ('with', 'IN'), ('the', 'DT'), ('grade', 'NN'), ('lowered', 'VBN'), ('by', 'IN'), ('one', 'CD'), ('grade', 'NN'), (',', ','), ('with', 'IN'), ('a', 'DT'), ('one-day', 'JJ'), ('window', 'NN'), ('.', '.')]\",\n",
       " \"[(',', ','), ('with', 'IN'), ('the', 'DT'), ('grade', 'NN'), ('lowered', 'VBN'), ('by', 'IN'), ('one', 'CD'), ('grade', 'NN'), (',', ','), ('with', 'IN'), ('a', 'DT'), ('one-day', 'JJ'), ('window', 'NN'), ('.', '.')]\",\n",
       " \"[(',', ','), ('with', 'IN'), ('the', 'DT'), ('grade', 'NN'), ('lowered', 'VBN'), ('by', 'IN'), ('one', 'CD'), ('grade', 'NN'), (',', ','), ('with', 'IN'), ('a', 'DT'), ('one-day', 'JJ'), ('window', 'NN'), ('.', '.')]\",\n",
       " \"[(',', ','), ('with', 'IN'), ('the', 'DT'), ('grade', 'NN'), ('lowered', 'VBN'), ('by', 'IN'), ('one', 'CD'), ('grade', 'NN'), (',', ','), ('with', 'IN'), ('a', 'DT'), ('one-day', 'JJ'), ('window', 'NN'), ('.', '.')]\",\n",
       " \"[(',', ','), ('with', 'IN'), ('the', 'DT'), ('grade', 'NN'), ('lowered', 'VBN'), ('by', 'IN'), ('one', 'CD'), ('grade', 'NN'), (',', ','), ('with', 'IN'), ('a', 'DT'), ('one-day', 'JJ'), ('window', 'NN'), ('.', '.')]\",\n",
       " \"[(',', ','), ('with', 'IN'), ('the', 'DT'), ('grade', 'NN'), ('lowered', 'VBN'), ('by', 'IN'), ('one', 'CD'), ('grade', 'NN'), (',', ','), ('with', 'IN'), ('a', 'DT'), ('one-day', 'JJ'), ('window', 'NN'), ('.', '.')]\",\n",
       " \"[(',', ','), ('with', 'IN'), ('the', 'DT'), ('grade', 'NN'), ('lowered', 'VBN'), ('by', 'IN'), ('one', 'CD'), ('grade', 'NN'), (',', ','), ('with', 'IN'), ('a', 'DT'), ('one-day', 'JJ'), ('window', 'NN'), ('.', '.')]\",\n",
       " \"[(',', ','), ('with', 'IN'), ('the', 'DT'), ('grade', 'NN'), ('lowered', 'VBN'), ('by', 'IN'), ('one', 'CD'), ('grade', 'NN'), (',', ','), ('with', 'IN'), ('a', 'DT'), ('one-day', 'JJ'), ('window', 'NN'), ('.', '.')]\",\n",
       " \"[(',', ','), ('via', 'IN'), ('my', 'PRP$'), ('email', 'JJ'), ('address', 'NN'), (':', ':')]\",\n",
       " \"[(',', ','), ('with', 'IN'), ('the', 'DT'), ('grade', 'NN'), ('lowered', 'VBN'), ('by', 'IN'), ('one', 'CD'), ('grade', 'NN'), (',', ','), ('with', 'IN'), ('a', 'DT'), ('one-day', 'JJ'), ('window', 'NN'), ('.', '.')]\",\n",
       " \"[(',', ','), ('with', 'IN'), ('the', 'DT'), ('grade', 'NN'), ('lowered', 'VBN'), ('by', 'IN'), ('one', 'CD'), ('grade', 'NN'), (',', ','), ('with', 'IN'), ('a', 'DT'), ('one-day', 'JJ'), ('window', 'NN'), ('.', '.')]\",\n",
       " \"[(',', ','), ('with', 'IN'), ('the', 'DT'), ('grade', 'NN'), ('lowered', 'VBN'), ('by', 'IN'), ('one', 'CD'), ('grade', 'NN'), (',', ','), ('with', 'IN'), ('a', 'DT'), ('one-day', 'JJ'), ('window', 'NN'), ('.', '.')]\",\n",
       " \"[(',', ','), ('via', 'IN'), ('my', 'PRP$'), ('email', 'JJ'), ('address', 'NN'), (':', ':')]\",\n",
       " \"[(',', ','), ('with', 'IN'), ('the', 'DT'), ('grade', 'NN'), ('lowered', 'VBN'), ('by', 'IN'), ('one', 'CD'), ('grade', 'NN'), (',', ','), ('with', 'IN'), ('a', 'DT'), ('one-day', 'JJ'), ('window', 'NN'), ('.', '.')]\",\n",
       " \"[(',', ','), ('with', 'IN'), ('the', 'DT'), ('grade', 'NN'), ('lowered', 'VBN'), ('by', 'IN'), ('one', 'CD'), ('grade', 'NN'), (',', ','), ('with', 'IN'), ('a', 'DT'), ('one-day', 'JJ'), ('window', 'NN'), ('.', '.')]\",\n",
       " \"[(',', ','), ('with', 'IN'), ('the', 'DT'), ('grade', 'NN'), ('lowered', 'VBN'), ('by', 'IN'), ('one', 'CD'), ('grade', 'NN'), (',', ','), ('with', 'IN'), ('a', 'DT'), ('one-day', 'JJ'), ('window', 'NN'), ('.', '.')]\",\n",
       " \"[(',', ','), ('with', 'IN'), ('the', 'DT'), ('grade', 'NN'), ('lowered', 'VBN'), ('by', 'IN'), ('one', 'CD'), ('grade', 'NN'), (',', ','), ('with', 'IN'), ('a', 'DT'), ('one-day', 'JJ'), ('window', 'NN'), ('.', '.')]\",\n",
       " \"[(',', ','), ('with', 'IN'), ('the', 'DT'), ('grade', 'NN'), ('lowered', 'VBN'), ('by', 'IN'), ('one', 'CD'), ('grade', 'NN'), (',', ','), ('with', 'IN'), ('a', 'DT'), ('one-day', 'JJ'), ('window', 'NN'), ('.', '.')]\",\n",
       " \"[(',', ','), ('with', 'IN'), ('the', 'DT'), ('grade', 'NN'), ('lowered', 'VBN'), ('by', 'IN'), ('one', 'CD'), ('grade', 'NN'), (',', ','), ('with', 'IN'), ('a', 'DT'), ('one-day', 'JJ'), ('window', 'NN'), ('.', '.')]\",\n",
       " \"[(',', ','), ('with', 'IN'), ('the', 'DT'), ('grade', 'NN'), ('lowered', 'VBN'), ('by', 'IN'), ('one', 'CD'), ('grade', 'NN'), (',', ','), ('with', 'IN'), ('a', 'DT'), ('one-day', 'JJ'), ('window', 'NN'), ('.', '.')]\",\n",
       " \"[(',', ','), ('with', 'IN'), ('the', 'DT'), ('grade', 'NN'), ('lowered', 'VBN'), ('by', 'IN'), ('one', 'CD'), ('grade', 'NN'), (',', ','), ('with', 'IN'), ('a', 'DT'), ('one-day', 'JJ'), ('window', 'NN'), ('.', '.')]\",\n",
       " \"[(',', ','), ('with', 'IN'), ('the', 'DT'), ('grade', 'NN'), ('lowered', 'VBN'), ('by', 'IN'), ('one', 'CD'), ('grade', 'NN'), (',', ','), ('with', 'IN'), ('a', 'DT'), ('one-day', 'JJ'), ('window', 'NN'), ('.', '.')]\",\n",
       " \"[(',', ','), ('with', 'IN'), ('the', 'DT'), ('grade', 'NN'), ('lowered', 'VBN'), ('by', 'IN'), ('one', 'CD'), ('grade', 'NN'), (',', ','), ('with', 'IN'), ('a', 'DT'), ('one-day', 'JJ'), ('window', 'NN'), ('.', '.')]\",\n",
       " \"[(',', ','), ('with', 'IN'), ('the', 'DT'), ('grade', 'NN'), ('lowered', 'VBN'), ('by', 'IN'), ('one', 'CD'), ('grade', 'NN'), (',', ','), ('with', 'IN'), ('a', 'DT'), ('one-day', 'JJ'), ('window', 'NN'), ('.', '.')]\",\n",
       " \"[(',', ','), ('with', 'IN'), ('the', 'DT'), ('grade', 'NN'), ('lowered', 'VBN'), ('by', 'IN'), ('one', 'CD'), ('grade', 'NN'), (',', ','), ('with', 'IN'), ('a', 'DT'), ('one-day', 'JJ'), ('window', 'NN'), ('.', '.')]\",\n",
       " \"[(',', ','), ('with', 'IN'), ('the', 'DT'), ('grade', 'NN'), ('lowered', 'VBN'), ('by', 'IN'), ('one', 'CD'), ('grade', 'NN'), (',', ','), ('with', 'IN'), ('a', 'DT'), ('one-day', 'JJ'), ('window', 'NN'), ('.', '.')]\",\n",
       " \"[(',', ','), ('with', 'IN'), ('the', 'DT'), ('grade', 'NN'), ('lowered', 'VBN'), ('by', 'IN'), ('one', 'CD'), ('grade', 'NN'), (',', ','), ('with', 'IN'), ('a', 'DT'), ('one-day', 'JJ'), ('window', 'NN'), ('.', '.')]\",\n",
       " \"[(',', ','), ('with', 'IN'), ('the', 'DT'), ('grade', 'NN'), ('lowered', 'VBN'), ('by', 'IN'), ('one', 'CD'), ('grade', 'NN'), (',', ','), ('with', 'IN'), ('a', 'DT'), ('one-day', 'JJ'), ('window', 'NN'), ('.', '.')]\",\n",
       " \"[(',', ','), ('with', 'IN'), ('the', 'DT'), ('grade', 'NN'), ('lowered', 'VBN'), ('by', 'IN'), ('one', 'CD'), ('grade', 'NN'), (',', ','), ('with', 'IN'), ('a', 'DT'), ('one-day', 'JJ'), ('window', 'NN'), ('.', '.')]\",\n",
       " \"[(',', ','), ('with', 'IN'), ('the', 'DT'), ('grade', 'NN'), ('lowered', 'VBN'), ('by', 'IN'), ('one', 'CD'), ('grade', 'NN'), (',', ','), ('with', 'IN'), ('a', 'DT'), ('one-day', 'JJ'), ('window', 'NN'), ('.', '.')]\",\n",
       " \"[(',', ','), ('with', 'IN'), ('the', 'DT'), ('grade', 'NN'), ('lowered', 'VBN'), ('by', 'IN'), ('one', 'CD'), ('grade', 'NN'), (',', ','), ('with', 'IN'), ('a', 'DT'), ('one-day', 'JJ'), ('window', 'NN'), ('.', '.')]\",\n",
       " \"[(',', ','), ('with', 'IN'), ('the', 'DT'), ('grade', 'NN'), ('lowered', 'VBN'), ('by', 'IN'), ('one', 'CD'), ('grade', 'NN'), (',', ','), ('with', 'IN'), ('a', 'DT'), ('one-day', 'JJ'), ('window', 'NN'), ('.', '.')]\",\n",
       " \"[(',', ','), ('with', 'IN'), ('the', 'DT'), ('grade', 'NN'), ('lowered', 'VBN'), ('by', 'IN'), ('one', 'CD'), ('grade', 'NN'), (',', ','), ('with', 'IN'), ('a', 'DT'), ('one-day', 'JJ'), ('window', 'NN'), ('.', '.')]\",\n",
       " \"[(',', ','), ('with', 'IN'), ('the', 'DT'), ('grade', 'NN'), ('lowered', 'VBN'), ('by', 'IN'), ('one', 'CD'), ('grade', 'NN'), (',', ','), ('with', 'IN'), ('a', 'DT'), ('one-day', 'JJ'), ('window', 'NN'), ('.', '.')]\",\n",
       " \"[(',', ','), ('with', 'IN'), ('the', 'DT'), ('grade', 'NN'), ('lowered', 'VBN'), ('by', 'IN'), ('one', 'CD'), ('grade', 'NN'), (',', ','), ('with', 'IN'), ('a', 'DT'), ('one-day', 'JJ'), ('window', 'NN'), ('.', '.')]\",\n",
       " \"[(',', ','), ('with', 'IN'), ('the', 'DT'), ('grade', 'NN'), ('lowered', 'VBN'), ('by', 'IN'), ('one', 'CD'), ('grade', 'NN'), (',', ','), ('with', 'IN'), ('a', 'DT'), ('one-day', 'JJ'), ('window', 'NN'), ('.', '.')]\",\n",
       " \"[(',', ','), ('with', 'IN'), ('the', 'DT'), ('grade', 'NN'), ('lowered', 'VBN'), ('by', 'IN'), ('one', 'CD'), ('grade', 'NN'), (',', ','), ('with', 'IN'), ('a', 'DT'), ('one-day', 'JJ'), ('window', 'NN'), ('.', '.')]\",\n",
       " \"[(',', ','), ('with', 'IN'), ('the', 'DT'), ('grade', 'NN'), ('lowered', 'VBN'), ('by', 'IN'), ('one', 'CD'), ('grade', 'NN'), (',', ','), ('with', 'IN'), ('a', 'DT'), ('one-day', 'JJ'), ('window', 'NN'), ('.', '.')]\",\n",
       " \"[(',', ','), ('with', 'IN'), ('the', 'DT'), ('grade', 'NN'), ('lowered', 'VBN'), ('by', 'IN'), ('one', 'CD'), ('grade', 'NN'), (',', ','), ('with', 'IN'), ('a', 'DT'), ('one-day', 'JJ'), ('window', 'NN'), ('.', '.')]\",\n",
       " \"[(',', ','), ('with', 'IN'), ('the', 'DT'), ('grade', 'NN'), ('lowered', 'VBN'), ('by', 'IN'), ('one', 'CD'), ('grade', 'NN'), (',', ','), ('with', 'IN'), ('a', 'DT'), ('one-day', 'JJ'), ('window', 'NN'), ('.', '.')]\",\n",
       " \"[(',', ','), ('with', 'IN'), ('the', 'DT'), ('grade', 'NN'), ('lowered', 'VBN'), ('by', 'IN'), ('one', 'CD'), ('grade', 'NN'), (',', ','), ('with', 'IN'), ('a', 'DT'), ('one-day', 'JJ'), ('window', 'NN'), ('.', '.')]\",\n",
       " \"[(',', ','), ('with', 'IN'), ('the', 'DT'), ('grade', 'NN'), ('lowered', 'VBN'), ('by', 'IN'), ('one', 'CD'), ('grade', 'NN'), (',', ','), ('with', 'IN'), ('a', 'DT'), ('one-day', 'JJ'), ('window', 'NN'), ('.', '.')]\",\n",
       " \"[(',', ','), ('with', 'IN'), ('the', 'DT'), ('grade', 'NN'), ('lowered', 'VBN'), ('by', 'IN'), ('one', 'CD'), ('grade', 'NN'), (',', ','), ('with', 'IN'), ('a', 'DT'), ('one-day', 'JJ'), ('window', 'NN'), ('.', '.')]\",\n",
       " \"[(',', ','), ('with', 'IN'), ('the', 'DT'), ('grade', 'NN'), ('lowered', 'VBN'), ('by', 'IN'), ('one', 'CD'), ('grade', 'NN'), (',', ','), ('with', 'IN'), ('a', 'DT'), ('one-day', 'JJ'), ('window', 'NN'), ('.', '.')]\",\n",
       " \"[(',', ','), ('with', 'IN'), ('the', 'DT'), ('grade', 'NN'), ('lowered', 'VBN'), ('by', 'IN'), ('one', 'CD'), ('grade', 'NN'), (',', ','), ('with', 'IN'), ('a', 'DT'), ('one-day', 'JJ'), ('window', 'NN'), ('.', '.')]\",\n",
       " \"[(',', ','), ('with', 'IN'), ('the', 'DT'), ('grade', 'NN'), ('lowered', 'VBN'), ('by', 'IN'), ('one', 'CD'), ('grade', 'NN'), (',', ','), ('with', 'IN'), ('a', 'DT'), ('one-day', 'JJ'), ('window', 'NN'), ('.', '.')]\",\n",
       " \"[(',', ','), ('with', 'IN'), ('the', 'DT'), ('grade', 'NN'), ('lowered', 'VBN'), ('by', 'IN'), ('one', 'CD'), ('grade', 'NN'), (',', ','), ('with', 'IN'), ('a', 'DT'), ('one-day', 'JJ'), ('window', 'NN'), ('.', '.')]\",\n",
       " \"[(',', ','), ('with', 'IN'), ('the', 'DT'), ('grade', 'NN'), ('lowered', 'VBN'), ('by', 'IN'), ('one', 'CD'), ('grade', 'NN'), (',', ','), ('with', 'IN'), ('a', 'DT'), ('one-day', 'JJ'), ('window', 'NN'), ('.', '.')]\",\n",
       " \"[(',', ','), ('via', 'IN'), ('my', 'PRP$'), ('email', 'JJ'), ('address', 'NN'), (':', ':')]\",\n",
       " \"[(',', ','), ('with', 'IN'), ('the', 'DT'), ('grade', 'NN'), ('lowered', 'VBN'), ('by', 'IN'), ('one', 'CD'), ('grade', 'NN'), (',', ','), ('with', 'IN'), ('a', 'DT'), ('one-day', 'JJ'), ('window', 'NN'), ('.', '.')]\",\n",
       " \"[(',', ','), ('with', 'IN'), ('the', 'DT'), ('grade', 'NN'), ('lowered', 'VBN'), ('by', 'IN'), ('one', 'CD'), ('grade', 'NN'), (',', ','), ('with', 'IN'), ('a', 'DT'), ('one-day', 'JJ'), ('window', 'NN'), ('.', '.')]\",\n",
       " \"[(',', ','), ('with', 'IN'), ('the', 'DT'), ('grade', 'NN'), ('lowered', 'VBN'), ('by', 'IN'), ('one', 'CD'), ('grade', 'NN'), (',', ','), ('with', 'IN'), ('a', 'DT'), ('one-day', 'JJ'), ('window', 'NN'), ('.', '.')]\",\n",
       " \"[(',', ','), ('with', 'IN'), ('the', 'DT'), ('grade', 'NN'), ('lowered', 'VBN'), ('by', 'IN'), ('one', 'CD'), ('grade', 'NN'), (',', ','), ('with', 'IN'), ('a', 'DT'), ('one-day', 'JJ'), ('window', 'NN'), ('.', '.')]\",\n",
       " \"[(',', ','), ('via', 'IN'), ('my', 'PRP$'), ('email', 'JJ'), ('address', 'NN'), (':', ':')]\",\n",
       " \"[(',', ','), ('with', 'IN'), ('the', 'DT'), ('grade', 'NN'), ('lowered', 'VBN'), ('by', 'IN'), ('one', 'CD'), ('grade', 'NN'), (',', ','), ('with', 'IN'), ('a', 'DT'), ('one-day', 'JJ'), ('window', 'NN'), ('.', '.')]\",\n",
       " \"[(',', ','), ('with', 'IN'), ('the', 'DT'), ('grade', 'NN'), ('lowered', 'VBN'), ('by', 'IN'), ('one', 'CD'), ('grade', 'NN'), (',', ','), ('with', 'IN'), ('a', 'DT'), ('one-day', 'JJ'), ('window', 'NN'), ('.', '.')]\",\n",
       " \"[(',', ','), ('with', 'IN'), ('the', 'DT'), ('grade', 'NN'), ('lowered', 'VBN'), ('by', 'IN'), ('one', 'CD'), ('grade', 'NN'), (',', ','), ('with', 'IN'), ('a', 'DT'), ('one-day', 'JJ'), ('window', 'NN'), ('.', '.')]\",\n",
       " \"[(',', ','), ('with', 'IN'), ('the', 'DT'), ('grade', 'NN'), ('lowered', 'VBN'), ('by', 'IN'), ('one', 'CD'), ('grade', 'NN'), (',', ','), ('with', 'IN'), ('a', 'DT'), ('one-day', 'JJ'), ('window', 'NN'), ('.', '.')]\",\n",
       " \"[(',', ','), ('with', 'IN'), ('the', 'DT'), ('grade', 'NN'), ('lowered', 'VBN'), ('by', 'IN'), ('one', 'CD'), ('grade', 'NN'), (',', ','), ('with', 'IN'), ('a', 'DT'), ('one-day', 'JJ'), ('window', 'NN'), ('.', '.')]\",\n",
       " \"[(',', ','), ('with', 'IN'), ('the', 'DT'), ('grade', 'NN'), ('lowered', 'VBN'), ('by', 'IN'), ('one', 'CD'), ('grade', 'NN'), (',', ','), ('with', 'IN'), ('a', 'DT'), ('one-day', 'JJ'), ('window', 'NN'), ('.', '.')]\",\n",
       " \"[(',', ','), ('with', 'IN'), ('the', 'DT'), ('grade', 'NN'), ('lowered', 'VBN'), ('by', 'IN'), ('one', 'CD'), ('grade', 'NN'), (',', ','), ('with', 'IN'), ('a', 'DT'), ('one-day', 'JJ'), ('window', 'NN'), ('.', '.')]\",\n",
       " \"[(',', ','), ('with', 'IN'), ('the', 'DT'), ('grade', 'NN'), ('lowered', 'VBN'), ('by', 'IN'), ('one', 'CD'), ('grade', 'NN'), (',', ','), ('with', 'IN'), ('a', 'DT'), ('one-day', 'JJ'), ('window', 'NN'), ('.', '.')]\",\n",
       " \"[(',', ','), ('with', 'IN'), ('the', 'DT'), ('grade', 'NN'), ('lowered', 'VBN'), ('by', 'IN'), ('one', 'CD'), ('grade', 'NN'), (',', ','), ('with', 'IN'), ('a', 'DT'), ('one-day', 'JJ'), ('window', 'NN'), ('.', '.')]\",\n",
       " \"[(',', ','), ('with', 'IN'), ('the', 'DT'), ('grade', 'NN'), ('lowered', 'VBN'), ('by', 'IN'), ('one', 'CD'), ('grade', 'NN'), (',', ','), ('with', 'IN'), ('a', 'DT'), ('one-day', 'JJ'), ('window', 'NN'), ('.', '.')]\",\n",
       " \"[(',', ','), ('with', 'IN'), ('the', 'DT'), ('grade', 'NN'), ('lowered', 'VBN'), ('by', 'IN'), ('one', 'CD'), ('grade', 'NN'), (',', ','), ('with', 'IN'), ('a', 'DT'), ('one-day', 'JJ'), ('window', 'NN'), ('.', '.')]\",\n",
       " \"[(',', ','), ('with', 'IN'), ('the', 'DT'), ('grade', 'NN'), ('lowered', 'VBN'), ('by', 'IN'), ('one', 'CD'), ('grade', 'NN'), (',', ','), ('with', 'IN'), ('a', 'DT'), ('one-day', 'JJ'), ('window', 'NN'), ('.', '.')]\",\n",
       " \"[(',', ','), ('with', 'IN'), ('the', 'DT'), ('grade', 'NN'), ('lowered', 'VBN'), ('by', 'IN'), ('one', 'CD'), ('grade', 'NN'), (',', ','), ('with', 'IN'), ('a', 'DT'), ('one-day', 'JJ'), ('window', 'NN'), ('.', '.')]\",\n",
       " \"[(',', ','), ('with', 'IN'), ('the', 'DT'), ('grade', 'NN'), ('lowered', 'VBN'), ('by', 'IN'), ('one', 'CD'), ('grade', 'NN'), (',', ','), ('with', 'IN'), ('a', 'DT'), ('one-day', 'JJ'), ('window', 'NN'), ('.', '.')]\",\n",
       " \"[(',', ','), ('with', 'IN'), ('the', 'DT'), ('grade', 'NN'), ('lowered', 'VBN'), ('by', 'IN'), ('one', 'CD'), ('grade', 'NN'), (',', ','), ('with', 'IN'), ('a', 'DT'), ('one-day', 'JJ'), ('window', 'NN'), ('.', '.')]\",\n",
       " \"[(',', ','), ('with', 'IN'), ('the', 'DT'), ('grade', 'NN'), ('lowered', 'VBN'), ('by', 'IN'), ('one', 'CD'), ('grade', 'NN'), (',', ','), ('with', 'IN'), ('a', 'DT'), ('one-day', 'JJ'), ('window', 'NN'), ('.', '.')]\",\n",
       " \"[(',', ','), ('with', 'IN'), ('the', 'DT'), ('grade', 'NN'), ('lowered', 'VBN'), ('by', 'IN'), ('one', 'CD'), ('grade', 'NN'), (',', ','), ('with', 'IN'), ('a', 'DT'), ('one-day', 'JJ'), ('window', 'NN'), ('.', '.')]\",\n",
       " \"[(',', ','), ('with', 'IN'), ('the', 'DT'), ('grade', 'NN'), ('lowered', 'VBN'), ('by', 'IN'), ('one', 'CD'), ('grade', 'NN'), (',', ','), ('with', 'IN'), ('a', 'DT'), ('one-day', 'JJ'), ('window', 'NN'), ('.', '.')]\",\n",
       " \"[(',', ','), ('with', 'IN'), ('the', 'DT'), ('grade', 'NN'), ('lowered', 'VBN'), ('by', 'IN'), ('one', 'CD'), ('grade', 'NN'), (',', ','), ('with', 'IN'), ('a', 'DT'), ('one-day', 'JJ'), ('window', 'NN'), ('.', '.')]\",\n",
       " \"[(',', ','), ('with', 'IN'), ('the', 'DT'), ('grade', 'NN'), ('lowered', 'VBN'), ('by', 'IN'), ('one', 'CD'), ('grade', 'NN'), (',', ','), ('with', 'IN'), ('a', 'DT'), ('one-day', 'JJ'), ('window', 'NN'), ('.', '.')]\",\n",
       " \"[(',', ','), ('with', 'IN'), ('the', 'DT'), ('grade', 'NN'), ('lowered', 'VBN'), ('by', 'IN'), ('one', 'CD'), ('grade', 'NN'), (',', ','), ('with', 'IN'), ('a', 'DT'), ('one-day', 'JJ'), ('window', 'NN'), ('.', '.')]\",\n",
       " \"[(',', ','), ('with', 'IN'), ('the', 'DT'), ('grade', 'NN'), ('lowered', 'VBN'), ('by', 'IN'), ('one', 'CD'), ('grade', 'NN'), (',', ','), ('with', 'IN'), ('a', 'DT'), ('one-day', 'JJ'), ('window', 'NN'), ('.', '.')]\",\n",
       " \"[(',', ','), ('with', 'IN'), ('the', 'DT'), ('grade', 'NN'), ('lowered', 'VBN'), ('by', 'IN'), ('one', 'CD'), ('grade', 'NN'), (',', ','), ('with', 'IN'), ('a', 'DT'), ('one-day', 'JJ'), ('window', 'NN'), ('.', '.')]\",\n",
       " \"[(',', ','), ('with', 'IN'), ('the', 'DT'), ('grade', 'NN'), ('lowered', 'VBN'), ('by', 'IN'), ('one', 'CD'), ('grade', 'NN'), (',', ','), ('with', 'IN'), ('a', 'DT'), ('one-day', 'JJ'), ('window', 'NN'), ('.', '.')]\",\n",
       " \"[(',', ','), ('with', 'IN'), ('the', 'DT'), ('grade', 'NN'), ('lowered', 'VBN'), ('by', 'IN'), ('one', 'CD'), ('grade', 'NN'), (',', ','), ('with', 'IN'), ('a', 'DT'), ('one-day', 'JJ'), ('window', 'NN'), ('.', '.')]\",\n",
       " \"[(',', ','), ('with', 'IN'), ('the', 'DT'), ('grade', 'NN'), ('lowered', 'VBN'), ('by', 'IN'), ('one', 'CD'), ('grade', 'NN'), (',', ','), ('with', 'IN'), ('a', 'DT'), ('one-day', 'JJ'), ('window', 'NN'), ('.', '.')]\",\n",
       " \"[(',', ','), ('with', 'IN'), ('the', 'DT'), ('grade', 'NN'), ('lowered', 'VBN'), ('by', 'IN'), ('one', 'CD'), ('grade', 'NN'), (',', ','), ('with', 'IN'), ('a', 'DT'), ('one-day', 'JJ'), ('window', 'NN'), ('.', '.')]\",\n",
       " \"[(',', ','), ('with', 'IN'), ('the', 'DT'), ('grade', 'NN'), ('lowered', 'VBN'), ('by', 'IN'), ('one', 'CD'), ('grade', 'NN'), (',', ','), ('with', 'IN'), ('a', 'DT'), ('one-day', 'JJ'), ('window', 'NN'), ('.', '.')]\",\n",
       " \"[(',', ','), ('with', 'IN'), ('the', 'DT'), ('grade', 'NN'), ('lowered', 'VBN'), ('by', 'IN'), ('one', 'CD'), ('grade', 'NN'), (',', ','), ('with', 'IN'), ('a', 'DT'), ('one-day', 'JJ'), ('window', 'NN'), ('.', '.')]\",\n",
       " \"[(',', ','), ('with', 'IN'), ('the', 'DT'), ('grade', 'NN'), ('lowered', 'VBN'), ('by', 'IN'), ('one', 'CD'), ('grade', 'NN'), (',', ','), ('with', 'IN'), ('a', 'DT'), ('one-day', 'JJ'), ('window', 'NN'), ('.', '.')]\",\n",
       " \"[(',', ','), ('with', 'IN'), ('the', 'DT'), ('grade', 'NN'), ('lowered', 'VBN'), ('by', 'IN'), ('one', 'CD'), ('grade', 'NN'), (',', ','), ('with', 'IN'), ('a', 'DT'), ('one-day', 'JJ'), ('window', 'NN'), ('.', '.')]\",\n",
       " \"[(',', ','), ('with', 'IN'), ('the', 'DT'), ('grade', 'NN'), ('lowered', 'VBN'), ('by', 'IN'), ('one', 'CD'), ('grade', 'NN'), (',', ','), ('with', 'IN'), ('a', 'DT'), ('one-day', 'JJ'), ('window', 'NN'), ('.', '.')]\",\n",
       " \"[(',', ','), ('with', 'IN'), ('the', 'DT'), ('grade', 'NN'), ('lowered', 'VBN'), ('by', 'IN'), ('one', 'CD'), ('grade', 'NN'), (',', ','), ('with', 'IN'), ('a', 'DT'), ('one-day', 'JJ'), ('window', 'NN'), ('.', '.')]\",\n",
       " \"[(',', ','), ('with', 'IN'), ('the', 'DT'), ('grade', 'NN'), ('lowered', 'VBN'), ('by', 'IN'), ('one', 'CD'), ('grade', 'NN'), (',', ','), ('with', 'IN'), ('a', 'DT'), ('one-day', 'JJ'), ('window', 'NN'), ('.', '.')]\",\n",
       " \"[(',', ','), ('with', 'IN'), ('the', 'DT'), ('grade', 'NN'), ('lowered', 'VBN'), ('by', 'IN'), ('one', 'CD'), ('grade', 'NN'), (',', ','), ('with', 'IN'), ('a', 'DT'), ('one-day', 'JJ'), ('window', 'NN'), ('.', '.')]\",\n",
       " \"[(',', ','), ('with', 'IN'), ('the', 'DT'), ('grade', 'NN'), ('lowered', 'VBN'), ('by', 'IN'), ('one', 'CD'), ('grade', 'NN'), (',', ','), ('with', 'IN'), ('a', 'DT'), ('one-day', 'JJ'), ('window', 'NN'), ('.', '.')]\",\n",
       " \"[(',', ','), ('with', 'IN'), ('the', 'DT'), ('grade', 'NN'), ('lowered', 'VBN'), ('by', 'IN'), ('one', 'CD'), ('grade', 'NN'), (',', ','), ('with', 'IN'), ('a', 'DT'), ('one-day', 'JJ'), ('window', 'NN'), ('.', '.')]\",\n",
       " \"[(',', ','), ('with', 'IN'), ('the', 'DT'), ('grade', 'NN'), ('lowered', 'VBN'), ('by', 'IN'), ('one', 'CD'), ('grade', 'NN'), (',', ','), ('with', 'IN'), ('a', 'DT'), ('one-day', 'JJ'), ('window', 'NN'), ('.', '.')]\",\n",
       " \"[(',', ','), ('with', 'IN'), ('the', 'DT'), ('grade', 'NN'), ('lowered', 'VBN'), ('by', 'IN'), ('one', 'CD'), ('grade', 'NN'), (',', ','), ('with', 'IN'), ('a', 'DT'), ('one-day', 'JJ'), ('window', 'NN'), ('.', '.')]\",\n",
       " \"[(',', ','), ('with', 'IN'), ('the', 'DT'), ('grade', 'NN'), ('lowered', 'VBN'), ('by', 'IN'), ('one', 'CD'), ('grade', 'NN'), (',', ','), ('with', 'IN'), ('a', 'DT'), ('one-day', 'JJ'), ('window', 'NN'), ('.', '.')]\",\n",
       " \"[(',', ','), ('with', 'IN'), ('the', 'DT'), ('grade', 'NN'), ('lowered', 'VBN'), ('by', 'IN'), ('one', 'CD'), ('grade', 'NN'), (',', ','), ('with', 'IN'), ('a', 'DT'), ('one-day', 'JJ'), ('window', 'NN'), ('.', '.')]\",\n",
       " \"[(',', ','), ('with', 'IN'), ('the', 'DT'), ('grade', 'NN'), ('lowered', 'VBN'), ('by', 'IN'), ('one', 'CD'), ('grade', 'NN'), (',', ','), ('with', 'IN'), ('a', 'DT'), ('one-day', 'JJ'), ('window', 'NN'), ('.', '.')]\",\n",
       " \"[(',', ','), ('with', 'IN'), ('the', 'DT'), ('grade', 'NN'), ('lowered', 'VBN'), ('by', 'IN'), ('one', 'CD'), ('grade', 'NN'), (',', ','), ('with', 'IN'), ('a', 'DT'), ('one-day', 'JJ'), ('window', 'NN'), ('.', '.')]\",\n",
       " \"[(',', ','), ('with', 'IN'), ('the', 'DT'), ('grade', 'NN'), ('lowered', 'VBN'), ('by', 'IN'), ('one', 'CD'), ('grade', 'NN'), (',', ','), ('with', 'IN'), ('a', 'DT'), ('one-day', 'JJ'), ('window', 'NN'), ('.', '.')]\",\n",
       " \"[(',', ','), ('with', 'IN'), ('the', 'DT'), ('grade', 'NN'), ('lowered', 'VBN'), ('by', 'IN'), ('one', 'CD'), ('grade', 'NN'), (',', ','), ('with', 'IN'), ('a', 'DT'), ('one-day', 'JJ'), ('window', 'NN'), ('.', '.')]\",\n",
       " \"[(',', ','), ('with', 'IN'), ('the', 'DT'), ('grade', 'NN'), ('lowered', 'VBN'), ('by', 'IN'), ('one', 'CD'), ('grade', 'NN'), (',', ','), ('with', 'IN'), ('a', 'DT'), ('one-day', 'JJ'), ('window', 'NN'), ('.', '.')]\",\n",
       " \"[(',', ','), ('with', 'IN'), ('the', 'DT'), ('grade', 'NN'), ('lowered', 'VBN'), ('by', 'IN'), ('one', 'CD'), ('grade', 'NN'), (',', ','), ('with', 'IN'), ('a', 'DT'), ('one-day', 'JJ'), ('window', 'NN'), ('.', '.')]\",\n",
       " \"[(',', ','), ('with', 'IN'), ('the', 'DT'), ('grade', 'NN'), ('lowered', 'VBN'), ('by', 'IN'), ('one', 'CD'), ('grade', 'NN'), (',', ','), ('with', 'IN'), ('a', 'DT'), ('one-day', 'JJ'), ('window', 'NN'), ('.', '.')]\",\n",
       " \"[(',', ','), ('with', 'IN'), ('the', 'DT'), ('grade', 'NN'), ('lowered', 'VBN'), ('by', 'IN'), ('one', 'CD'), ('grade', 'NN'), (',', ','), ('with', 'IN'), ('a', 'DT'), ('one-day', 'JJ'), ('window', 'NN'), ('.', '.')]\",\n",
       " \"[(',', ','), ('with', 'IN'), ('the', 'DT'), ('grade', 'NN'), ('lowered', 'VBN'), ('by', 'IN'), ('one', 'CD'), ('grade', 'NN'), (',', ','), ('with', 'IN'), ('a', 'DT'), ('one-day', 'JJ'), ('window', 'NN'), ('.', '.')]\",\n",
       " \"[(',', ','), ('with', 'IN'), ('the', 'DT'), ('grade', 'NN'), ('lowered', 'VBN'), ('by', 'IN'), ('one', 'CD'), ('grade', 'NN'), (',', ','), ('with', 'IN'), ('a', 'DT'), ('one-day', 'JJ'), ('window', 'NN'), ('.', '.')]\",\n",
       " \"[(',', ','), ('with', 'IN'), ('the', 'DT'), ('grade', 'NN'), ('lowered', 'VBN'), ('by', 'IN'), ('one', 'CD'), ('grade', 'NN'), (',', ','), ('with', 'IN'), ('a', 'DT'), ('one-day', 'JJ'), ('window', 'NN'), ('.', '.')]\",\n",
       " \"[(',', ','), ('with', 'IN'), ('the', 'DT'), ('grade', 'NN'), ('lowered', 'VBN'), ('by', 'IN'), ('one', 'CD'), ('grade', 'NN'), (',', ','), ('with', 'IN'), ('a', 'DT'), ('one-day', 'JJ'), ('window', 'NN'), ('.', '.')]\",\n",
       " \"[(',', ','), ('with', 'IN'), ('the', 'DT'), ('grade', 'NN'), ('lowered', 'VBN'), ('by', 'IN'), ('one', 'CD'), ('grade', 'NN'), (',', ','), ('with', 'IN'), ('a', 'DT'), ('one-day', 'JJ'), ('window', 'NN'), ('.', '.')]\",\n",
       " \"[(',', ','), ('with', 'IN'), ('the', 'DT'), ('grade', 'NN'), ('lowered', 'VBN'), ('by', 'IN'), ('one', 'CD'), ('grade', 'NN'), (',', ','), ('with', 'IN'), ('a', 'DT'), ('one-day', 'JJ'), ('window', 'NN'), ('.', '.')]\",\n",
       " \"[(',', ','), ('with', 'IN'), ('the', 'DT'), ('grade', 'NN'), ('lowered', 'VBN'), ('by', 'IN'), ('one', 'CD'), ('grade', 'NN'), (',', ','), ('with', 'IN'), ('a', 'DT'), ('one-day', 'JJ'), ('window', 'NN'), ('.', '.')]\",\n",
       " \"[(',', ','), ('with', 'IN'), ('the', 'DT'), ('grade', 'NN'), ('lowered', 'VBN'), ('by', 'IN'), ('one', 'CD'), ('grade', 'NN'), (',', ','), ('with', 'IN'), ('a', 'DT'), ('one-day', 'JJ'), ('window', 'NN'), ('.', '.')]\",\n",
       " \"[(',', ','), ('with', 'IN'), ('the', 'DT'), ('grade', 'NN'), ('lowered', 'VBN'), ('by', 'IN'), ('one', 'CD'), ('grade', 'NN'), (',', ','), ('with', 'IN'), ('a', 'DT'), ('one-day', 'JJ'), ('window', 'NN'), ('.', '.')]\",\n",
       " \"[(',', ','), ('with', 'IN'), ('the', 'DT'), ('grade', 'NN'), ('lowered', 'VBN'), ('by', 'IN'), ('one', 'CD'), ('grade', 'NN'), (',', ','), ('with', 'IN'), ('a', 'DT'), ('one-day', 'JJ'), ('window', 'NN'), ('.', '.')]\",\n",
       " \"[(',', ','), ('with', 'IN'), ('the', 'DT'), ('grade', 'NN'), ('lowered', 'VBN'), ('by', 'IN'), ('one', 'CD'), ('grade', 'NN'), (',', ','), ('with', 'IN'), ('a', 'DT'), ('one-day', 'JJ'), ('window', 'NN'), ('.', '.')]\",\n",
       " \"[(',', ','), ('with', 'IN'), ('the', 'DT'), ('grade', 'NN'), ('lowered', 'VBN'), ('by', 'IN'), ('one', 'CD'), ('grade', 'NN'), (',', ','), ('with', 'IN'), ('a', 'DT'), ('one-day', 'JJ'), ('window', 'NN'), ('.', '.')]\",\n",
       " \"[(',', ','), ('with', 'IN'), ('the', 'DT'), ('grade', 'NN'), ('lowered', 'VBN'), ('by', 'IN'), ('one', 'CD'), ('grade', 'NN'), (',', ','), ('with', 'IN'), ('a', 'DT'), ('one-day', 'JJ'), ('window', 'NN'), ('.', '.')]\",\n",
       " \"[(',', ','), ('with', 'IN'), ('the', 'DT'), ('grade', 'NN'), ('lowered', 'VBN'), ('by', 'IN'), ('one', 'CD'), ('grade', 'NN'), (',', ','), ('with', 'IN'), ('a', 'DT'), ('one-day', 'JJ'), ('window', 'NN'), ('.', '.')]\",\n",
       " \"[(',', ','), ('with', 'IN'), ('the', 'DT'), ('grade', 'NN'), ('lowered', 'VBN'), ('by', 'IN'), ('one', 'CD'), ('grade', 'NN'), (',', ','), ('with', 'IN'), ('a', 'DT'), ('one-day', 'JJ'), ('window', 'NN'), ('.', '.')]\",\n",
       " \"[(',', ','), ('via', 'IN'), ('my', 'PRP$'), ('email', 'JJ'), ('address', 'NN'), (':', ':')]\",\n",
       " \"[(',', ','), ('with', 'IN'), ('the', 'DT'), ('grade', 'NN'), ('lowered', 'VBN'), ('by', 'IN'), ('one', 'CD'), ('grade', 'NN'), (',', ','), ('with', 'IN'), ('a', 'DT'), ('one-day', 'JJ'), ('window', 'NN'), ('.', '.')]\",\n",
       " \"[(',', ','), ('with', 'IN'), ('the', 'DT'), ('grade', 'NN'), ('lowered', 'VBN'), ('by', 'IN'), ('one', 'CD'), ('grade', 'NN'), (',', ','), ('with', 'IN'), ('a', 'DT'), ('one-day', 'JJ'), ('window', 'NN'), ('.', '.')]\",\n",
       " \"[(',', ','), ('with', 'IN'), ('the', 'DT'), ('grade', 'NN'), ('lowered', 'VBN'), ('by', 'IN'), ('one', 'CD'), ('grade', 'NN'), (',', ','), ('with', 'IN'), ('a', 'DT'), ('one-day', 'JJ'), ('window', 'NN'), ('.', '.')]\",\n",
       " \"[(',', ','), ('with', 'IN'), ('the', 'DT'), ('grade', 'NN'), ('lowered', 'VBN'), ('by', 'IN'), ('one', 'CD'), ('grade', 'NN'), (',', ','), ('with', 'IN'), ('a', 'DT'), ('one-day', 'JJ'), ('window', 'NN'), ('.', '.')]\",\n",
       " \"[(',', ','), ('with', 'IN'), ('the', 'DT'), ('grade', 'NN'), ('lowered', 'VBN'), ('by', 'IN'), ('one', 'CD'), ('grade', 'NN'), (',', ','), ('with', 'IN'), ('a', 'DT'), ('one-day', 'JJ'), ('window', 'NN'), ('.', '.')]\",\n",
       " \"[(',', ','), ('with', 'IN'), ('the', 'DT'), ('grade', 'NN'), ('lowered', 'VBN'), ('by', 'IN'), ('one', 'CD'), ('grade', 'NN'), (',', ','), ('with', 'IN'), ('a', 'DT'), ('one-day', 'JJ'), ('window', 'NN'), ('.', '.')]\",\n",
       " \"[(',', ','), ('with', 'IN'), ('the', 'DT'), ('grade', 'NN'), ('lowered', 'VBN'), ('by', 'IN'), ('one', 'CD'), ('grade', 'NN'), (',', ','), ('with', 'IN'), ('a', 'DT'), ('one-day', 'JJ'), ('window', 'NN'), ('.', '.')]\",\n",
       " \"[(',', ','), ('with', 'IN'), ('the', 'DT'), ('grade', 'NN'), ('lowered', 'VBN'), ('by', 'IN'), ('one', 'CD'), ('grade', 'NN'), (',', ','), ('with', 'IN'), ('a', 'DT'), ('one-day', 'JJ'), ('window', 'NN'), ('.', '.')]\",\n",
       " \"[(',', ','), ('with', 'IN'), ('the', 'DT'), ('grade', 'NN'), ('lowered', 'VBN'), ('by', 'IN'), ('one', 'CD'), ('grade', 'NN'), (',', ','), ('with', 'IN'), ('a', 'DT'), ('one-day', 'JJ'), ('window', 'NN'), ('.', '.')]\",\n",
       " \"[(',', ','), ('with', 'IN'), ('the', 'DT'), ('grade', 'NN'), ('lowered', 'VBN'), ('by', 'IN'), ('one', 'CD'), ('grade', 'NN'), (',', ','), ('with', 'IN'), ('a', 'DT'), ('one-day', 'JJ'), ('window', 'NN'), ('.', '.')]\",\n",
       " \"[(',', ','), ('with', 'IN'), ('the', 'DT'), ('grade', 'NN'), ('lowered', 'VBN'), ('by', 'IN'), ('one', 'CD'), ('grade', 'NN'), (',', ','), ('with', 'IN'), ('a', 'DT'), ('one-day', 'JJ'), ('window', 'NN'), ('.', '.')]\",\n",
       " \"[(',', ','), ('with', 'IN'), ('the', 'DT'), ('grade', 'NN'), ('lowered', 'VBN'), ('by', 'IN'), ('one', 'CD'), ('grade', 'NN'), (',', ','), ('with', 'IN'), ('a', 'DT'), ('one-day', 'JJ'), ('window', 'NN'), ('.', '.')]\",\n",
       " \"[(',', ','), ('with', 'IN'), ('the', 'DT'), ('grade', 'NN'), ('lowered', 'VBN'), ('by', 'IN'), ('one', 'CD'), ('grade', 'NN'), (',', ','), ('with', 'IN'), ('a', 'DT'), ('one-day', 'JJ'), ('window', 'NN'), ('.', '.')]\",\n",
       " \"[(',', ','), ('with', 'IN'), ('the', 'DT'), ('grade', 'NN'), ('lowered', 'VBN'), ('by', 'IN'), ('one', 'CD'), ('grade', 'NN'), (',', ','), ('with', 'IN'), ('a', 'DT'), ('one-day', 'JJ'), ('window', 'NN'), ('.', '.')]\",\n",
       " \"[(',', ','), ('with', 'IN'), ('the', 'DT'), ('grade', 'NN'), ('lowered', 'VBN'), ('by', 'IN'), ('one', 'CD'), ('grade', 'NN'), (',', ','), ('with', 'IN'), ('a', 'DT'), ('one-day', 'JJ'), ('window', 'NN'), ('.', '.')]\",\n",
       " \"[(',', ','), ('with', 'IN'), ('the', 'DT'), ('grade', 'NN'), ('lowered', 'VBN'), ('by', 'IN'), ('one', 'CD'), ('grade', 'NN'), (',', ','), ('with', 'IN'), ('a', 'DT'), ('one-day', 'JJ'), ('window', 'NN'), ('.', '.')]\",\n",
       " \"[(',', ','), ('with', 'IN'), ('the', 'DT'), ('grade', 'NN'), ('lowered', 'VBN'), ('by', 'IN'), ('one', 'CD'), ('grade', 'NN'), (',', ','), ('with', 'IN'), ('a', 'DT'), ('one-day', 'JJ'), ('window', 'NN'), ('.', '.')]\",\n",
       " \"[(',', ','), ('with', 'IN'), ('the', 'DT'), ('grade', 'NN'), ('lowered', 'VBN'), ('by', 'IN'), ('one', 'CD'), ('grade', 'NN'), (',', ','), ('with', 'IN'), ('a', 'DT'), ('one-day', 'JJ'), ('window', 'NN'), ('.', '.')]\",\n",
       " \"[(',', ','), ('with', 'IN'), ('the', 'DT'), ('grade', 'NN'), ('lowered', 'VBN'), ('by', 'IN'), ('one', 'CD'), ('grade', 'NN'), (',', ','), ('with', 'IN'), ('a', 'DT'), ('one-day', 'JJ'), ('window', 'NN'), ('.', '.')]\",\n",
       " \"[(',', ','), ('with', 'IN'), ('the', 'DT'), ('grade', 'NN'), ('lowered', 'VBN'), ('by', 'IN'), ('one', 'CD'), ('grade', 'NN'), (',', ','), ('with', 'IN'), ('a', 'DT'), ('one-day', 'JJ'), ('window', 'NN'), ('.', '.')]\",\n",
       " \"[(',', ','), ('with', 'IN'), ('the', 'DT'), ('grade', 'NN'), ('lowered', 'VBN'), ('by', 'IN'), ('one', 'CD'), ('grade', 'NN'), (',', ','), ('with', 'IN'), ('a', 'DT'), ('one-day', 'JJ'), ('window', 'NN'), ('.', '.')]\",\n",
       " \"[(',', ','), ('with', 'IN'), ('the', 'DT'), ('grade', 'NN'), ('lowered', 'VBN'), ('by', 'IN'), ('one', 'CD'), ('grade', 'NN'), (',', ','), ('with', 'IN'), ('a', 'DT'), ('one-day', 'JJ'), ('window', 'NN'), ('.', '.')]\",\n",
       " \"[(',', ','), ('with', 'IN'), ('the', 'DT'), ('grade', 'NN'), ('lowered', 'VBN'), ('by', 'IN'), ('one', 'CD'), ('grade', 'NN'), (',', ','), ('with', 'IN'), ('a', 'DT'), ('one-day', 'JJ'), ('window', 'NN'), ('.', '.')]\",\n",
       " \"[(',', ','), ('with', 'IN'), ('the', 'DT'), ('grade', 'NN'), ('lowered', 'VBN'), ('by', 'IN'), ('one', 'CD'), ('grade', 'NN'), (',', ','), ('with', 'IN'), ('a', 'DT'), ('one-day', 'JJ'), ('window', 'NN'), ('.', '.')]\",\n",
       " \"[(',', ','), ('with', 'IN'), ('the', 'DT'), ('grade', 'NN'), ('lowered', 'VBN'), ('by', 'IN'), ('one', 'CD'), ('grade', 'NN'), (',', ','), ('with', 'IN'), ('a', 'DT'), ('one-day', 'JJ'), ('window', 'NN'), ('.', '.')]\",\n",
       " \"[(',', ','), ('with', 'IN'), ('the', 'DT'), ('grade', 'NN'), ('lowered', 'VBN'), ('by', 'IN'), ('one', 'CD'), ('grade', 'NN'), (',', ','), ('with', 'IN'), ('a', 'DT'), ('one-day', 'JJ'), ('window', 'NN'), ('.', '.')]\",\n",
       " \"[(',', ','), ('via', 'IN'), ('my', 'PRP$'), ('email', 'JJ'), ('address', 'NN'), (':', ':')]\",\n",
       " \"[(',', ','), ('with', 'IN'), ('the', 'DT'), ('grade', 'NN'), ('lowered', 'VBN'), ('by', 'IN'), ('one', 'CD'), ('grade', 'NN'), (',', ','), ('with', 'IN'), ('a', 'DT'), ('one-day', 'JJ'), ('window', 'NN'), ('.', '.')]\",\n",
       " \"[(',', ','), ('with', 'IN'), ('the', 'DT'), ('grade', 'NN'), ('lowered', 'VBN'), ('by', 'IN'), ('one', 'CD'), ('grade', 'NN'), (',', ','), ('with', 'IN'), ('a', 'DT'), ('one-day', 'JJ'), ('window', 'NN'), ('.', '.')]\",\n",
       " \"[(',', ','), ('with', 'IN'), ('the', 'DT'), ('grade', 'NN'), ('lowered', 'VBN'), ('by', 'IN'), ('one', 'CD'), ('grade', 'NN'), (',', ','), ('with', 'IN'), ('a', 'DT'), ('one-day', 'JJ'), ('window', 'NN'), ('.', '.')]\",\n",
       " \"[(',', ','), ('with', 'IN'), ('the', 'DT'), ('grade', 'NN'), ('lowered', 'VBN'), ('by', 'IN'), ('one', 'CD'), ('grade', 'NN'), (',', ','), ('with', 'IN'), ('a', 'DT'), ('one-day', 'JJ'), ('window', 'NN'), ('.', '.')]\",\n",
       " \"[(',', ','), ('via', 'IN'), ('my', 'PRP$'), ('email', 'JJ'), ('address', 'NN'), (':', ':')]\",\n",
       " \"[(',', ','), ('with', 'IN'), ('the', 'DT'), ('grade', 'NN'), ('lowered', 'VBN'), ('by', 'IN'), ('one', 'CD'), ('grade', 'NN'), (',', ','), ('with', 'IN'), ('a', 'DT'), ('one-day', 'JJ'), ('window', 'NN'), ('.', '.')]\",\n",
       " \"[(',', ','), ('with', 'IN'), ('the', 'DT'), ('grade', 'NN'), ('lowered', 'VBN'), ('by', 'IN'), ('one', 'CD'), ('grade', 'NN'), (',', ','), ('with', 'IN'), ('a', 'DT'), ('one-day', 'JJ'), ('window', 'NN'), ('.', '.')]\",\n",
       " \"[(',', ','), ('with', 'IN'), ('the', 'DT'), ('grade', 'NN'), ('lowered', 'VBN'), ('by', 'IN'), ('one', 'CD'), ('grade', 'NN'), (',', ','), ('with', 'IN'), ('a', 'DT'), ('one-day', 'JJ'), ('window', 'NN'), ('.', '.')]\",\n",
       " \"[(',', ','), ('with', 'IN'), ('the', 'DT'), ('grade', 'NN'), ('lowered', 'VBN'), ('by', 'IN'), ('one', 'CD'), ('grade', 'NN'), (',', ','), ('with', 'IN'), ('a', 'DT'), ('one-day', 'JJ'), ('window', 'NN'), ('.', '.')]\",\n",
       " \"[(',', ','), ('with', 'IN'), ('the', 'DT'), ('grade', 'NN'), ('lowered', 'VBN'), ('by', 'IN'), ('one', 'CD'), ('grade', 'NN'), (',', ','), ('with', 'IN'), ('a', 'DT'), ('one-day', 'JJ'), ('window', 'NN'), ('.', '.')]\",\n",
       " \"[(',', ','), ('with', 'IN'), ('the', 'DT'), ('grade', 'NN'), ('lowered', 'VBN'), ('by', 'IN'), ('one', 'CD'), ('grade', 'NN'), (',', ','), ('with', 'IN'), ('a', 'DT'), ('one-day', 'JJ'), ('window', 'NN'), ('.', '.')]\",\n",
       " \"[(',', ','), ('with', 'IN'), ('the', 'DT'), ('grade', 'NN'), ('lowered', 'VBN'), ('by', 'IN'), ('one', 'CD'), ('grade', 'NN'), (',', ','), ('with', 'IN'), ('a', 'DT'), ('one-day', 'JJ'), ('window', 'NN'), ('.', '.')]\",\n",
       " \"[(',', ','), ('with', 'IN'), ('the', 'DT'), ('grade', 'NN'), ('lowered', 'VBN'), ('by', 'IN'), ('one', 'CD'), ('grade', 'NN'), (',', ','), ('with', 'IN'), ('a', 'DT'), ('one-day', 'JJ'), ('window', 'NN'), ('.', '.')]\",\n",
       " \"[(',', ','), ('with', 'IN'), ('the', 'DT'), ('grade', 'NN'), ('lowered', 'VBN'), ('by', 'IN'), ('one', 'CD'), ('grade', 'NN'), (',', ','), ('with', 'IN'), ('a', 'DT'), ('one-day', 'JJ'), ('window', 'NN'), ('.', '.')]\",\n",
       " \"[(',', ','), ('via', 'IN'), ('my', 'PRP$'), ('email', 'JJ'), ('address', 'NN'), (':', ':')]\",\n",
       " \"[(',', ','), ('with', 'IN'), ('the', 'DT'), ('grade', 'NN'), ('lowered', 'VBN'), ('by', 'IN'), ('one', 'CD'), ('grade', 'NN'), (',', ','), ('with', 'IN'), ('a', 'DT'), ('one-day', 'JJ'), ('window', 'NN'), ('.', '.')]\",\n",
       " \"[(',', ','), ('with', 'IN'), ('the', 'DT'), ('grade', 'NN'), ('lowered', 'VBN'), ('by', 'IN'), ('one', 'CD'), ('grade', 'NN'), (',', ','), ('with', 'IN'), ('a', 'DT'), ('one-day', 'JJ'), ('window', 'NN'), ('.', '.')]\",\n",
       " \"[(',', ','), ('via', 'IN'), ('my', 'PRP$'), ('email', 'JJ'), ('address', 'NN'), (':', ':')]\",\n",
       " \"[(',', ','), ('with', 'IN'), ('the', 'DT'), ('grade', 'NN'), ('lowered', 'VBN'), ('by', 'IN'), ('one', 'CD'), ('grade', 'NN'), (',', ','), ('with', 'IN'), ('a', 'DT'), ('one-day', 'JJ'), ('window', 'NN'), ('.', '.')]\",\n",
       " \"[(',', ','), ('with', 'IN'), ('the', 'DT'), ('grade', 'NN'), ('lowered', 'VBN'), ('by', 'IN'), ('one', 'CD'), ('grade', 'NN'), (',', ','), ('with', 'IN'), ('a', 'DT'), ('one-day', 'JJ'), ('window', 'NN'), ('.', '.')]\",\n",
       " \"[(',', ','), ('with', 'IN'), ('the', 'DT'), ('grade', 'NN'), ('lowered', 'VBN'), ('by', 'IN'), ('one', 'CD'), ('grade', 'NN'), (',', ','), ('with', 'IN'), ('a', 'DT'), ('one-day', 'JJ'), ('window', 'NN'), ('.', '.')]\",\n",
       " \"[(',', ','), ('with', 'IN'), ('the', 'DT'), ('grade', 'NN'), ('lowered', 'VBN'), ('by', 'IN'), ('one', 'CD'), ('grade', 'NN'), (',', ','), ('with', 'IN'), ('a', 'DT'), ('one-day', 'JJ'), ('window', 'NN'), ('.', '.')]\",\n",
       " \"[(',', ','), ('with', 'IN'), ('the', 'DT'), ('grade', 'NN'), ('lowered', 'VBN'), ('by', 'IN'), ('one', 'CD'), ('grade', 'NN'), (',', ','), ('with', 'IN'), ('a', 'DT'), ('one-day', 'JJ'), ('window', 'NN'), ('.', '.')]\",\n",
       " \"[(',', ','), ('with', 'IN'), ('the', 'DT'), ('grade', 'NN'), ('lowered', 'VBN'), ('by', 'IN'), ('one', 'CD'), ('grade', 'NN'), (',', ','), ('with', 'IN'), ('a', 'DT'), ('one-day', 'JJ'), ('window', 'NN'), ('.', '.')]\",\n",
       " \"[(',', ','), ('with', 'IN'), ('the', 'DT'), ('grade', 'NN'), ('lowered', 'VBN'), ('by', 'IN'), ('one', 'CD'), ('grade', 'NN'), (',', ','), ('with', 'IN'), ('a', 'DT'), ('one-day', 'JJ'), ('window', 'NN'), ('.', '.')]\",\n",
       " \"[(',', ','), ('with', 'IN'), ('the', 'DT'), ('grade', 'NN'), ('lowered', 'VBN'), ('by', 'IN'), ('one', 'CD'), ('grade', 'NN'), (',', ','), ('with', 'IN'), ('a', 'DT'), ('one-day', 'JJ'), ('window', 'NN'), ('.', '.')]\",\n",
       " \"[(',', ','), ('via', 'IN'), ('my', 'PRP$'), ('email', 'JJ'), ('address', 'NN'), (':', ':')]\",\n",
       " \"[(',', ','), ('with', 'IN'), ('the', 'DT'), ('grade', 'NN'), ('lowered', 'VBN'), ('by', 'IN'), ('one', 'CD'), ('grade', 'NN'), (',', ','), ('with', 'IN'), ('a', 'DT'), ('one-day', 'JJ'), ('window', 'NN'), ('.', '.')]\",\n",
       " \"[(',', ','), ('via', 'IN'), ('my', 'PRP$'), ('email', 'JJ'), ('address', 'NN'), (':', ':')]\",\n",
       " \"[(',', ','), ('with', 'IN'), ('the', 'DT'), ('grade', 'NN'), ('lowered', 'VBN'), ('by', 'IN'), ('one', 'CD'), ('grade', 'NN'), (',', ','), ('with', 'IN'), ('a', 'DT'), ('one-day', 'JJ'), ('window', 'NN'), ('.', '.')]\",\n",
       " \"[(',', ','), ('via', 'IN'), ('my', 'PRP$'), ('email', 'JJ'), ('address', 'NN'), (':', ':')]\",\n",
       " \"[(',', ','), ('with', 'IN'), ('the', 'DT'), ('grade', 'NN'), ('lowered', 'VBN'), ('by', 'IN'), ('one', 'CD'), ('grade', 'NN'), (',', ','), ('with', 'IN'), ('a', 'DT'), ('one-day', 'JJ'), ('window', 'NN'), ('.', '.')]\",\n",
       " \"[(',', ','), ('with', 'IN'), ('the', 'DT'), ('grade', 'NN'), ('lowered', 'VBN'), ('by', 'IN'), ('one', 'CD'), ('grade', 'NN'), (',', ','), ('with', 'IN'), ('a', 'DT'), ('one-day', 'JJ'), ('window', 'NN'), ('.', '.')]\",\n",
       " \"[(',', ','), ('via', 'IN'), ('my', 'PRP$'), ('email', 'JJ'), ('address', 'NN'), (':', ':')]\",\n",
       " \"[(',', ','), ('with', 'IN'), ('the', 'DT'), ('grade', 'NN'), ('lowered', 'VBN'), ('by', 'IN'), ('one', 'CD'), ('grade', 'NN'), (',', ','), ('with', 'IN'), ('a', 'DT'), ('one-day', 'JJ'), ('window', 'NN'), ('.', '.')]\",\n",
       " \"[(',', ','), ('with', 'IN'), ('the', 'DT'), ('grade', 'NN'), ('lowered', 'VBN'), ('by', 'IN'), ('one', 'CD'), ('grade', 'NN'), (',', ','), ('with', 'IN'), ('a', 'DT'), ('one-day', 'JJ'), ('window', 'NN'), ('.', '.')]\",\n",
       " \"[(',', ','), ('with', 'IN'), ('the', 'DT'), ('grade', 'NN'), ('lowered', 'VBN'), ('by', 'IN'), ('one', 'CD'), ('grade', 'NN'), (',', ','), ('with', 'IN'), ('a', 'DT'), ('one-day', 'JJ'), ('window', 'NN'), ('.', '.')]\",\n",
       " \"[(',', ','), ('with', 'IN'), ('the', 'DT'), ('grade', 'NN'), ('lowered', 'VBN'), ('by', 'IN'), ('one', 'CD'), ('grade', 'NN'), (',', ','), ('with', 'IN'), ('a', 'DT'), ('one-day', 'JJ'), ('window', 'NN'), ('.', '.')]\",\n",
       " \"[(',', ','), ('with', 'IN'), ('the', 'DT'), ('grade', 'NN'), ('lowered', 'VBN'), ('by', 'IN'), ('one', 'CD'), ('grade', 'NN'), (',', ','), ('with', 'IN'), ('a', 'DT'), ('one-day', 'JJ'), ('window', 'NN'), ('.', '.')]\",\n",
       " \"[(',', ','), ('with', 'IN'), ('the', 'DT'), ('grade', 'NN'), ('lowered', 'VBN'), ('by', 'IN'), ('one', 'CD'), ('grade', 'NN'), (',', ','), ('with', 'IN'), ('a', 'DT'), ('one-day', 'JJ'), ('window', 'NN'), ('.', '.')]\",\n",
       " \"[(',', ','), ('with', 'IN'), ('the', 'DT'), ('grade', 'NN'), ('lowered', 'VBN'), ('by', 'IN'), ('one', 'CD'), ('grade', 'NN'), (',', ','), ('with', 'IN'), ('a', 'DT'), ('one-day', 'JJ'), ('window', 'NN'), ('.', '.')]\",\n",
       " \"[(',', ','), ('with', 'IN'), ('the', 'DT'), ('grade', 'NN'), ('lowered', 'VBN'), ('by', 'IN'), ('one', 'CD'), ('grade', 'NN'), (',', ','), ('with', 'IN'), ('a', 'DT'), ('one-day', 'JJ'), ('window', 'NN'), ('.', '.')]\",\n",
       " \"[(',', ','), ('with', 'IN'), ('the', 'DT'), ('grade', 'NN'), ('lowered', 'VBN'), ('by', 'IN'), ('one', 'CD'), ('grade', 'NN'), (',', ','), ('with', 'IN'), ('a', 'DT'), ('one-day', 'JJ'), ('window', 'NN'), ('.', '.')]\",\n",
       " \"[(',', ','), ('with', 'IN'), ('the', 'DT'), ('grade', 'NN'), ('lowered', 'VBN'), ('by', 'IN'), ('one', 'CD'), ('grade', 'NN'), (',', ','), ('with', 'IN'), ('a', 'DT'), ('one-day', 'JJ'), ('window', 'NN'), ('.', '.')]\",\n",
       " \"[(',', ','), ('with', 'IN'), ('the', 'DT'), ('grade', 'NN'), ('lowered', 'VBN'), ('by', 'IN'), ('one', 'CD'), ('grade', 'NN'), (',', ','), ('with', 'IN'), ('a', 'DT'), ('one-day', 'JJ'), ('window', 'NN'), ('.', '.')]\",\n",
       " \"[(',', ','), ('with', 'IN'), ('the', 'DT'), ('grade', 'NN'), ('lowered', 'VBN'), ('by', 'IN'), ('one', 'CD'), ('grade', 'NN'), (',', ','), ('with', 'IN'), ('a', 'DT'), ('one-day', 'JJ'), ('window', 'NN'), ('.', '.')]\",\n",
       " \"[(',', ','), ('with', 'IN'), ('the', 'DT'), ('grade', 'NN'), ('lowered', 'VBN'), ('by', 'IN'), ('one', 'CD'), ('grade', 'NN'), (',', ','), ('with', 'IN'), ('a', 'DT'), ('one-day', 'JJ'), ('window', 'NN'), ('.', '.')]\",\n",
       " \"[(',', ','), ('with', 'IN'), ('the', 'DT'), ('grade', 'NN'), ('lowered', 'VBN'), ('by', 'IN'), ('one', 'CD'), ('grade', 'NN'), (',', ','), ('with', 'IN'), ('a', 'DT'), ('one-day', 'JJ'), ('window', 'NN'), ('.', '.')]\",\n",
       " \"[(',', ','), ('with', 'IN'), ('the', 'DT'), ('grade', 'NN'), ('lowered', 'VBN'), ('by', 'IN'), ('one', 'CD'), ('grade', 'NN'), (',', ','), ('with', 'IN'), ('a', 'DT'), ('one-day', 'JJ'), ('window', 'NN'), ('.', '.')]\",\n",
       " \"[(',', ','), ('with', 'IN'), ('the', 'DT'), ('grade', 'NN'), ('lowered', 'VBN'), ('by', 'IN'), ('one', 'CD'), ('grade', 'NN'), (',', ','), ('with', 'IN'), ('a', 'DT'), ('one-day', 'JJ'), ('window', 'NN'), ('.', '.')]\",\n",
       " \"[(',', ','), ('with', 'IN'), ('the', 'DT'), ('grade', 'NN'), ('lowered', 'VBN'), ('by', 'IN'), ('one', 'CD'), ('grade', 'NN'), (',', ','), ('with', 'IN'), ('a', 'DT'), ('one-day', 'JJ'), ('window', 'NN'), ('.', '.')]\",\n",
       " \"[(',', ','), ('with', 'IN'), ('the', 'DT'), ('grade', 'NN'), ('lowered', 'VBN'), ('by', 'IN'), ('one', 'CD'), ('grade', 'NN'), (',', ','), ('with', 'IN'), ('a', 'DT'), ('one-day', 'JJ'), ('window', 'NN'), ('.', '.')]\",\n",
       " \"[(',', ','), ('with', 'IN'), ('the', 'DT'), ('grade', 'NN'), ('lowered', 'VBN'), ('by', 'IN'), ('one', 'CD'), ('grade', 'NN'), (',', ','), ('with', 'IN'), ('a', 'DT'), ('one-day', 'JJ'), ('window', 'NN'), ('.', '.')]\",\n",
       " \"[(',', ','), ('with', 'IN'), ('the', 'DT'), ('grade', 'NN'), ('lowered', 'VBN'), ('by', 'IN'), ('one', 'CD'), ('grade', 'NN'), (',', ','), ('with', 'IN'), ('a', 'DT'), ('one-day', 'JJ'), ('window', 'NN'), ('.', '.')]\",\n",
       " \"[(',', ','), ('with', 'IN'), ('the', 'DT'), ('grade', 'NN'), ('lowered', 'VBN'), ('by', 'IN'), ('one', 'CD'), ('grade', 'NN'), (',', ','), ('with', 'IN'), ('a', 'DT'), ('one-day', 'JJ'), ('window', 'NN'), ('.', '.')]\",\n",
       " \"[(',', ','), ('with', 'IN'), ('the', 'DT'), ('grade', 'NN'), ('lowered', 'VBN'), ('by', 'IN'), ('one', 'CD'), ('grade', 'NN'), (',', ','), ('with', 'IN'), ('a', 'DT'), ('one-day', 'JJ'), ('window', 'NN'), ('.', '.')]\",\n",
       " \"[(',', ','), ('with', 'IN'), ('the', 'DT'), ('grade', 'NN'), ('lowered', 'VBN'), ('by', 'IN'), ('one', 'CD'), ('grade', 'NN'), (',', ','), ('with', 'IN'), ('a', 'DT'), ('one-day', 'JJ'), ('window', 'NN'), ('.', '.')]\",\n",
       " \"[(',', ','), ('with', 'IN'), ('the', 'DT'), ('grade', 'NN'), ('lowered', 'VBN'), ('by', 'IN'), ('one', 'CD'), ('grade', 'NN'), (',', ','), ('with', 'IN'), ('a', 'DT'), ('one-day', 'JJ'), ('window', 'NN'), ('.', '.')]\",\n",
       " \"[(',', ','), ('with', 'IN'), ('the', 'DT'), ('grade', 'NN'), ('lowered', 'VBN'), ('by', 'IN'), ('one', 'CD'), ('grade', 'NN'), (',', ','), ('with', 'IN'), ('a', 'DT'), ('one-day', 'JJ'), ('window', 'NN'), ('.', '.')]\",\n",
       " \"[(',', ','), ('with', 'IN'), ('the', 'DT'), ('grade', 'NN'), ('lowered', 'VBN'), ('by', 'IN'), ('one', 'CD'), ('grade', 'NN'), (',', ','), ('with', 'IN'), ('a', 'DT'), ('one-day', 'JJ'), ('window', 'NN'), ('.', '.')]\",\n",
       " \"[(',', ','), ('with', 'IN'), ('the', 'DT'), ('grade', 'NN'), ('lowered', 'VBN'), ('by', 'IN'), ('one', 'CD'), ('grade', 'NN'), (',', ','), ('with', 'IN'), ('a', 'DT'), ('one-day', 'JJ'), ('window', 'NN'), ('.', '.')]\",\n",
       " \"[(',', ','), ('with', 'IN'), ('the', 'DT'), ('grade', 'NN'), ('lowered', 'VBN'), ('by', 'IN'), ('one', 'CD'), ('grade', 'NN'), (',', ','), ('with', 'IN'), ('a', 'DT'), ('one-day', 'JJ'), ('window', 'NN'), ('.', '.')]\",\n",
       " \"[(',', ','), ('with', 'IN'), ('the', 'DT'), ('grade', 'NN'), ('lowered', 'VBN'), ('by', 'IN'), ('one', 'CD'), ('grade', 'NN'), (',', ','), ('with', 'IN'), ('a', 'DT'), ('one-day', 'JJ'), ('window', 'NN'), ('.', '.')]\",\n",
       " \"[(',', ','), ('with', 'IN'), ('the', 'DT'), ('grade', 'NN'), ('lowered', 'VBN'), ('by', 'IN'), ('one', 'CD'), ('grade', 'NN'), (',', ','), ('with', 'IN'), ('a', 'DT'), ('one-day', 'JJ'), ('window', 'NN'), ('.', '.')]\",\n",
       " \"[(',', ','), ('with', 'IN'), ('the', 'DT'), ('grade', 'NN'), ('lowered', 'VBN'), ('by', 'IN'), ('one', 'CD'), ('grade', 'NN'), (',', ','), ('with', 'IN'), ('a', 'DT'), ('one-day', 'JJ'), ('window', 'NN'), ('.', '.')]\",\n",
       " \"[(',', ','), ('with', 'IN'), ('the', 'DT'), ('grade', 'NN'), ('lowered', 'VBN'), ('by', 'IN'), ('one', 'CD'), ('grade', 'NN'), (',', ','), ('with', 'IN'), ('a', 'DT'), ('one-day', 'JJ'), ('window', 'NN'), ('.', '.')]\",\n",
       " \"[(',', ','), ('with', 'IN'), ('the', 'DT'), ('grade', 'NN'), ('lowered', 'VBN'), ('by', 'IN'), ('one', 'CD'), ('grade', 'NN'), (',', ','), ('with', 'IN'), ('a', 'DT'), ('one-day', 'JJ'), ('window', 'NN'), ('.', '.')]\",\n",
       " \"[(',', ','), ('with', 'IN'), ('the', 'DT'), ('grade', 'NN'), ('lowered', 'VBN'), ('by', 'IN'), ('one', 'CD'), ('grade', 'NN'), (',', ','), ('with', 'IN'), ('a', 'DT'), ('one-day', 'JJ'), ('window', 'NN'), ('.', '.')]\",\n",
       " \"[(',', ','), ('with', 'IN'), ('the', 'DT'), ('grade', 'NN'), ('lowered', 'VBN'), ('by', 'IN'), ('one', 'CD'), ('grade', 'NN'), (',', ','), ('with', 'IN'), ('a', 'DT'), ('one-day', 'JJ'), ('window', 'NN'), ('.', '.')]\",\n",
       " \"[(',', ','), ('with', 'IN'), ('the', 'DT'), ('grade', 'NN'), ('lowered', 'VBN'), ('by', 'IN'), ('one', 'CD'), ('grade', 'NN'), (',', ','), ('with', 'IN'), ('a', 'DT'), ('one-day', 'JJ'), ('window', 'NN'), ('.', '.')]\",\n",
       " \"[(',', ','), ('with', 'IN'), ('the', 'DT'), ('grade', 'NN'), ('lowered', 'VBN'), ('by', 'IN'), ('one', 'CD'), ('grade', 'NN'), (',', ','), ('with', 'IN'), ('a', 'DT'), ('one-day', 'JJ'), ('window', 'NN'), ('.', '.')]\",\n",
       " \"[(',', ','), ('with', 'IN'), ('the', 'DT'), ('grade', 'NN'), ('lowered', 'VBN'), ('by', 'IN'), ('one', 'CD'), ('grade', 'NN'), (',', ','), ('with', 'IN'), ('a', 'DT'), ('one-day', 'JJ'), ('window', 'NN'), ('.', '.')]\",\n",
       " \"[(',', ','), ('with', 'IN'), ('the', 'DT'), ('grade', 'NN'), ('lowered', 'VBN'), ('by', 'IN'), ('one', 'CD'), ('grade', 'NN'), (',', ','), ('with', 'IN'), ('a', 'DT'), ('one-day', 'JJ'), ('window', 'NN'), ('.', '.')]\",\n",
       " \"[(',', ','), ('with', 'IN'), ('the', 'DT'), ('grade', 'NN'), ('lowered', 'VBN'), ('by', 'IN'), ('one', 'CD'), ('grade', 'NN'), (',', ','), ('with', 'IN'), ('a', 'DT'), ('one-day', 'JJ'), ('window', 'NN'), ('.', '.')]\",\n",
       " \"[(',', ','), ('with', 'IN'), ('the', 'DT'), ('grade', 'NN'), ('lowered', 'VBN'), ('by', 'IN'), ('one', 'CD'), ('grade', 'NN'), (',', ','), ('with', 'IN'), ('a', 'DT'), ('one-day', 'JJ'), ('window', 'NN'), ('.', '.')]\",\n",
       " \"[(',', ','), ('with', 'IN'), ('the', 'DT'), ('grade', 'NN'), ('lowered', 'VBN'), ('by', 'IN'), ('one', 'CD'), ('grade', 'NN'), (',', ','), ('with', 'IN'), ('a', 'DT'), ('one-day', 'JJ'), ('window', 'NN'), ('.', '.')]\",\n",
       " \"[(',', ','), ('with', 'IN'), ('the', 'DT'), ('grade', 'NN'), ('lowered', 'VBN'), ('by', 'IN'), ('one', 'CD'), ('grade', 'NN'), (',', ','), ('with', 'IN'), ('a', 'DT'), ('one-day', 'JJ'), ('window', 'NN'), ('.', '.')]\",\n",
       " \"[(',', ','), ('with', 'IN'), ('the', 'DT'), ('grade', 'NN'), ('lowered', 'VBN'), ('by', 'IN'), ('one', 'CD'), ('grade', 'NN'), (',', ','), ('with', 'IN'), ('a', 'DT'), ('one-day', 'JJ'), ('window', 'NN'), ('.', '.')]\",\n",
       " \"[(',', ','), ('with', 'IN'), ('the', 'DT'), ('grade', 'NN'), ('lowered', 'VBN'), ('by', 'IN'), ('one', 'CD'), ('grade', 'NN'), (',', ','), ('with', 'IN'), ('a', 'DT'), ('one-day', 'JJ'), ('window', 'NN'), ('.', '.')]\",\n",
       " \"[(',', ','), ('with', 'IN'), ('the', 'DT'), ('grade', 'NN'), ('lowered', 'VBN'), ('by', 'IN'), ('one', 'CD'), ('grade', 'NN'), (',', ','), ('with', 'IN'), ('a', 'DT'), ('one-day', 'JJ'), ('window', 'NN'), ('.', '.')]\",\n",
       " \"[(',', ','), ('with', 'IN'), ('the', 'DT'), ('grade', 'NN'), ('lowered', 'VBN'), ('by', 'IN'), ('one', 'CD'), ('grade', 'NN'), (',', ','), ('with', 'IN'), ('a', 'DT'), ('one-day', 'JJ'), ('window', 'NN'), ('.', '.')]\",\n",
       " \"[(',', ','), ('with', 'IN'), ('the', 'DT'), ('grade', 'NN'), ('lowered', 'VBN'), ('by', 'IN'), ('one', 'CD'), ('grade', 'NN'), (',', ','), ('with', 'IN'), ('a', 'DT'), ('one-day', 'JJ'), ('window', 'NN'), ('.', '.')]\",\n",
       " \"[(',', ','), ('with', 'IN'), ('the', 'DT'), ('grade', 'NN'), ('lowered', 'VBN'), ('by', 'IN'), ('one', 'CD'), ('grade', 'NN'), (',', ','), ('with', 'IN'), ('a', 'DT'), ('one-day', 'JJ'), ('window', 'NN'), ('.', '.')]\",\n",
       " \"[(',', ','), ('with', 'IN'), ('the', 'DT'), ('grade', 'NN'), ('lowered', 'VBN'), ('by', 'IN'), ('one', 'CD'), ('grade', 'NN'), (',', ','), ('with', 'IN'), ('a', 'DT'), ('one-day', 'JJ'), ('window', 'NN'), ('.', '.')]\",\n",
       " \"[(',', ','), ('with', 'IN'), ('the', 'DT'), ('grade', 'NN'), ('lowered', 'VBN'), ('by', 'IN'), ('one', 'CD'), ('grade', 'NN'), (',', ','), ('with', 'IN'), ('a', 'DT'), ('one-day', 'JJ'), ('window', 'NN'), ('.', '.')]\",\n",
       " \"[(',', ','), ('with', 'IN'), ('the', 'DT'), ('grade', 'NN'), ('lowered', 'VBN'), ('by', 'IN'), ('one', 'CD'), ('grade', 'NN'), (',', ','), ('with', 'IN'), ('a', 'DT'), ('one-day', 'JJ'), ('window', 'NN'), ('.', '.')]\",\n",
       " \"[(',', ','), ('with', 'IN'), ('the', 'DT'), ('grade', 'NN'), ('lowered', 'VBN'), ('by', 'IN'), ('one', 'CD'), ('grade', 'NN'), (',', ','), ('with', 'IN'), ('a', 'DT'), ('one-day', 'JJ'), ('window', 'NN'), ('.', '.')]\",\n",
       " \"[(',', ','), ('with', 'IN'), ('the', 'DT'), ('grade', 'NN'), ('lowered', 'VBN'), ('by', 'IN'), ('one', 'CD'), ('grade', 'NN'), (',', ','), ('with', 'IN'), ('a', 'DT'), ('one-day', 'JJ'), ('window', 'NN'), ('.', '.')]\",\n",
       " \"[(',', ','), ('with', 'IN'), ('the', 'DT'), ('grade', 'NN'), ('lowered', 'VBN'), ('by', 'IN'), ('one', 'CD'), ('grade', 'NN'), (',', ','), ('with', 'IN'), ('a', 'DT'), ('one-day', 'JJ'), ('window', 'NN'), ('.', '.')]\",\n",
       " \"[(',', ','), ('with', 'IN'), ('the', 'DT'), ('grade', 'NN'), ('lowered', 'VBN'), ('by', 'IN'), ('one', 'CD'), ('grade', 'NN'), (',', ','), ('with', 'IN'), ('a', 'DT'), ('one-day', 'JJ'), ('window', 'NN'), ('.', '.')]\",\n",
       " \"[(',', ','), ('with', 'IN'), ('the', 'DT'), ('grade', 'NN'), ('lowered', 'VBN'), ('by', 'IN'), ('one', 'CD'), ('grade', 'NN'), (',', ','), ('with', 'IN'), ('a', 'DT'), ('one-day', 'JJ'), ('window', 'NN'), ('.', '.')]\",\n",
       " \"[(',', ','), ('with', 'IN'), ('the', 'DT'), ('grade', 'NN'), ('lowered', 'VBN'), ('by', 'IN'), ('one', 'CD'), ('grade', 'NN'), (',', ','), ('with', 'IN'), ('a', 'DT'), ('one-day', 'JJ'), ('window', 'NN'), ('.', '.')]\",\n",
       " \"[(',', ','), ('with', 'IN'), ('the', 'DT'), ('grade', 'NN'), ('lowered', 'VBN'), ('by', 'IN'), ('one', 'CD'), ('grade', 'NN'), (',', ','), ('with', 'IN'), ('a', 'DT'), ('one-day', 'JJ'), ('window', 'NN'), ('.', '.')]\",\n",
       " \"[(',', ','), ('with', 'IN'), ('the', 'DT'), ('grade', 'NN'), ('lowered', 'VBN'), ('by', 'IN'), ('one', 'CD'), ('grade', 'NN'), (',', ','), ('with', 'IN'), ('a', 'DT'), ('one-day', 'JJ'), ('window', 'NN'), ('.', '.')]\",\n",
       " \"[(',', ','), ('with', 'IN'), ('the', 'DT'), ('grade', 'NN'), ('lowered', 'VBN'), ('by', 'IN'), ('one', 'CD'), ('grade', 'NN'), (',', ','), ('with', 'IN'), ('a', 'DT'), ('one-day', 'JJ'), ('window', 'NN'), ('.', '.')]\",\n",
       " \"[(',', ','), ('with', 'IN'), ('the', 'DT'), ('grade', 'NN'), ('lowered', 'VBN'), ('by', 'IN'), ('one', 'CD'), ('grade', 'NN'), (',', ','), ('with', 'IN'), ('a', 'DT'), ('one-day', 'JJ'), ('window', 'NN'), ('.', '.')]\",\n",
       " \"[(',', ','), ('with', 'IN'), ('the', 'DT'), ('grade', 'NN'), ('lowered', 'VBN'), ('by', 'IN'), ('one', 'CD'), ('grade', 'NN'), (',', ','), ('with', 'IN'), ('a', 'DT'), ('one-day', 'JJ'), ('window', 'NN'), ('.', '.')]\",\n",
       " \"[(',', ','), ('with', 'IN'), ('the', 'DT'), ('grade', 'NN'), ('lowered', 'VBN'), ('by', 'IN'), ('one', 'CD'), ('grade', 'NN'), (',', ','), ('with', 'IN'), ('a', 'DT'), ('one-day', 'JJ'), ('window', 'NN'), ('.', '.')]\",\n",
       " \"[(',', ','), ('with', 'IN'), ('the', 'DT'), ('grade', 'NN'), ('lowered', 'VBN'), ('by', 'IN'), ('one', 'CD'), ('grade', 'NN'), (',', ','), ('with', 'IN'), ('a', 'DT'), ('one-day', 'JJ'), ('window', 'NN'), ('.', '.')]\",\n",
       " \"[(',', ','), ('with', 'IN'), ('the', 'DT'), ('grade', 'NN'), ('lowered', 'VBN'), ('by', 'IN'), ('one', 'CD'), ('grade', 'NN'), (',', ','), ('with', 'IN'), ('a', 'DT'), ('one-day', 'JJ'), ('window', 'NN'), ('.', '.')]\",\n",
       " \"[(',', ','), ('with', 'IN'), ('the', 'DT'), ('grade', 'NN'), ('lowered', 'VBN'), ('by', 'IN'), ('one', 'CD'), ('grade', 'NN'), (',', ','), ('with', 'IN'), ('a', 'DT'), ('one-day', 'JJ'), ('window', 'NN'), ('.', '.')]\",\n",
       " \"[(',', ','), ('with', 'IN'), ('the', 'DT'), ('grade', 'NN'), ('lowered', 'VBN'), ('by', 'IN'), ('one', 'CD'), ('grade', 'NN'), (',', ','), ('with', 'IN'), ('a', 'DT'), ('one-day', 'JJ'), ('window', 'NN'), ('.', '.')]\",\n",
       " \"[(',', ','), ('with', 'IN'), ('the', 'DT'), ('grade', 'NN'), ('lowered', 'VBN'), ('by', 'IN'), ('one', 'CD'), ('grade', 'NN'), (',', ','), ('with', 'IN'), ('a', 'DT'), ('one-day', 'JJ'), ('window', 'NN'), ('.', '.')]\",\n",
       " \"[(',', ','), ('with', 'IN'), ('the', 'DT'), ('grade', 'NN'), ('lowered', 'VBN'), ('by', 'IN'), ('one', 'CD'), ('grade', 'NN'), (',', ','), ('with', 'IN'), ('a', 'DT'), ('one-day', 'JJ'), ('window', 'NN'), ('.', '.')]\",\n",
       " \"[(',', ','), ('with', 'IN'), ('the', 'DT'), ('grade', 'NN'), ('lowered', 'VBN'), ('by', 'IN'), ('one', 'CD'), ('grade', 'NN'), (',', ','), ('with', 'IN'), ('a', 'DT'), ('one-day', 'JJ'), ('window', 'NN'), ('.', '.')]\",\n",
       " \"[(',', ','), ('with', 'IN'), ('the', 'DT'), ('grade', 'NN'), ('lowered', 'VBN'), ('by', 'IN'), ('one', 'CD'), ('grade', 'NN'), (',', ','), ('with', 'IN'), ('a', 'DT'), ('one-day', 'JJ'), ('window', 'NN'), ('.', '.')]\",\n",
       " \"[(',', ','), ('with', 'IN'), ('the', 'DT'), ('grade', 'NN'), ('lowered', 'VBN'), ('by', 'IN'), ('one', 'CD'), ('grade', 'NN'), (',', ','), ('with', 'IN'), ('a', 'DT'), ('one-day', 'JJ'), ('window', 'NN'), ('.', '.')]\",\n",
       " \"[(',', ','), ('with', 'IN'), ('the', 'DT'), ('grade', 'NN'), ('lowered', 'VBN'), ('by', 'IN'), ('one', 'CD'), ('grade', 'NN'), (',', ','), ('with', 'IN'), ('a', 'DT'), ('one-day', 'JJ'), ('window', 'NN'), ('.', '.')]\",\n",
       " \"[(',', ','), ('with', 'IN'), ('the', 'DT'), ('grade', 'NN'), ('lowered', 'VBN'), ('by', 'IN'), ('one', 'CD'), ('grade', 'NN'), (',', ','), ('with', 'IN'), ('a', 'DT'), ('one-day', 'JJ'), ('window', 'NN'), ('.', '.')]\",\n",
       " \"[(',', ','), ('with', 'IN'), ('the', 'DT'), ('grade', 'NN'), ('lowered', 'VBN'), ('by', 'IN'), ('one', 'CD'), ('grade', 'NN'), (',', ','), ('with', 'IN'), ('a', 'DT'), ('one-day', 'JJ'), ('window', 'NN'), ('.', '.')]\",\n",
       " \"[(',', ','), ('with', 'IN'), ('the', 'DT'), ('grade', 'NN'), ('lowered', 'VBN'), ('by', 'IN'), ('one', 'CD'), ('grade', 'NN'), (',', ','), ('with', 'IN'), ('a', 'DT'), ('one-day', 'JJ'), ('window', 'NN'), ('.', '.')]\",\n",
       " \"[(',', ','), ('with', 'IN'), ('the', 'DT'), ('grade', 'NN'), ('lowered', 'VBN'), ('by', 'IN'), ('one', 'CD'), ('grade', 'NN'), (',', ','), ('with', 'IN'), ('a', 'DT'), ('one-day', 'JJ'), ('window', 'NN'), ('.', '.')]\",\n",
       " \"[(',', ','), ('with', 'IN'), ('the', 'DT'), ('grade', 'NN'), ('lowered', 'VBN'), ('by', 'IN'), ('one', 'CD'), ('grade', 'NN'), (',', ','), ('with', 'IN'), ('a', 'DT'), ('one-day', 'JJ'), ('window', 'NN'), ('.', '.')]\",\n",
       " \"[(',', ','), ('with', 'IN'), ('the', 'DT'), ('grade', 'NN'), ('lowered', 'VBN'), ('by', 'IN'), ('one', 'CD'), ('grade', 'NN'), (',', ','), ('with', 'IN'), ('a', 'DT'), ('one-day', 'JJ'), ('window', 'NN'), ('.', '.')]\",\n",
       " \"[(',', ','), ('with', 'IN'), ('the', 'DT'), ('grade', 'NN'), ('lowered', 'VBN'), ('by', 'IN'), ('one', 'CD'), ('grade', 'NN'), (',', ','), ('with', 'IN'), ('a', 'DT'), ('one-day', 'JJ'), ('window', 'NN'), ('.', '.')]\",\n",
       " \"[(',', ','), ('with', 'IN'), ('the', 'DT'), ('grade', 'NN'), ('lowered', 'VBN'), ('by', 'IN'), ('one', 'CD'), ('grade', 'NN'), (',', ','), ('with', 'IN'), ('a', 'DT'), ('one-day', 'JJ'), ('window', 'NN'), ('.', '.')]\",\n",
       " \"[(',', ','), ('with', 'IN'), ('the', 'DT'), ('grade', 'NN'), ('lowered', 'VBN'), ('by', 'IN'), ('one', 'CD'), ('grade', 'NN'), (',', ','), ('with', 'IN'), ('a', 'DT'), ('one-day', 'JJ'), ('window', 'NN'), ('.', '.')]\",\n",
       " \"[(',', ','), ('with', 'IN'), ('the', 'DT'), ('grade', 'NN'), ('lowered', 'VBN'), ('by', 'IN'), ('one', 'CD'), ('grade', 'NN'), (',', ','), ('with', 'IN'), ('a', 'DT'), ('one-day', 'JJ'), ('window', 'NN'), ('.', '.')]\",\n",
       " \"[(',', ','), ('with', 'IN'), ('the', 'DT'), ('grade', 'NN'), ('lowered', 'VBN'), ('by', 'IN'), ('one', 'CD'), ('grade', 'NN'), (',', ','), ('with', 'IN'), ('a', 'DT'), ('one-day', 'JJ'), ('window', 'NN'), ('.', '.')]\",\n",
       " \"[(',', ','), ('with', 'IN'), ('the', 'DT'), ('grade', 'NN'), ('lowered', 'VBN'), ('by', 'IN'), ('one', 'CD'), ('grade', 'NN'), (',', ','), ('with', 'IN'), ('a', 'DT'), ('one-day', 'JJ'), ('window', 'NN'), ('.', '.')]\",\n",
       " \"[(',', ','), ('with', 'IN'), ('the', 'DT'), ('grade', 'NN'), ('lowered', 'VBN'), ('by', 'IN'), ('one', 'CD'), ('grade', 'NN'), (',', ','), ('with', 'IN'), ('a', 'DT'), ('one-day', 'JJ'), ('window', 'NN'), ('.', '.')]\",\n",
       " \"[(',', ','), ('with', 'IN'), ('the', 'DT'), ('grade', 'NN'), ('lowered', 'VBN'), ('by', 'IN'), ('one', 'CD'), ('grade', 'NN'), (',', ','), ('with', 'IN'), ('a', 'DT'), ('one-day', 'JJ'), ('window', 'NN'), ('.', '.')]\",\n",
       " \"[(',', ','), ('with', 'IN'), ('the', 'DT'), ('grade', 'NN'), ('lowered', 'VBN'), ('by', 'IN'), ('one', 'CD'), ('grade', 'NN'), (',', ','), ('with', 'IN'), ('a', 'DT'), ('one-day', 'JJ'), ('window', 'NN'), ('.', '.')]\",\n",
       " \"[(',', ','), ('via', 'IN'), ('my', 'PRP$'), ('email', 'JJ'), ('address', 'NN'), (':', ':')]\",\n",
       " \"[(',', ','), ('with', 'IN'), ('the', 'DT'), ('grade', 'NN'), ('lowered', 'VBN'), ('by', 'IN'), ('one', 'CD'), ('grade', 'NN'), (',', ','), ('with', 'IN'), ('a', 'DT'), ('one-day', 'JJ'), ('window', 'NN'), ('.', '.')]\",\n",
       " \"[(',', ','), ('with', 'IN'), ('the', 'DT'), ('grade', 'NN'), ('lowered', 'VBN'), ('by', 'IN'), ('one', 'CD'), ('grade', 'NN'), (',', ','), ('with', 'IN'), ('a', 'DT'), ('one-day', 'JJ'), ('window', 'NN'), ('.', '.')]\",\n",
       " \"[(',', ','), ('with', 'IN'), ('the', 'DT'), ('grade', 'NN'), ('lowered', 'VBN'), ('by', 'IN'), ('one', 'CD'), ('grade', 'NN'), (',', ','), ('with', 'IN'), ('a', 'DT'), ('one-day', 'JJ'), ('window', 'NN'), ('.', '.')]\",\n",
       " \"[(',', ','), ('with', 'IN'), ('the', 'DT'), ('grade', 'NN'), ('lowered', 'VBN'), ('by', 'IN'), ('one', 'CD'), ('grade', 'NN'), (',', ','), ('with', 'IN'), ('a', 'DT'), ('one-day', 'JJ'), ('window', 'NN'), ('.', '.')]\",\n",
       " \"[(',', ','), ('with', 'IN'), ('the', 'DT'), ('grade', 'NN'), ('lowered', 'VBN'), ('by', 'IN'), ('one', 'CD'), ('grade', 'NN'), (',', ','), ('with', 'IN'), ('a', 'DT'), ('one-day', 'JJ'), ('window', 'NN'), ('.', '.')]\",\n",
       " \"[(',', ','), ('with', 'IN'), ('the', 'DT'), ('grade', 'NN'), ('lowered', 'VBN'), ('by', 'IN'), ('one', 'CD'), ('grade', 'NN'), (',', ','), ('with', 'IN'), ('a', 'DT'), ('one-day', 'JJ'), ('window', 'NN'), ('.', '.')]\",\n",
       " \"[(',', ','), ('with', 'IN'), ('the', 'DT'), ('grade', 'NN'), ('lowered', 'VBN'), ('by', 'IN'), ('one', 'CD'), ('grade', 'NN'), (',', ','), ('with', 'IN'), ('a', 'DT'), ('one-day', 'JJ'), ('window', 'NN'), ('.', '.')]\",\n",
       " \"[(',', ','), ('with', 'IN'), ('the', 'DT'), ('grade', 'NN'), ('lowered', 'VBN'), ('by', 'IN'), ('one', 'CD'), ('grade', 'NN'), (',', ','), ('with', 'IN'), ('a', 'DT'), ('one-day', 'JJ'), ('window', 'NN'), ('.', '.')]\",\n",
       " \"[(',', ','), ('with', 'IN'), ('the', 'DT'), ('grade', 'NN'), ('lowered', 'VBN'), ('by', 'IN'), ('one', 'CD'), ('grade', 'NN'), (',', ','), ('with', 'IN'), ('a', 'DT'), ('one-day', 'JJ'), ('window', 'NN'), ('.', '.')]\",\n",
       " \"[(',', ','), ('with', 'IN'), ('the', 'DT'), ('grade', 'NN'), ('lowered', 'VBN'), ('by', 'IN'), ('one', 'CD'), ('grade', 'NN'), (',', ','), ('with', 'IN'), ('a', 'DT'), ('one-day', 'JJ'), ('window', 'NN'), ('.', '.')]\",\n",
       " \"[(',', ','), ('with', 'IN'), ('the', 'DT'), ('grade', 'NN'), ('lowered', 'VBN'), ('by', 'IN'), ('one', 'CD'), ('grade', 'NN'), (',', ','), ('with', 'IN'), ('a', 'DT'), ('one-day', 'JJ'), ('window', 'NN'), ('.', '.')]\",\n",
       " \"[(',', ','), ('with', 'IN'), ('the', 'DT'), ('grade', 'NN'), ('lowered', 'VBN'), ('by', 'IN'), ('one', 'CD'), ('grade', 'NN'), (',', ','), ('with', 'IN'), ('a', 'DT'), ('one-day', 'JJ'), ('window', 'NN'), ('.', '.')]\",\n",
       " \"[(',', ','), ('with', 'IN'), ('the', 'DT'), ('grade', 'NN'), ('lowered', 'VBN'), ('by', 'IN'), ('one', 'CD'), ('grade', 'NN'), (',', ','), ('with', 'IN'), ('a', 'DT'), ('one-day', 'JJ'), ('window', 'NN'), ('.', '.')]\",\n",
       " \"[(',', ','), ('with', 'IN'), ('the', 'DT'), ('grade', 'NN'), ('lowered', 'VBN'), ('by', 'IN'), ('one', 'CD'), ('grade', 'NN'), (',', ','), ('with', 'IN'), ('a', 'DT'), ('one-day', 'JJ'), ('window', 'NN'), ('.', '.')]\",\n",
       " \"[(',', ','), ('with', 'IN'), ('the', 'DT'), ('grade', 'NN'), ('lowered', 'VBN'), ('by', 'IN'), ('one', 'CD'), ('grade', 'NN'), (',', ','), ('with', 'IN'), ('a', 'DT'), ('one-day', 'JJ'), ('window', 'NN'), ('.', '.')]\",\n",
       " \"[(',', ','), ('with', 'IN'), ('the', 'DT'), ('grade', 'NN'), ('lowered', 'VBN'), ('by', 'IN'), ('one', 'CD'), ('grade', 'NN'), (',', ','), ('with', 'IN'), ('a', 'DT'), ('one-day', 'JJ'), ('window', 'NN'), ('.', '.')]\",\n",
       " \"[(',', ','), ('with', 'IN'), ('the', 'DT'), ('grade', 'NN'), ('lowered', 'VBN'), ('by', 'IN'), ('one', 'CD'), ('grade', 'NN'), (',', ','), ('with', 'IN'), ('a', 'DT'), ('one-day', 'JJ'), ('window', 'NN'), ('.', '.')]\",\n",
       " \"[(',', ','), ('with', 'IN'), ('the', 'DT'), ('grade', 'NN'), ('lowered', 'VBN'), ('by', 'IN'), ('one', 'CD'), ('grade', 'NN'), (',', ','), ('with', 'IN'), ('a', 'DT'), ('one-day', 'JJ'), ('window', 'NN'), ('.', '.')]\",\n",
       " \"[(',', ','), ('with', 'IN'), ('the', 'DT'), ('grade', 'NN'), ('lowered', 'VBN'), ('by', 'IN'), ('one', 'CD'), ('grade', 'NN'), (',', ','), ('with', 'IN'), ('a', 'DT'), ('one-day', 'JJ'), ('window', 'NN'), ('.', '.')]\",\n",
       " \"[(',', ','), ('with', 'IN'), ('the', 'DT'), ('grade', 'NN'), ('lowered', 'VBN'), ('by', 'IN'), ('one', 'CD'), ('grade', 'NN'), (',', ','), ('with', 'IN'), ('a', 'DT'), ('one-day', 'JJ'), ('window', 'NN'), ('.', '.')]\",\n",
       " \"[(',', ','), ('with', 'IN'), ('the', 'DT'), ('grade', 'NN'), ('lowered', 'VBN'), ('by', 'IN'), ('one', 'CD'), ('grade', 'NN'), (',', ','), ('with', 'IN'), ('a', 'DT'), ('one-day', 'JJ'), ('window', 'NN'), ('.', '.')]\",\n",
       " \"[(',', ','), ('with', 'IN'), ('the', 'DT'), ('grade', 'NN'), ('lowered', 'VBN'), ('by', 'IN'), ('one', 'CD'), ('grade', 'NN'), (',', ','), ('with', 'IN'), ('a', 'DT'), ('one-day', 'JJ'), ('window', 'NN'), ('.', '.')]\",\n",
       " \"[(',', ','), ('via', 'IN'), ('my', 'PRP$'), ('email', 'JJ'), ('address', 'NN'), (':', ':')]\",\n",
       " \"[(',', ','), ('with', 'IN'), ('the', 'DT'), ('grade', 'NN'), ('lowered', 'VBN'), ('by', 'IN'), ('one', 'CD'), ('grade', 'NN'), (',', ','), ('with', 'IN'), ('a', 'DT'), ('one-day', 'JJ'), ('window', 'NN'), ('.', '.')]\",\n",
       " \"[(',', ','), ('with', 'IN'), ('the', 'DT'), ('grade', 'NN'), ('lowered', 'VBN'), ('by', 'IN'), ('one', 'CD'), ('grade', 'NN'), (',', ','), ('with', 'IN'), ('a', 'DT'), ('one-day', 'JJ'), ('window', 'NN'), ('.', '.')]\",\n",
       " \"[(',', ','), ('with', 'IN'), ('the', 'DT'), ('grade', 'NN'), ('lowered', 'VBN'), ('by', 'IN'), ('one', 'CD'), ('grade', 'NN'), (',', ','), ('with', 'IN'), ('a', 'DT'), ('one-day', 'JJ'), ('window', 'NN'), ('.', '.')]\",\n",
       " \"[(',', ','), ('via', 'IN'), ('my', 'PRP$'), ('email', 'JJ'), ('address', 'NN'), (':', ':')]\",\n",
       " \"[(',', ','), ('with', 'IN'), ('the', 'DT'), ('grade', 'NN'), ('lowered', 'VBN'), ('by', 'IN'), ('one', 'CD'), ('grade', 'NN'), (',', ','), ('with', 'IN'), ('a', 'DT'), ('one-day', 'JJ'), ('window', 'NN'), ('.', '.')]\",\n",
       " \"[(',', ','), ('with', 'IN'), ('the', 'DT'), ('grade', 'NN'), ('lowered', 'VBN'), ('by', 'IN'), ('one', 'CD'), ('grade', 'NN'), (',', ','), ('with', 'IN'), ('a', 'DT'), ('one-day', 'JJ'), ('window', 'NN'), ('.', '.')]\",\n",
       " \"[(',', ','), ('with', 'IN'), ('the', 'DT'), ('grade', 'NN'), ('lowered', 'VBN'), ('by', 'IN'), ('one', 'CD'), ('grade', 'NN'), (',', ','), ('with', 'IN'), ('a', 'DT'), ('one-day', 'JJ'), ('window', 'NN'), ('.', '.')]\",\n",
       " \"[(',', ','), ('with', 'IN'), ('the', 'DT'), ('grade', 'NN'), ('lowered', 'VBN'), ('by', 'IN'), ('one', 'CD'), ('grade', 'NN'), (',', ','), ('with', 'IN'), ('a', 'DT'), ('one-day', 'JJ'), ('window', 'NN'), ('.', '.')]\",\n",
       " \"[(',', ','), ('with', 'IN'), ('the', 'DT'), ('grade', 'NN'), ('lowered', 'VBN'), ('by', 'IN'), ('one', 'CD'), ('grade', 'NN'), (',', ','), ('with', 'IN'), ('a', 'DT'), ('one-day', 'JJ'), ('window', 'NN'), ('.', '.')]\",\n",
       " \"[(',', ','), ('with', 'IN'), ('the', 'DT'), ('grade', 'NN'), ('lowered', 'VBN'), ('by', 'IN'), ('one', 'CD'), ('grade', 'NN'), (',', ','), ('with', 'IN'), ('a', 'DT'), ('one-day', 'JJ'), ('window', 'NN'), ('.', '.')]\",\n",
       " \"[(',', ','), ('with', 'IN'), ('the', 'DT'), ('grade', 'NN'), ('lowered', 'VBN'), ('by', 'IN'), ('one', 'CD'), ('grade', 'NN'), (',', ','), ('with', 'IN'), ('a', 'DT'), ('one-day', 'JJ'), ('window', 'NN'), ('.', '.')]\",\n",
       " \"[(',', ','), ('with', 'IN'), ('the', 'DT'), ('grade', 'NN'), ('lowered', 'VBN'), ('by', 'IN'), ('one', 'CD'), ('grade', 'NN'), (',', ','), ('with', 'IN'), ('a', 'DT'), ('one-day', 'JJ'), ('window', 'NN'), ('.', '.')]\",\n",
       " \"[(',', ','), ('with', 'IN'), ('the', 'DT'), ('grade', 'NN'), ('lowered', 'VBN'), ('by', 'IN'), ('one', 'CD'), ('grade', 'NN'), (',', ','), ('with', 'IN'), ('a', 'DT'), ('one-day', 'JJ'), ('window', 'NN'), ('.', '.')]\",\n",
       " \"[(',', ','), ('with', 'IN'), ('the', 'DT'), ('grade', 'NN'), ('lowered', 'VBN'), ('by', 'IN'), ('one', 'CD'), ('grade', 'NN'), (',', ','), ('with', 'IN'), ('a', 'DT'), ('one-day', 'JJ'), ('window', 'NN'), ('.', '.')]\",\n",
       " \"[(',', ','), ('with', 'IN'), ('the', 'DT'), ('grade', 'NN'), ('lowered', 'VBN'), ('by', 'IN'), ('one', 'CD'), ('grade', 'NN'), (',', ','), ('with', 'IN'), ('a', 'DT'), ('one-day', 'JJ'), ('window', 'NN'), ('.', '.')]\",\n",
       " \"[(',', ','), ('with', 'IN'), ('the', 'DT'), ('grade', 'NN'), ('lowered', 'VBN'), ('by', 'IN'), ('one', 'CD'), ('grade', 'NN'), (',', ','), ('with', 'IN'), ('a', 'DT'), ('one-day', 'JJ'), ('window', 'NN'), ('.', '.')]\",\n",
       " \"[(',', ','), ('with', 'IN'), ('the', 'DT'), ('grade', 'NN'), ('lowered', 'VBN'), ('by', 'IN'), ('one', 'CD'), ('grade', 'NN'), (',', ','), ('with', 'IN'), ('a', 'DT'), ('one-day', 'JJ'), ('window', 'NN'), ('.', '.')]\",\n",
       " \"[(',', ','), ('with', 'IN'), ('the', 'DT'), ('grade', 'NN'), ('lowered', 'VBN'), ('by', 'IN'), ('one', 'CD'), ('grade', 'NN'), (',', ','), ('with', 'IN'), ('a', 'DT'), ('one-day', 'JJ'), ('window', 'NN'), ('.', '.')]\",\n",
       " \"[(',', ','), ('with', 'IN'), ('the', 'DT'), ('grade', 'NN'), ('lowered', 'VBN'), ('by', 'IN'), ('one', 'CD'), ('grade', 'NN'), (',', ','), ('with', 'IN'), ('a', 'DT'), ('one-day', 'JJ'), ('window', 'NN'), ('.', '.')]\",\n",
       " \"[(',', ','), ('with', 'IN'), ('the', 'DT'), ('grade', 'NN'), ('lowered', 'VBN'), ('by', 'IN'), ('one', 'CD'), ('grade', 'NN'), (',', ','), ('with', 'IN'), ('a', 'DT'), ('one-day', 'JJ'), ('window', 'NN'), ('.', '.')]\",\n",
       " \"[(',', ','), ('with', 'IN'), ('the', 'DT'), ('grade', 'NN'), ('lowered', 'VBN'), ('by', 'IN'), ('one', 'CD'), ('grade', 'NN'), (',', ','), ('with', 'IN'), ('a', 'DT'), ('one-day', 'JJ'), ('window', 'NN'), ('.', '.')]\",\n",
       " \"[(',', ','), ('with', 'IN'), ('the', 'DT'), ('grade', 'NN'), ('lowered', 'VBN'), ('by', 'IN'), ('one', 'CD'), ('grade', 'NN'), (',', ','), ('with', 'IN'), ('a', 'DT'), ('one-day', 'JJ'), ('window', 'NN'), ('.', '.')]\",\n",
       " \"[(',', ','), ('with', 'IN'), ('the', 'DT'), ('grade', 'NN'), ('lowered', 'VBN'), ('by', 'IN'), ('one', 'CD'), ('grade', 'NN'), (',', ','), ('with', 'IN'), ('a', 'DT'), ('one-day', 'JJ'), ('window', 'NN'), ('.', '.')]\",\n",
       " \"[(',', ','), ('with', 'IN'), ('the', 'DT'), ('grade', 'NN'), ('lowered', 'VBN'), ('by', 'IN'), ('one', 'CD'), ('grade', 'NN'), (',', ','), ('with', 'IN'), ('a', 'DT'), ('one-day', 'JJ'), ('window', 'NN'), ('.', '.')]\",\n",
       " \"[(',', ','), ('with', 'IN'), ('the', 'DT'), ('grade', 'NN'), ('lowered', 'VBN'), ('by', 'IN'), ('one', 'CD'), ('grade', 'NN'), (',', ','), ('with', 'IN'), ('a', 'DT'), ('one-day', 'JJ'), ('window', 'NN'), ('.', '.')]\",\n",
       " \"[(',', ','), ('with', 'IN'), ('the', 'DT'), ('grade', 'NN'), ('lowered', 'VBN'), ('by', 'IN'), ('one', 'CD'), ('grade', 'NN'), (',', ','), ('with', 'IN'), ('a', 'DT'), ('one-day', 'JJ'), ('window', 'NN'), ('.', '.')]\",\n",
       " \"[(',', ','), ('with', 'IN'), ('the', 'DT'), ('grade', 'NN'), ('lowered', 'VBN'), ('by', 'IN'), ('one', 'CD'), ('grade', 'NN'), (',', ','), ('with', 'IN'), ('a', 'DT'), ('one-day', 'JJ'), ('window', 'NN'), ('.', '.')]\",\n",
       " \"[(',', ','), ('with', 'IN'), ('the', 'DT'), ('grade', 'NN'), ('lowered', 'VBN'), ('by', 'IN'), ('one', 'CD'), ('grade', 'NN'), (',', ','), ('with', 'IN'), ('a', 'DT'), ('one-day', 'JJ'), ('window', 'NN'), ('.', '.')]\",\n",
       " \"[(',', ','), ('with', 'IN'), ('the', 'DT'), ('grade', 'NN'), ('lowered', 'VBN'), ('by', 'IN'), ('one', 'CD'), ('grade', 'NN'), (',', ','), ('with', 'IN'), ('a', 'DT'), ('one-day', 'JJ'), ('window', 'NN'), ('.', '.')]\",\n",
       " \"[(',', ','), ('with', 'IN'), ('the', 'DT'), ('grade', 'NN'), ('lowered', 'VBN'), ('by', 'IN'), ('one', 'CD'), ('grade', 'NN'), (',', ','), ('with', 'IN'), ('a', 'DT'), ('one-day', 'JJ'), ('window', 'NN'), ('.', '.')]\",\n",
       " \"[(',', ','), ('with', 'IN'), ('the', 'DT'), ('grade', 'NN'), ('lowered', 'VBN'), ('by', 'IN'), ('one', 'CD'), ('grade', 'NN'), (',', ','), ('with', 'IN'), ('a', 'DT'), ('one-day', 'JJ'), ('window', 'NN'), ('.', '.')]\",\n",
       " \"[(',', ','), ('with', 'IN'), ('the', 'DT'), ('grade', 'NN'), ('lowered', 'VBN'), ('by', 'IN'), ('one', 'CD'), ('grade', 'NN'), (',', ','), ('with', 'IN'), ('a', 'DT'), ('one-day', 'JJ'), ('window', 'NN'), ('.', '.')]\",\n",
       " \"[(',', ','), ('with', 'IN'), ('the', 'DT'), ('grade', 'NN'), ('lowered', 'VBN'), ('by', 'IN'), ('one', 'CD'), ('grade', 'NN'), (',', ','), ('with', 'IN'), ('a', 'DT'), ('one-day', 'JJ'), ('window', 'NN'), ('.', '.')]\",\n",
       " \"[(',', ','), ('with', 'IN'), ('the', 'DT'), ('grade', 'NN'), ('lowered', 'VBN'), ('by', 'IN'), ('one', 'CD'), ('grade', 'NN'), (',', ','), ('with', 'IN'), ('a', 'DT'), ('one-day', 'JJ'), ('window', 'NN'), ('.', '.')]\",\n",
       " \"[(',', ','), ('with', 'IN'), ('the', 'DT'), ('grade', 'NN'), ('lowered', 'VBN'), ('by', 'IN'), ('one', 'CD'), ('grade', 'NN'), (',', ','), ('with', 'IN'), ('a', 'DT'), ('one-day', 'JJ'), ('window', 'NN'), ('.', '.')]\",\n",
       " \"[(',', ','), ('with', 'IN'), ('the', 'DT'), ('grade', 'NN'), ('lowered', 'VBN'), ('by', 'IN'), ('one', 'CD'), ('grade', 'NN'), (',', ','), ('with', 'IN'), ('a', 'DT'), ('one-day', 'JJ'), ('window', 'NN'), ('.', '.')]\",\n",
       " \"[(',', ','), ('with', 'IN'), ('the', 'DT'), ('grade', 'NN'), ('lowered', 'VBN'), ('by', 'IN'), ('one', 'CD'), ('grade', 'NN'), (',', ','), ('with', 'IN'), ('a', 'DT'), ('one-day', 'JJ'), ('window', 'NN'), ('.', '.')]\",\n",
       " \"[(',', ','), ('with', 'IN'), ('the', 'DT'), ('grade', 'NN'), ('lowered', 'VBN'), ('by', 'IN'), ('one', 'CD'), ('grade', 'NN'), (',', ','), ('with', 'IN'), ('a', 'DT'), ('one-day', 'JJ'), ('window', 'NN'), ('.', '.')]\",\n",
       " \"[(',', ','), ('with', 'IN'), ('the', 'DT'), ('grade', 'NN'), ('lowered', 'VBN'), ('by', 'IN'), ('one', 'CD'), ('grade', 'NN'), (',', ','), ('with', 'IN'), ('a', 'DT'), ('one-day', 'JJ'), ('window', 'NN'), ('.', '.')]\",\n",
       " \"[(',', ','), ('via', 'IN'), ('my', 'PRP$'), ('email', 'JJ'), ('address', 'NN'), (':', ':')]\",\n",
       " \"[(',', ','), ('with', 'IN'), ('the', 'DT'), ('grade', 'NN'), ('lowered', 'VBN'), ('by', 'IN'), ('one', 'CD'), ('grade', 'NN'), (',', ','), ('with', 'IN'), ('a', 'DT'), ('one-day', 'JJ'), ('window', 'NN'), ('.', '.')]\",\n",
       " \"[(',', ','), ('with', 'IN'), ('the', 'DT'), ('grade', 'NN'), ('lowered', 'VBN'), ('by', 'IN'), ('one', 'CD'), ('grade', 'NN'), (',', ','), ('with', 'IN'), ('a', 'DT'), ('one-day', 'JJ'), ('window', 'NN'), ('.', '.')]\",\n",
       " \"[(',', ','), ('with', 'IN'), ('the', 'DT'), ('grade', 'NN'), ('lowered', 'VBN'), ('by', 'IN'), ('one', 'CD'), ('grade', 'NN'), (',', ','), ('with', 'IN'), ('a', 'DT'), ('one-day', 'JJ'), ('window', 'NN'), ('.', '.')]\",\n",
       " \"[(',', ','), ('with', 'IN'), ('the', 'DT'), ('grade', 'NN'), ('lowered', 'VBN'), ('by', 'IN'), ('one', 'CD'), ('grade', 'NN'), (',', ','), ('with', 'IN'), ('a', 'DT'), ('one-day', 'JJ'), ('window', 'NN'), ('.', '.')]\",\n",
       " \"[(',', ','), ('via', 'IN'), ('my', 'PRP$'), ('email', 'JJ'), ('address', 'NN'), (':', ':')]\",\n",
       " \"[(',', ','), ('with', 'IN'), ('the', 'DT'), ('grade', 'NN'), ('lowered', 'VBN'), ('by', 'IN'), ('one', 'CD'), ('grade', 'NN'), (',', ','), ('with', 'IN'), ('a', 'DT'), ('one-day', 'JJ'), ('window', 'NN'), ('.', '.')]\",\n",
       " \"[(',', ','), ('with', 'IN'), ('the', 'DT'), ('grade', 'NN'), ('lowered', 'VBN'), ('by', 'IN'), ('one', 'CD'), ('grade', 'NN'), (',', ','), ('with', 'IN'), ('a', 'DT'), ('one-day', 'JJ'), ('window', 'NN'), ('.', '.')]\",\n",
       " \"[(',', ','), ('with', 'IN'), ('the', 'DT'), ('grade', 'NN'), ('lowered', 'VBN'), ('by', 'IN'), ('one', 'CD'), ('grade', 'NN'), (',', ','), ('with', 'IN'), ('a', 'DT'), ('one-day', 'JJ'), ('window', 'NN'), ('.', '.')]\",\n",
       " \"[(',', ','), ('with', 'IN'), ('the', 'DT'), ('grade', 'NN'), ('lowered', 'VBN'), ('by', 'IN'), ('one', 'CD'), ('grade', 'NN'), (',', ','), ('with', 'IN'), ('a', 'DT'), ('one-day', 'JJ'), ('window', 'NN'), ('.', '.')]\",\n",
       " \"[(',', ','), ('with', 'IN'), ('the', 'DT'), ('grade', 'NN'), ('lowered', 'VBN'), ('by', 'IN'), ('one', 'CD'), ('grade', 'NN'), (',', ','), ('with', 'IN'), ('a', 'DT'), ('one-day', 'JJ'), ('window', 'NN'), ('.', '.')]\",\n",
       " \"[(',', ','), ('with', 'IN'), ('the', 'DT'), ('grade', 'NN'), ('lowered', 'VBN'), ('by', 'IN'), ('one', 'CD'), ('grade', 'NN'), (',', ','), ('with', 'IN'), ('a', 'DT'), ('one-day', 'JJ'), ('window', 'NN'), ('.', '.')]\",\n",
       " \"[(',', ','), ('with', 'IN'), ('the', 'DT'), ('grade', 'NN'), ('lowered', 'VBN'), ('by', 'IN'), ('one', 'CD'), ('grade', 'NN'), (',', ','), ('with', 'IN'), ('a', 'DT'), ('one-day', 'JJ'), ('window', 'NN'), ('.', '.')]\",\n",
       " \"[(',', ','), ('with', 'IN'), ('the', 'DT'), ('grade', 'NN'), ('lowered', 'VBN'), ('by', 'IN'), ('one', 'CD'), ('grade', 'NN'), (',', ','), ('with', 'IN'), ('a', 'DT'), ('one-day', 'JJ'), ('window', 'NN'), ('.', '.')]\",\n",
       " \"[(',', ','), ('with', 'IN'), ('the', 'DT'), ('grade', 'NN'), ('lowered', 'VBN'), ('by', 'IN'), ('one', 'CD'), ('grade', 'NN'), (',', ','), ('with', 'IN'), ('a', 'DT'), ('one-day', 'JJ'), ('window', 'NN'), ('.', '.')]\",\n",
       " \"[(',', ','), ('with', 'IN'), ('the', 'DT'), ('grade', 'NN'), ('lowered', 'VBN'), ('by', 'IN'), ('one', 'CD'), ('grade', 'NN'), (',', ','), ('with', 'IN'), ('a', 'DT'), ('one-day', 'JJ'), ('window', 'NN'), ('.', '.')]\",\n",
       " \"[(',', ','), ('with', 'IN'), ('the', 'DT'), ('grade', 'NN'), ('lowered', 'VBN'), ('by', 'IN'), ('one', 'CD'), ('grade', 'NN'), (',', ','), ('with', 'IN'), ('a', 'DT'), ('one-day', 'JJ'), ('window', 'NN'), ('.', '.')]\",\n",
       " \"[(',', ','), ('with', 'IN'), ('the', 'DT'), ('grade', 'NN'), ('lowered', 'VBN'), ('by', 'IN'), ('one', 'CD'), ('grade', 'NN'), (',', ','), ('with', 'IN'), ('a', 'DT'), ('one-day', 'JJ'), ('window', 'NN'), ('.', '.')]\",\n",
       " \"[(',', ','), ('with', 'IN'), ('the', 'DT'), ('grade', 'NN'), ('lowered', 'VBN'), ('by', 'IN'), ('one', 'CD'), ('grade', 'NN'), (',', ','), ('with', 'IN'), ('a', 'DT'), ('one-day', 'JJ'), ('window', 'NN'), ('.', '.')]\",\n",
       " \"[(',', ','), ('with', 'IN'), ('the', 'DT'), ('grade', 'NN'), ('lowered', 'VBN'), ('by', 'IN'), ('one', 'CD'), ('grade', 'NN'), (',', ','), ('with', 'IN'), ('a', 'DT'), ('one-day', 'JJ'), ('window', 'NN'), ('.', '.')]\",\n",
       " \"[(',', ','), ('with', 'IN'), ('the', 'DT'), ('grade', 'NN'), ('lowered', 'VBN'), ('by', 'IN'), ('one', 'CD'), ('grade', 'NN'), (',', ','), ('with', 'IN'), ('a', 'DT'), ('one-day', 'JJ'), ('window', 'NN'), ('.', '.')]\",\n",
       " \"[(',', ','), ('with', 'IN'), ('the', 'DT'), ('grade', 'NN'), ('lowered', 'VBN'), ('by', 'IN'), ('one', 'CD'), ('grade', 'NN'), (',', ','), ('with', 'IN'), ('a', 'DT'), ('one-day', 'JJ'), ('window', 'NN'), ('.', '.')]\",\n",
       " \"[(',', ','), ('with', 'IN'), ('the', 'DT'), ('grade', 'NN'), ('lowered', 'VBN'), ('by', 'IN'), ('one', 'CD'), ('grade', 'NN'), (',', ','), ('with', 'IN'), ('a', 'DT'), ('one-day', 'JJ'), ('window', 'NN'), ('.', '.')]\",\n",
       " \"[(',', ','), ('with', 'IN'), ('the', 'DT'), ('grade', 'NN'), ('lowered', 'VBN'), ('by', 'IN'), ('one', 'CD'), ('grade', 'NN'), (',', ','), ('with', 'IN'), ('a', 'DT'), ('one-day', 'JJ'), ('window', 'NN'), ('.', '.')]\",\n",
       " \"[(',', ','), ('with', 'IN'), ('the', 'DT'), ('grade', 'NN'), ('lowered', 'VBN'), ('by', 'IN'), ('one', 'CD'), ('grade', 'NN'), (',', ','), ('with', 'IN'), ('a', 'DT'), ('one-day', 'JJ'), ('window', 'NN'), ('.', '.')]\",\n",
       " \"[(',', ','), ('with', 'IN'), ('the', 'DT'), ('grade', 'NN'), ('lowered', 'VBN'), ('by', 'IN'), ('one', 'CD'), ('grade', 'NN'), (',', ','), ('with', 'IN'), ('a', 'DT'), ('one-day', 'JJ'), ('window', 'NN'), ('.', '.')]\",\n",
       " \"[(',', ','), ('with', 'IN'), ('the', 'DT'), ('grade', 'NN'), ('lowered', 'VBN'), ('by', 'IN'), ('one', 'CD'), ('grade', 'NN'), (',', ','), ('with', 'IN'), ('a', 'DT'), ('one-day', 'JJ'), ('window', 'NN'), ('.', '.')]\",\n",
       " \"[(',', ','), ('with', 'IN'), ('the', 'DT'), ('grade', 'NN'), ('lowered', 'VBN'), ('by', 'IN'), ('one', 'CD'), ('grade', 'NN'), (',', ','), ('with', 'IN'), ('a', 'DT'), ('one-day', 'JJ'), ('window', 'NN'), ('.', '.')]\",\n",
       " \"[(',', ','), ('with', 'IN'), ('the', 'DT'), ('grade', 'NN'), ('lowered', 'VBN'), ('by', 'IN'), ('one', 'CD'), ('grade', 'NN'), (',', ','), ('with', 'IN'), ('a', 'DT'), ('one-day', 'JJ'), ('window', 'NN'), ('.', '.')]\",\n",
       " \"[(',', ','), ('with', 'IN'), ('the', 'DT'), ('grade', 'NN'), ('lowered', 'VBN'), ('by', 'IN'), ('one', 'CD'), ('grade', 'NN'), (',', ','), ('with', 'IN'), ('a', 'DT'), ('one-day', 'JJ'), ('window', 'NN'), ('.', '.')]\",\n",
       " \"[(',', ','), ('with', 'IN'), ('the', 'DT'), ('grade', 'NN'), ('lowered', 'VBN'), ('by', 'IN'), ('one', 'CD'), ('grade', 'NN'), (',', ','), ('with', 'IN'), ('a', 'DT'), ('one-day', 'JJ'), ('window', 'NN'), ('.', '.')]\",\n",
       " \"[(',', ','), ('with', 'IN'), ('the', 'DT'), ('grade', 'NN'), ('lowered', 'VBN'), ('by', 'IN'), ('one', 'CD'), ('grade', 'NN'), (',', ','), ('with', 'IN'), ('a', 'DT'), ('one-day', 'JJ'), ('window', 'NN'), ('.', '.')]\",\n",
       " \"[(',', ','), ('with', 'IN'), ('the', 'DT'), ('grade', 'NN'), ('lowered', 'VBN'), ('by', 'IN'), ('one', 'CD'), ('grade', 'NN'), (',', ','), ('with', 'IN'), ('a', 'DT'), ('one-day', 'JJ'), ('window', 'NN'), ('.', '.')]\",\n",
       " \"[(',', ','), ('with', 'IN'), ('the', 'DT'), ('grade', 'NN'), ('lowered', 'VBN'), ('by', 'IN'), ('one', 'CD'), ('grade', 'NN'), (',', ','), ('with', 'IN'), ('a', 'DT'), ('one-day', 'JJ'), ('window', 'NN'), ('.', '.')]\",\n",
       " \"[(',', ','), ('with', 'IN'), ('the', 'DT'), ('grade', 'NN'), ('lowered', 'VBN'), ('by', 'IN'), ('one', 'CD'), ('grade', 'NN'), (',', ','), ('with', 'IN'), ('a', 'DT'), ('one-day', 'JJ'), ('window', 'NN'), ('.', '.')]\",\n",
       " \"[(',', ','), ('with', 'IN'), ('the', 'DT'), ('grade', 'NN'), ('lowered', 'VBN'), ('by', 'IN'), ('one', 'CD'), ('grade', 'NN'), (',', ','), ('with', 'IN'), ('a', 'DT'), ('one-day', 'JJ'), ('window', 'NN'), ('.', '.')]\",\n",
       " \"[(',', ','), ('with', 'IN'), ('the', 'DT'), ('grade', 'NN'), ('lowered', 'VBN'), ('by', 'IN'), ('one', 'CD'), ('grade', 'NN'), (',', ','), ('with', 'IN'), ('a', 'DT'), ('one-day', 'JJ'), ('window', 'NN'), ('.', '.')]\",\n",
       " \"[(',', ','), ('with', 'IN'), ('the', 'DT'), ('grade', 'NN'), ('lowered', 'VBN'), ('by', 'IN'), ('one', 'CD'), ('grade', 'NN'), (',', ','), ('with', 'IN'), ('a', 'DT'), ('one-day', 'JJ'), ('window', 'NN'), ('.', '.')]\",\n",
       " \"[(',', ','), ('with', 'IN'), ('the', 'DT'), ('grade', 'NN'), ('lowered', 'VBN'), ('by', 'IN'), ('one', 'CD'), ('grade', 'NN'), (',', ','), ('with', 'IN'), ('a', 'DT'), ('one-day', 'JJ'), ('window', 'NN'), ('.', '.')]\",\n",
       " \"[(',', ','), ('with', 'IN'), ('the', 'DT'), ('grade', 'NN'), ('lowered', 'VBN'), ('by', 'IN'), ('one', 'CD'), ('grade', 'NN'), (',', ','), ('with', 'IN'), ('a', 'DT'), ('one-day', 'JJ'), ('window', 'NN'), ('.', '.')]\",\n",
       " \"[(',', ','), ('with', 'IN'), ('the', 'DT'), ('grade', 'NN'), ('lowered', 'VBN'), ('by', 'IN'), ('one', 'CD'), ('grade', 'NN'), (',', ','), ('with', 'IN'), ('a', 'DT'), ('one-day', 'JJ'), ('window', 'NN'), ('.', '.')]\",\n",
       " \"[(',', ','), ('with', 'IN'), ('the', 'DT'), ('grade', 'NN'), ('lowered', 'VBN'), ('by', 'IN'), ('one', 'CD'), ('grade', 'NN'), (',', ','), ('with', 'IN'), ('a', 'DT'), ('one-day', 'JJ'), ('window', 'NN'), ('.', '.')]\",\n",
       " \"[(',', ','), ('with', 'IN'), ('the', 'DT'), ('grade', 'NN'), ('lowered', 'VBN'), ('by', 'IN'), ('one', 'CD'), ('grade', 'NN'), (',', ','), ('with', 'IN'), ('a', 'DT'), ('one-day', 'JJ'), ('window', 'NN'), ('.', '.')]\",\n",
       " \"[(',', ','), ('with', 'IN'), ('the', 'DT'), ('grade', 'NN'), ('lowered', 'VBN'), ('by', 'IN'), ('one', 'CD'), ('grade', 'NN'), (',', ','), ('with', 'IN'), ('a', 'DT'), ('one-day', 'JJ'), ('window', 'NN'), ('.', '.')]\",\n",
       " \"[(',', ','), ('with', 'IN'), ('the', 'DT'), ('grade', 'NN'), ('lowered', 'VBN'), ('by', 'IN'), ('one', 'CD'), ('grade', 'NN'), (',', ','), ('with', 'IN'), ('a', 'DT'), ('one-day', 'JJ'), ('window', 'NN'), ('.', '.')]\",\n",
       " \"[(',', ','), ('with', 'IN'), ('the', 'DT'), ('grade', 'NN'), ('lowered', 'VBN'), ('by', 'IN'), ('one', 'CD'), ('grade', 'NN'), (',', ','), ('with', 'IN'), ('a', 'DT'), ('one-day', 'JJ'), ('window', 'NN'), ('.', '.')]\",\n",
       " \"[(',', ','), ('with', 'IN'), ('the', 'DT'), ('grade', 'NN'), ('lowered', 'VBN'), ('by', 'IN'), ('one', 'CD'), ('grade', 'NN'), (',', ','), ('with', 'IN'), ('a', 'DT'), ('one-day', 'JJ'), ('window', 'NN'), ('.', '.')]\",\n",
       " \"[(',', ','), ('with', 'IN'), ('the', 'DT'), ('grade', 'NN'), ('lowered', 'VBN'), ('by', 'IN'), ('one', 'CD'), ('grade', 'NN'), (',', ','), ('with', 'IN'), ('a', 'DT'), ('one-day', 'JJ'), ('window', 'NN'), ('.', '.')]\",\n",
       " \"[(',', ','), ('with', 'IN'), ('the', 'DT'), ('grade', 'NN'), ('lowered', 'VBN'), ('by', 'IN'), ('one', 'CD'), ('grade', 'NN'), (',', ','), ('with', 'IN'), ('a', 'DT'), ('one-day', 'JJ'), ('window', 'NN'), ('.', '.')]\",\n",
       " \"[(',', ','), ('with', 'IN'), ('the', 'DT'), ('grade', 'NN'), ('lowered', 'VBN'), ('by', 'IN'), ('one', 'CD'), ('grade', 'NN'), (',', ','), ('with', 'IN'), ('a', 'DT'), ('one-day', 'JJ'), ('window', 'NN'), ('.', '.')]\",\n",
       " \"[(',', ','), ('with', 'IN'), ('the', 'DT'), ('grade', 'NN'), ('lowered', 'VBN'), ('by', 'IN'), ('one', 'CD'), ('grade', 'NN'), (',', ','), ('with', 'IN'), ('a', 'DT'), ('one-day', 'JJ'), ('window', 'NN'), ('.', '.')]\",\n",
       " \"[(',', ','), ('with', 'IN'), ('the', 'DT'), ('grade', 'NN'), ('lowered', 'VBN'), ('by', 'IN'), ('one', 'CD'), ('grade', 'NN'), (',', ','), ('with', 'IN'), ('a', 'DT'), ('one-day', 'JJ'), ('window', 'NN'), ('.', '.')]\",\n",
       " \"[(',', ','), ('with', 'IN'), ('the', 'DT'), ('grade', 'NN'), ('lowered', 'VBN'), ('by', 'IN'), ('one', 'CD'), ('grade', 'NN'), (',', ','), ('with', 'IN'), ('a', 'DT'), ('one-day', 'JJ'), ('window', 'NN'), ('.', '.')]\",\n",
       " \"[(',', ','), ('with', 'IN'), ('the', 'DT'), ('grade', 'NN'), ('lowered', 'VBN'), ('by', 'IN'), ('one', 'CD'), ('grade', 'NN'), (',', ','), ('with', 'IN'), ('a', 'DT'), ('one-day', 'JJ'), ('window', 'NN'), ('.', '.')]\",\n",
       " \"[(',', ','), ('with', 'IN'), ('the', 'DT'), ('grade', 'NN'), ('lowered', 'VBN'), ('by', 'IN'), ('one', 'CD'), ('grade', 'NN'), (',', ','), ('with', 'IN'), ('a', 'DT'), ('one-day', 'JJ'), ('window', 'NN'), ('.', '.')]\",\n",
       " \"[(',', ','), ('with', 'IN'), ('the', 'DT'), ('grade', 'NN'), ('lowered', 'VBN'), ('by', 'IN'), ('one', 'CD'), ('grade', 'NN'), (',', ','), ('with', 'IN'), ('a', 'DT'), ('one-day', 'JJ'), ('window', 'NN'), ('.', '.')]\",\n",
       " \"[(',', ','), ('with', 'IN'), ('the', 'DT'), ('grade', 'NN'), ('lowered', 'VBN'), ('by', 'IN'), ('one', 'CD'), ('grade', 'NN'), (',', ','), ('with', 'IN'), ('a', 'DT'), ('one-day', 'JJ'), ('window', 'NN'), ('.', '.')]\",\n",
       " \"[(',', ','), ('with', 'IN'), ('the', 'DT'), ('grade', 'NN'), ('lowered', 'VBN'), ('by', 'IN'), ('one', 'CD'), ('grade', 'NN'), (',', ','), ('with', 'IN'), ('a', 'DT'), ('one-day', 'JJ'), ('window', 'NN'), ('.', '.')]\",\n",
       " \"[(',', ','), ('with', 'IN'), ('the', 'DT'), ('grade', 'NN'), ('lowered', 'VBN'), ('by', 'IN'), ('one', 'CD'), ('grade', 'NN'), (',', ','), ('with', 'IN'), ('a', 'DT'), ('one-day', 'JJ'), ('window', 'NN'), ('.', '.')]\",\n",
       " \"[(',', ','), ('with', 'IN'), ('the', 'DT'), ('grade', 'NN'), ('lowered', 'VBN'), ('by', 'IN'), ('one', 'CD'), ('grade', 'NN'), (',', ','), ('with', 'IN'), ('a', 'DT'), ('one-day', 'JJ'), ('window', 'NN'), ('.', '.')]\",\n",
       " \"[(',', ','), ('with', 'IN'), ('the', 'DT'), ('grade', 'NN'), ('lowered', 'VBN'), ('by', 'IN'), ('one', 'CD'), ('grade', 'NN'), (',', ','), ('with', 'IN'), ('a', 'DT'), ('one-day', 'JJ'), ('window', 'NN'), ('.', '.')]\",\n",
       " \"[(',', ','), ('with', 'IN'), ('the', 'DT'), ('grade', 'NN'), ('lowered', 'VBN'), ('by', 'IN'), ('one', 'CD'), ('grade', 'NN'), (',', ','), ('with', 'IN'), ('a', 'DT'), ('one-day', 'JJ'), ('window', 'NN'), ('.', '.')]\",\n",
       " \"[(',', ','), ('with', 'IN'), ('the', 'DT'), ('grade', 'NN'), ('lowered', 'VBN'), ('by', 'IN'), ('one', 'CD'), ('grade', 'NN'), (',', ','), ('with', 'IN'), ('a', 'DT'), ('one-day', 'JJ'), ('window', 'NN'), ('.', '.')]\",\n",
       " \"[(',', ','), ('with', 'IN'), ('the', 'DT'), ('grade', 'NN'), ('lowered', 'VBN'), ('by', 'IN'), ('one', 'CD'), ('grade', 'NN'), (',', ','), ('with', 'IN'), ('a', 'DT'), ('one-day', 'JJ'), ('window', 'NN'), ('.', '.')]\",\n",
       " \"[(',', ','), ('with', 'IN'), ('the', 'DT'), ('grade', 'NN'), ('lowered', 'VBN'), ('by', 'IN'), ('one', 'CD'), ('grade', 'NN'), (',', ','), ('with', 'IN'), ('a', 'DT'), ('one-day', 'JJ'), ('window', 'NN'), ('.', '.')]\",\n",
       " \"[(',', ','), ('with', 'IN'), ('the', 'DT'), ('grade', 'NN'), ('lowered', 'VBN'), ('by', 'IN'), ('one', 'CD'), ('grade', 'NN'), (',', ','), ('with', 'IN'), ('a', 'DT'), ('one-day', 'JJ'), ('window', 'NN'), ('.', '.')]\",\n",
       " \"[(',', ','), ('with', 'IN'), ('the', 'DT'), ('grade', 'NN'), ('lowered', 'VBN'), ('by', 'IN'), ('one', 'CD'), ('grade', 'NN'), (',', ','), ('with', 'IN'), ('a', 'DT'), ('one-day', 'JJ'), ('window', 'NN'), ('.', '.')]\",\n",
       " \"[(',', ','), ('with', 'IN'), ('the', 'DT'), ('grade', 'NN'), ('lowered', 'VBN'), ('by', 'IN'), ('one', 'CD'), ('grade', 'NN'), (',', ','), ('with', 'IN'), ('a', 'DT'), ('one-day', 'JJ'), ('window', 'NN'), ('.', '.')]\",\n",
       " \"[(',', ','), ('with', 'IN'), ('the', 'DT'), ('grade', 'NN'), ('lowered', 'VBN'), ('by', 'IN'), ('one', 'CD'), ('grade', 'NN'), (',', ','), ('with', 'IN'), ('a', 'DT'), ('one-day', 'JJ'), ('window', 'NN'), ('.', '.')]\",\n",
       " \"[(',', ','), ('with', 'IN'), ('the', 'DT'), ('grade', 'NN'), ('lowered', 'VBN'), ('by', 'IN'), ('one', 'CD'), ('grade', 'NN'), (',', ','), ('with', 'IN'), ('a', 'DT'), ('one-day', 'JJ'), ('window', 'NN'), ('.', '.')]\",\n",
       " \"[(',', ','), ('via', 'IN'), ('my', 'PRP$'), ('email', 'JJ'), ('address', 'NN'), (':', ':')]\",\n",
       " \"[(',', ','), ('with', 'IN'), ('the', 'DT'), ('grade', 'NN'), ('lowered', 'VBN'), ('by', 'IN'), ('one', 'CD'), ('grade', 'NN'), (',', ','), ('with', 'IN'), ('a', 'DT'), ('one-day', 'JJ'), ('window', 'NN'), ('.', '.')]\",\n",
       " \"[(',', ','), ('with', 'IN'), ('the', 'DT'), ('grade', 'NN'), ('lowered', 'VBN'), ('by', 'IN'), ('one', 'CD'), ('grade', 'NN'), (',', ','), ('with', 'IN'), ('a', 'DT'), ('one-day', 'JJ'), ('window', 'NN'), ('.', '.')]\",\n",
       " \"[(',', ','), ('with', 'IN'), ('the', 'DT'), ('grade', 'NN'), ('lowered', 'VBN'), ('by', 'IN'), ('one', 'CD'), ('grade', 'NN'), (',', ','), ('with', 'IN'), ('a', 'DT'), ('one-day', 'JJ'), ('window', 'NN'), ('.', '.')]\",\n",
       " \"[(',', ','), ('with', 'IN'), ('the', 'DT'), ('grade', 'NN'), ('lowered', 'VBN'), ('by', 'IN'), ('one', 'CD'), ('grade', 'NN'), (',', ','), ('with', 'IN'), ('a', 'DT'), ('one-day', 'JJ'), ('window', 'NN'), ('.', '.')]\",\n",
       " \"[(',', ','), ('with', 'IN'), ('the', 'DT'), ('grade', 'NN'), ('lowered', 'VBN'), ('by', 'IN'), ('one', 'CD'), ('grade', 'NN'), (',', ','), ('with', 'IN'), ('a', 'DT'), ('one-day', 'JJ'), ('window', 'NN'), ('.', '.')]\",\n",
       " \"[(',', ','), ('with', 'IN'), ('the', 'DT'), ('grade', 'NN'), ('lowered', 'VBN'), ('by', 'IN'), ('one', 'CD'), ('grade', 'NN'), (',', ','), ('with', 'IN'), ('a', 'DT'), ('one-day', 'JJ'), ('window', 'NN'), ('.', '.')]\",\n",
       " \"[(',', ','), ('with', 'IN'), ('the', 'DT'), ('grade', 'NN'), ('lowered', 'VBN'), ('by', 'IN'), ('one', 'CD'), ('grade', 'NN'), (',', ','), ('with', 'IN'), ('a', 'DT'), ('one-day', 'JJ'), ('window', 'NN'), ('.', '.')]\",\n",
       " \"[(',', ','), ('with', 'IN'), ('the', 'DT'), ('grade', 'NN'), ('lowered', 'VBN'), ('by', 'IN'), ('one', 'CD'), ('grade', 'NN'), (',', ','), ('with', 'IN'), ('a', 'DT'), ('one-day', 'JJ'), ('window', 'NN'), ('.', '.')]\",\n",
       " \"[(',', ','), ('with', 'IN'), ('the', 'DT'), ('grade', 'NN'), ('lowered', 'VBN'), ('by', 'IN'), ('one', 'CD'), ('grade', 'NN'), (',', ','), ('with', 'IN'), ('a', 'DT'), ('one-day', 'JJ'), ('window', 'NN'), ('.', '.')]\",\n",
       " \"[(',', ','), ('with', 'IN'), ('the', 'DT'), ('grade', 'NN'), ('lowered', 'VBN'), ('by', 'IN'), ('one', 'CD'), ('grade', 'NN'), (',', ','), ('with', 'IN'), ('a', 'DT'), ('one-day', 'JJ'), ('window', 'NN'), ('.', '.')]\",\n",
       " \"[(',', ','), ('with', 'IN'), ('the', 'DT'), ('grade', 'NN'), ('lowered', 'VBN'), ('by', 'IN'), ('one', 'CD'), ('grade', 'NN'), (',', ','), ('with', 'IN'), ('a', 'DT'), ('one-day', 'JJ'), ('window', 'NN'), ('.', '.')]\",\n",
       " \"[(',', ','), ('with', 'IN'), ('the', 'DT'), ('grade', 'NN'), ('lowered', 'VBN'), ('by', 'IN'), ('one', 'CD'), ('grade', 'NN'), (',', ','), ('with', 'IN'), ('a', 'DT'), ('one-day', 'JJ'), ('window', 'NN'), ('.', '.')]\",\n",
       " \"[(',', ','), ('with', 'IN'), ('the', 'DT'), ('grade', 'NN'), ('lowered', 'VBN'), ('by', 'IN'), ('one', 'CD'), ('grade', 'NN'), (',', ','), ('with', 'IN'), ('a', 'DT'), ('one-day', 'JJ'), ('window', 'NN'), ('.', '.')]\",\n",
       " \"[(',', ','), ('with', 'IN'), ('the', 'DT'), ('grade', 'NN'), ('lowered', 'VBN'), ('by', 'IN'), ('one', 'CD'), ('grade', 'NN'), (',', ','), ('with', 'IN'), ('a', 'DT'), ('one-day', 'JJ'), ('window', 'NN'), ('.', '.')]\",\n",
       " \"[(',', ','), ('with', 'IN'), ('the', 'DT'), ('grade', 'NN'), ('lowered', 'VBN'), ('by', 'IN'), ('one', 'CD'), ('grade', 'NN'), (',', ','), ('with', 'IN'), ('a', 'DT'), ('one-day', 'JJ'), ('window', 'NN'), ('.', '.')]\",\n",
       " \"[(',', ','), ('with', 'IN'), ('the', 'DT'), ('grade', 'NN'), ('lowered', 'VBN'), ('by', 'IN'), ('one', 'CD'), ('grade', 'NN'), (',', ','), ('with', 'IN'), ('a', 'DT'), ('one-day', 'JJ'), ('window', 'NN'), ('.', '.')]\",\n",
       " \"[(',', ','), ('with', 'IN'), ('the', 'DT'), ('grade', 'NN'), ('lowered', 'VBN'), ('by', 'IN'), ('one', 'CD'), ('grade', 'NN'), (',', ','), ('with', 'IN'), ('a', 'DT'), ('one-day', 'JJ'), ('window', 'NN'), ('.', '.')]\",\n",
       " \"[(',', ','), ('with', 'IN'), ('the', 'DT'), ('grade', 'NN'), ('lowered', 'VBN'), ('by', 'IN'), ('one', 'CD'), ('grade', 'NN'), (',', ','), ('with', 'IN'), ('a', 'DT'), ('one-day', 'JJ'), ('window', 'NN'), ('.', '.')]\",\n",
       " \"[(',', ','), ('with', 'IN'), ('the', 'DT'), ('grade', 'NN'), ('lowered', 'VBN'), ('by', 'IN'), ('one', 'CD'), ('grade', 'NN'), (',', ','), ('with', 'IN'), ('a', 'DT'), ('one-day', 'JJ'), ('window', 'NN'), ('.', '.')]\",\n",
       " \"[(',', ','), ('with', 'IN'), ('the', 'DT'), ('grade', 'NN'), ('lowered', 'VBN'), ('by', 'IN'), ('one', 'CD'), ('grade', 'NN'), (',', ','), ('with', 'IN'), ('a', 'DT'), ('one-day', 'JJ'), ('window', 'NN'), ('.', '.')]\",\n",
       " \"[(',', ','), ('with', 'IN'), ('the', 'DT'), ('grade', 'NN'), ('lowered', 'VBN'), ('by', 'IN'), ('one', 'CD'), ('grade', 'NN'), (',', ','), ('with', 'IN'), ('a', 'DT'), ('one-day', 'JJ'), ('window', 'NN'), ('.', '.')]\",\n",
       " \"[(',', ','), ('with', 'IN'), ('the', 'DT'), ('grade', 'NN'), ('lowered', 'VBN'), ('by', 'IN'), ('one', 'CD'), ('grade', 'NN'), (',', ','), ('with', 'IN'), ('a', 'DT'), ('one-day', 'JJ'), ('window', 'NN'), ('.', '.')]\",\n",
       " \"[(',', ','), ('with', 'IN'), ('the', 'DT'), ('grade', 'NN'), ('lowered', 'VBN'), ('by', 'IN'), ('one', 'CD'), ('grade', 'NN'), (',', ','), ('with', 'IN'), ('a', 'DT'), ('one-day', 'JJ'), ('window', 'NN'), ('.', '.')]\",\n",
       " \"[(',', ','), ('with', 'IN'), ('the', 'DT'), ('grade', 'NN'), ('lowered', 'VBN'), ('by', 'IN'), ('one', 'CD'), ('grade', 'NN'), (',', ','), ('with', 'IN'), ('a', 'DT'), ('one-day', 'JJ'), ('window', 'NN'), ('.', '.')]\",\n",
       " \"[(',', ','), ('with', 'IN'), ('the', 'DT'), ('grade', 'NN'), ('lowered', 'VBN'), ('by', 'IN'), ('one', 'CD'), ('grade', 'NN'), (',', ','), ('with', 'IN'), ('a', 'DT'), ('one-day', 'JJ'), ('window', 'NN'), ('.', '.')]\",\n",
       " \"[(',', ','), ('with', 'IN'), ('the', 'DT'), ('grade', 'NN'), ('lowered', 'VBN'), ('by', 'IN'), ('one', 'CD'), ('grade', 'NN'), (',', ','), ('with', 'IN'), ('a', 'DT'), ('one-day', 'JJ'), ('window', 'NN'), ('.', '.')]\",\n",
       " \"[(',', ','), ('via', 'IN'), ('my', 'PRP$'), ('email', 'JJ'), ('address', 'NN'), (':', ':')]\",\n",
       " \"[(',', ','), ('with', 'IN'), ('the', 'DT'), ('grade', 'NN'), ('lowered', 'VBN'), ('by', 'IN'), ('one', 'CD'), ('grade', 'NN'), (',', ','), ('with', 'IN'), ('a', 'DT'), ('one-day', 'JJ'), ('window', 'NN'), ('.', '.')]\",\n",
       " \"[(',', ','), ('with', 'IN'), ('the', 'DT'), ('grade', 'NN'), ('lowered', 'VBN'), ('by', 'IN'), ('one', 'CD'), ('grade', 'NN'), (',', ','), ('with', 'IN'), ('a', 'DT'), ('one-day', 'JJ'), ('window', 'NN'), ('.', '.')]\",\n",
       " \"[(',', ','), ('with', 'IN'), ('the', 'DT'), ('grade', 'NN'), ('lowered', 'VBN'), ('by', 'IN'), ('one', 'CD'), ('grade', 'NN'), (',', ','), ('with', 'IN'), ('a', 'DT'), ('one-day', 'JJ'), ('window', 'NN'), ('.', '.')]\",\n",
       " \"[(',', ','), ('with', 'IN'), ('the', 'DT'), ('grade', 'NN'), ('lowered', 'VBN'), ('by', 'IN'), ('one', 'CD'), ('grade', 'NN'), (',', ','), ('with', 'IN'), ('a', 'DT'), ('one-day', 'JJ'), ('window', 'NN'), ('.', '.')]\",\n",
       " \"[(',', ','), ('via', 'IN'), ('my', 'PRP$'), ('email', 'JJ'), ('address', 'NN'), (':', ':')]\",\n",
       " \"[(',', ','), ('with', 'IN'), ('the', 'DT'), ('grade', 'NN'), ('lowered', 'VBN'), ('by', 'IN'), ('one', 'CD'), ('grade', 'NN'), (',', ','), ('with', 'IN'), ('a', 'DT'), ('one-day', 'JJ'), ('window', 'NN'), ('.', '.')]\",\n",
       " \"[(',', ','), ('with', 'IN'), ('the', 'DT'), ('grade', 'NN'), ('lowered', 'VBN'), ('by', 'IN'), ('one', 'CD'), ('grade', 'NN'), (',', ','), ('with', 'IN'), ('a', 'DT'), ('one-day', 'JJ'), ('window', 'NN'), ('.', '.')]\",\n",
       " \"[(',', ','), ('with', 'IN'), ('the', 'DT'), ('grade', 'NN'), ('lowered', 'VBN'), ('by', 'IN'), ('one', 'CD'), ('grade', 'NN'), (',', ','), ('with', 'IN'), ('a', 'DT'), ('one-day', 'JJ'), ('window', 'NN'), ('.', '.')]\",\n",
       " \"[(',', ','), ('with', 'IN'), ('the', 'DT'), ('grade', 'NN'), ('lowered', 'VBN'), ('by', 'IN'), ('one', 'CD'), ('grade', 'NN'), (',', ','), ('with', 'IN'), ('a', 'DT'), ('one-day', 'JJ'), ('window', 'NN'), ('.', '.')]\",\n",
       " \"[(',', ','), ('with', 'IN'), ('the', 'DT'), ('grade', 'NN'), ('lowered', 'VBN'), ('by', 'IN'), ('one', 'CD'), ('grade', 'NN'), (',', ','), ('with', 'IN'), ('a', 'DT'), ('one-day', 'JJ'), ('window', 'NN'), ('.', '.')]\",\n",
       " \"[(',', ','), ('with', 'IN'), ('the', 'DT'), ('grade', 'NN'), ('lowered', 'VBN'), ('by', 'IN'), ('one', 'CD'), ('grade', 'NN'), (',', ','), ('with', 'IN'), ('a', 'DT'), ('one-day', 'JJ'), ('window', 'NN'), ('.', '.')]\",\n",
       " \"[(',', ','), ('with', 'IN'), ('the', 'DT'), ('grade', 'NN'), ('lowered', 'VBN'), ('by', 'IN'), ('one', 'CD'), ('grade', 'NN'), (',', ','), ('with', 'IN'), ('a', 'DT'), ('one-day', 'JJ'), ('window', 'NN'), ('.', '.')]\",\n",
       " \"[(',', ','), ('with', 'IN'), ('the', 'DT'), ('grade', 'NN'), ('lowered', 'VBN'), ('by', 'IN'), ('one', 'CD'), ('grade', 'NN'), (',', ','), ('with', 'IN'), ('a', 'DT'), ('one-day', 'JJ'), ('window', 'NN'), ('.', '.')]\",\n",
       " \"[(',', ','), ('with', 'IN'), ('the', 'DT'), ('grade', 'NN'), ('lowered', 'VBN'), ('by', 'IN'), ('one', 'CD'), ('grade', 'NN'), (',', ','), ('with', 'IN'), ('a', 'DT'), ('one-day', 'JJ'), ('window', 'NN'), ('.', '.')]\",\n",
       " \"[(',', ','), ('via', 'IN'), ('my', 'PRP$'), ('email', 'JJ'), ('address', 'NN'), (':', ':')]\",\n",
       " \"[(',', ','), ('with', 'IN'), ('the', 'DT'), ('grade', 'NN'), ('lowered', 'VBN'), ('by', 'IN'), ('one', 'CD'), ('grade', 'NN'), (',', ','), ('with', 'IN'), ('a', 'DT'), ('one-day', 'JJ'), ('window', 'NN'), ('.', '.')]\",\n",
       " \"[(',', ','), ('with', 'IN'), ('the', 'DT'), ('grade', 'NN'), ('lowered', 'VBN'), ('by', 'IN'), ('one', 'CD'), ('grade', 'NN'), (',', ','), ('with', 'IN'), ('a', 'DT'), ('one-day', 'JJ'), ('window', 'NN'), ('.', '.')]\",\n",
       " \"[(',', ','), ('via', 'IN'), ('my', 'PRP$'), ('email', 'JJ'), ('address', 'NN'), (':', ':')]\",\n",
       " \"[(',', ','), ('with', 'IN'), ('the', 'DT'), ('grade', 'NN'), ('lowered', 'VBN'), ('by', 'IN'), ('one', 'CD'), ('grade', 'NN'), (',', ','), ('with', 'IN'), ('a', 'DT'), ('one-day', 'JJ'), ('window', 'NN'), ('.', '.')]\",\n",
       " \"[(',', ','), ('with', 'IN'), ('the', 'DT'), ('grade', 'NN'), ('lowered', 'VBN'), ('by', 'IN'), ('one', 'CD'), ('grade', 'NN'), (',', ','), ('with', 'IN'), ('a', 'DT'), ('one-day', 'JJ'), ('window', 'NN'), ('.', '.')]\",\n",
       " \"[(',', ','), ('with', 'IN'), ('the', 'DT'), ('grade', 'NN'), ('lowered', 'VBN'), ('by', 'IN'), ('one', 'CD'), ('grade', 'NN'), (',', ','), ('with', 'IN'), ('a', 'DT'), ('one-day', 'JJ'), ('window', 'NN'), ('.', '.')]\",\n",
       " \"[(',', ','), ('with', 'IN'), ('the', 'DT'), ('grade', 'NN'), ('lowered', 'VBN'), ('by', 'IN'), ('one', 'CD'), ('grade', 'NN'), (',', ','), ('with', 'IN'), ('a', 'DT'), ('one-day', 'JJ'), ('window', 'NN'), ('.', '.')]\",\n",
       " \"[(',', ','), ('with', 'IN'), ('the', 'DT'), ('grade', 'NN'), ('lowered', 'VBN'), ('by', 'IN'), ('one', 'CD'), ('grade', 'NN'), (',', ','), ('with', 'IN'), ('a', 'DT'), ('one-day', 'JJ'), ('window', 'NN'), ('.', '.')]\",\n",
       " \"[(',', ','), ('with', 'IN'), ('the', 'DT'), ('grade', 'NN'), ('lowered', 'VBN'), ('by', 'IN'), ('one', 'CD'), ('grade', 'NN'), (',', ','), ('with', 'IN'), ('a', 'DT'), ('one-day', 'JJ'), ('window', 'NN'), ('.', '.')]\",\n",
       " \"[(',', ','), ('with', 'IN'), ('the', 'DT'), ('grade', 'NN'), ('lowered', 'VBN'), ('by', 'IN'), ('one', 'CD'), ('grade', 'NN'), (',', ','), ('with', 'IN'), ('a', 'DT'), ('one-day', 'JJ'), ('window', 'NN'), ('.', '.')]\",\n",
       " \"[(',', ','), ('with', 'IN'), ('the', 'DT'), ('grade', 'NN'), ('lowered', 'VBN'), ('by', 'IN'), ('one', 'CD'), ('grade', 'NN'), (',', ','), ('with', 'IN'), ('a', 'DT'), ('one-day', 'JJ'), ('window', 'NN'), ('.', '.')]\",\n",
       " \"[(',', ','), ('via', 'IN'), ('my', 'PRP$'), ('email', 'JJ'), ('address', 'NN'), (':', ':')]\",\n",
       " \"[(',', ','), ('with', 'IN'), ('the', 'DT'), ('grade', 'NN'), ('lowered', 'VBN'), ('by', 'IN'), ('one', 'CD'), ('grade', 'NN'), (',', ','), ('with', 'IN'), ('a', 'DT'), ('one-day', 'JJ'), ('window', 'NN'), ('.', '.')]\",\n",
       " \"[(',', ','), ('via', 'IN'), ('my', 'PRP$'), ('email', 'JJ'), ('address', 'NN'), (':', ':')]\",\n",
       " \"[(',', ','), ('with', 'IN'), ('the', 'DT'), ('grade', 'NN'), ('lowered', 'VBN'), ('by', 'IN'), ('one', 'CD'), ('grade', 'NN'), (',', ','), ('with', 'IN'), ('a', 'DT'), ('one-day', 'JJ'), ('window', 'NN'), ('.', '.')]\",\n",
       " \"[(',', ','), ('via', 'IN'), ('my', 'PRP$'), ('email', 'JJ'), ('address', 'NN'), (':', ':')]\",\n",
       " \"[(',', ','), ('with', 'IN'), ('the', 'DT'), ('grade', 'NN'), ('lowered', 'VBN'), ('by', 'IN'), ('one', 'CD'), ('grade', 'NN'), (',', ','), ('with', 'IN'), ('a', 'DT'), ('one-day', 'JJ'), ('window', 'NN'), ('.', '.')]\",\n",
       " \"[(',', ','), ('with', 'IN'), ('the', 'DT'), ('grade', 'NN'), ('lowered', 'VBN'), ('by', 'IN'), ('one', 'CD'), ('grade', 'NN'), (',', ','), ('with', 'IN'), ('a', 'DT'), ('one-day', 'JJ'), ('window', 'NN'), ('.', '.')]\",\n",
       " \"[(',', ','), ('via', 'IN'), ('my', 'PRP$'), ('email', 'JJ'), ('address', 'NN'), (':', ':')]\",\n",
       " \"[(',', ','), ('with', 'IN'), ('the', 'DT'), ('grade', 'NN'), ('lowered', 'VBN'), ('by', 'IN'), ('one', 'CD'), ('grade', 'NN'), (',', ','), ('with', 'IN'), ('a', 'DT'), ('one-day', 'JJ'), ('window', 'NN'), ('.', '.')]\",\n",
       " \"[(',', ','), ('with', 'IN'), ('the', 'DT'), ('grade', 'NN'), ('lowered', 'VBN'), ('by', 'IN'), ('one', 'CD'), ('grade', 'NN'), (',', ','), ('with', 'IN'), ('a', 'DT'), ('one-day', 'JJ'), ('window', 'NN'), ('.', '.')]\",\n",
       " \"[(',', ','), ('with', 'IN'), ('the', 'DT'), ('grade', 'NN'), ('lowered', 'VBN'), ('by', 'IN'), ('one', 'CD'), ('grade', 'NN'), (',', ','), ('with', 'IN'), ('a', 'DT'), ('one-day', 'JJ'), ('window', 'NN'), ('.', '.')]\",\n",
       " \"[(',', ','), ('with', 'IN'), ('the', 'DT'), ('grade', 'NN'), ('lowered', 'VBN'), ('by', 'IN'), ('one', 'CD'), ('grade', 'NN'), (',', ','), ('with', 'IN'), ('a', 'DT'), ('one-day', 'JJ'), ('window', 'NN'), ('.', '.')]\",\n",
       " \"[(',', ','), ('with', 'IN'), ('the', 'DT'), ('grade', 'NN'), ('lowered', 'VBN'), ('by', 'IN'), ('one', 'CD'), ('grade', 'NN'), (',', ','), ('with', 'IN'), ('a', 'DT'), ('one-day', 'JJ'), ('window', 'NN'), ('.', '.')]\",\n",
       " \"[(',', ','), ('with', 'IN'), ('the', 'DT'), ('grade', 'NN'), ('lowered', 'VBN'), ('by', 'IN'), ('one', 'CD'), ('grade', 'NN'), (',', ','), ('with', 'IN'), ('a', 'DT'), ('one-day', 'JJ'), ('window', 'NN'), ('.', '.')]\",\n",
       " \"[(',', ','), ('with', 'IN'), ('the', 'DT'), ('grade', 'NN'), ('lowered', 'VBN'), ('by', 'IN'), ('one', 'CD'), ('grade', 'NN'), (',', ','), ('with', 'IN'), ('a', 'DT'), ('one-day', 'JJ'), ('window', 'NN'), ('.', '.')]\",\n",
       " \"[(',', ','), ('with', 'IN'), ('the', 'DT'), ('grade', 'NN'), ('lowered', 'VBN'), ('by', 'IN'), ('one', 'CD'), ('grade', 'NN'), (',', ','), ('with', 'IN'), ('a', 'DT'), ('one-day', 'JJ'), ('window', 'NN'), ('.', '.')]\",\n",
       " \"[(',', ','), ('with', 'IN'), ('the', 'DT'), ('grade', 'NN'), ('lowered', 'VBN'), ('by', 'IN'), ('one', 'CD'), ('grade', 'NN'), (',', ','), ('with', 'IN'), ('a', 'DT'), ('one-day', 'JJ'), ('window', 'NN'), ('.', '.')]\",\n",
       " \"[(',', ','), ('with', 'IN'), ('the', 'DT'), ('grade', 'NN'), ('lowered', 'VBN'), ('by', 'IN'), ('one', 'CD'), ('grade', 'NN'), (',', ','), ('with', 'IN'), ('a', 'DT'), ('one-day', 'JJ'), ('window', 'NN'), ('.', '.')]\",\n",
       " \"[(',', ','), ('with', 'IN'), ('the', 'DT'), ('grade', 'NN'), ('lowered', 'VBN'), ('by', 'IN'), ('one', 'CD'), ('grade', 'NN'), (',', ','), ('with', 'IN'), ('a', 'DT'), ('one-day', 'JJ'), ('window', 'NN'), ('.', '.')]\",\n",
       " \"[(',', ','), ('with', 'IN'), ('the', 'DT'), ('grade', 'NN'), ('lowered', 'VBN'), ('by', 'IN'), ('one', 'CD'), ('grade', 'NN'), (',', ','), ('with', 'IN'), ('a', 'DT'), ('one-day', 'JJ'), ('window', 'NN'), ('.', '.')]\",\n",
       " \"[(',', ','), ('with', 'IN'), ('the', 'DT'), ('grade', 'NN'), ('lowered', 'VBN'), ('by', 'IN'), ('one', 'CD'), ('grade', 'NN'), (',', ','), ('with', 'IN'), ('a', 'DT'), ('one-day', 'JJ'), ('window', 'NN'), ('.', '.')]\",\n",
       " \"[(',', ','), ('with', 'IN'), ('the', 'DT'), ('grade', 'NN'), ('lowered', 'VBN'), ('by', 'IN'), ('one', 'CD'), ('grade', 'NN'), (',', ','), ('with', 'IN'), ('a', 'DT'), ('one-day', 'JJ'), ('window', 'NN'), ('.', '.')]\",\n",
       " \"[(',', ','), ('with', 'IN'), ('the', 'DT'), ('grade', 'NN'), ('lowered', 'VBN'), ('by', 'IN'), ('one', 'CD'), ('grade', 'NN'), (',', ','), ('with', 'IN'), ('a', 'DT'), ('one-day', 'JJ'), ('window', 'NN'), ('.', '.')]\",\n",
       " \"[(',', ','), ('with', 'IN'), ('the', 'DT'), ('grade', 'NN'), ('lowered', 'VBN'), ('by', 'IN'), ('one', 'CD'), ('grade', 'NN'), (',', ','), ('with', 'IN'), ('a', 'DT'), ('one-day', 'JJ'), ('window', 'NN'), ('.', '.')]\",\n",
       " \"[(',', ','), ('with', 'IN'), ('the', 'DT'), ('grade', 'NN'), ('lowered', 'VBN'), ('by', 'IN'), ('one', 'CD'), ('grade', 'NN'), (',', ','), ('with', 'IN'), ('a', 'DT'), ('one-day', 'JJ'), ('window', 'NN'), ('.', '.')]\",\n",
       " \"[(',', ','), ('with', 'IN'), ('the', 'DT'), ('grade', 'NN'), ('lowered', 'VBN'), ('by', 'IN'), ('one', 'CD'), ('grade', 'NN'), (',', ','), ('with', 'IN'), ('a', 'DT'), ('one-day', 'JJ'), ('window', 'NN'), ('.', '.')]\",\n",
       " \"[(',', ','), ('with', 'IN'), ('the', 'DT'), ('grade', 'NN'), ('lowered', 'VBN'), ('by', 'IN'), ('one', 'CD'), ('grade', 'NN'), (',', ','), ('with', 'IN'), ('a', 'DT'), ('one-day', 'JJ'), ('window', 'NN'), ('.', '.')]\",\n",
       " \"[(',', ','), ('with', 'IN'), ('the', 'DT'), ('grade', 'NN'), ('lowered', 'VBN'), ('by', 'IN'), ('one', 'CD'), ('grade', 'NN'), (',', ','), ('with', 'IN'), ('a', 'DT'), ('one-day', 'JJ'), ('window', 'NN'), ('.', '.')]\",\n",
       " \"[(',', ','), ('with', 'IN'), ('the', 'DT'), ('grade', 'NN'), ('lowered', 'VBN'), ('by', 'IN'), ('one', 'CD'), ('grade', 'NN'), (',', ','), ('with', 'IN'), ('a', 'DT'), ('one-day', 'JJ'), ('window', 'NN'), ('.', '.')]\",\n",
       " \"[(',', ','), ('with', 'IN'), ('the', 'DT'), ('grade', 'NN'), ('lowered', 'VBN'), ('by', 'IN'), ('one', 'CD'), ('grade', 'NN'), (',', ','), ('with', 'IN'), ('a', 'DT'), ('one-day', 'JJ'), ('window', 'NN'), ('.', '.')]\",\n",
       " \"[(',', ','), ('with', 'IN'), ('the', 'DT'), ('grade', 'NN'), ('lowered', 'VBN'), ('by', 'IN'), ('one', 'CD'), ('grade', 'NN'), (',', ','), ('with', 'IN'), ('a', 'DT'), ('one-day', 'JJ'), ('window', 'NN'), ('.', '.')]\",\n",
       " \"[(',', ','), ('with', 'IN'), ('the', 'DT'), ('grade', 'NN'), ('lowered', 'VBN'), ('by', 'IN'), ('one', 'CD'), ('grade', 'NN'), (',', ','), ('with', 'IN'), ('a', 'DT'), ('one-day', 'JJ'), ('window', 'NN'), ('.', '.')]\",\n",
       " \"[(',', ','), ('with', 'IN'), ('the', 'DT'), ('grade', 'NN'), ('lowered', 'VBN'), ('by', 'IN'), ('one', 'CD'), ('grade', 'NN'), (',', ','), ('with', 'IN'), ('a', 'DT'), ('one-day', 'JJ'), ('window', 'NN'), ('.', '.')]\",\n",
       " \"[(',', ','), ('with', 'IN'), ('the', 'DT'), ('grade', 'NN'), ('lowered', 'VBN'), ('by', 'IN'), ('one', 'CD'), ('grade', 'NN'), (',', ','), ('with', 'IN'), ('a', 'DT'), ('one-day', 'JJ'), ('window', 'NN'), ('.', '.')]\",\n",
       " \"[(',', ','), ('with', 'IN'), ('the', 'DT'), ('grade', 'NN'), ('lowered', 'VBN'), ('by', 'IN'), ('one', 'CD'), ('grade', 'NN'), (',', ','), ('with', 'IN'), ('a', 'DT'), ('one-day', 'JJ'), ('window', 'NN'), ('.', '.')]\",\n",
       " \"[(',', ','), ('with', 'IN'), ('the', 'DT'), ('grade', 'NN'), ('lowered', 'VBN'), ('by', 'IN'), ('one', 'CD'), ('grade', 'NN'), (',', ','), ('with', 'IN'), ('a', 'DT'), ('one-day', 'JJ'), ('window', 'NN'), ('.', '.')]\",\n",
       " \"[(',', ','), ('with', 'IN'), ('the', 'DT'), ('grade', 'NN'), ('lowered', 'VBN'), ('by', 'IN'), ('one', 'CD'), ('grade', 'NN'), (',', ','), ('with', 'IN'), ('a', 'DT'), ('one-day', 'JJ'), ('window', 'NN'), ('.', '.')]\",\n",
       " \"[(',', ','), ('with', 'IN'), ('the', 'DT'), ('grade', 'NN'), ('lowered', 'VBN'), ('by', 'IN'), ('one', 'CD'), ('grade', 'NN'), (',', ','), ('with', 'IN'), ('a', 'DT'), ('one-day', 'JJ'), ('window', 'NN'), ('.', '.')]\",\n",
       " \"[(',', ','), ('with', 'IN'), ('the', 'DT'), ('grade', 'NN'), ('lowered', 'VBN'), ('by', 'IN'), ('one', 'CD'), ('grade', 'NN'), (',', ','), ('with', 'IN'), ('a', 'DT'), ('one-day', 'JJ'), ('window', 'NN'), ('.', '.')]\",\n",
       " \"[(',', ','), ('with', 'IN'), ('the', 'DT'), ('grade', 'NN'), ('lowered', 'VBN'), ('by', 'IN'), ('one', 'CD'), ('grade', 'NN'), (',', ','), ('with', 'IN'), ('a', 'DT'), ('one-day', 'JJ'), ('window', 'NN'), ('.', '.')]\",\n",
       " \"[(',', ','), ('with', 'IN'), ('the', 'DT'), ('grade', 'NN'), ('lowered', 'VBN'), ('by', 'IN'), ('one', 'CD'), ('grade', 'NN'), (',', ','), ('with', 'IN'), ('a', 'DT'), ('one-day', 'JJ'), ('window', 'NN'), ('.', '.')]\",\n",
       " \"[(',', ','), ('with', 'IN'), ('the', 'DT'), ('grade', 'NN'), ('lowered', 'VBN'), ('by', 'IN'), ('one', 'CD'), ('grade', 'NN'), (',', ','), ('with', 'IN'), ('a', 'DT'), ('one-day', 'JJ'), ('window', 'NN'), ('.', '.')]\",\n",
       " \"[(',', ','), ('with', 'IN'), ('the', 'DT'), ('grade', 'NN'), ('lowered', 'VBN'), ('by', 'IN'), ('one', 'CD'), ('grade', 'NN'), (',', ','), ('with', 'IN'), ('a', 'DT'), ('one-day', 'JJ'), ('window', 'NN'), ('.', '.')]\",\n",
       " \"[(',', ','), ('with', 'IN'), ('the', 'DT'), ('grade', 'NN'), ('lowered', 'VBN'), ('by', 'IN'), ('one', 'CD'), ('grade', 'NN'), (',', ','), ('with', 'IN'), ('a', 'DT'), ('one-day', 'JJ'), ('window', 'NN'), ('.', '.')]\",\n",
       " \"[(',', ','), ('with', 'IN'), ('the', 'DT'), ('grade', 'NN'), ('lowered', 'VBN'), ('by', 'IN'), ('one', 'CD'), ('grade', 'NN'), (',', ','), ('with', 'IN'), ('a', 'DT'), ('one-day', 'JJ'), ('window', 'NN'), ('.', '.')]\",\n",
       " \"[(',', ','), ('with', 'IN'), ('the', 'DT'), ('grade', 'NN'), ('lowered', 'VBN'), ('by', 'IN'), ('one', 'CD'), ('grade', 'NN'), (',', ','), ('with', 'IN'), ('a', 'DT'), ('one-day', 'JJ'), ('window', 'NN'), ('.', '.')]\",\n",
       " \"[(',', ','), ('with', 'IN'), ('the', 'DT'), ('grade', 'NN'), ('lowered', 'VBN'), ('by', 'IN'), ('one', 'CD'), ('grade', 'NN'), (',', ','), ('with', 'IN'), ('a', 'DT'), ('one-day', 'JJ'), ('window', 'NN'), ('.', '.')]\",\n",
       " \"[(',', ','), ('with', 'IN'), ('the', 'DT'), ('grade', 'NN'), ('lowered', 'VBN'), ('by', 'IN'), ('one', 'CD'), ('grade', 'NN'), (',', ','), ('with', 'IN'), ('a', 'DT'), ('one-day', 'JJ'), ('window', 'NN'), ('.', '.')]\",\n",
       " \"[(',', ','), ('with', 'IN'), ('the', 'DT'), ('grade', 'NN'), ('lowered', 'VBN'), ('by', 'IN'), ('one', 'CD'), ('grade', 'NN'), (',', ','), ('with', 'IN'), ('a', 'DT'), ('one-day', 'JJ'), ('window', 'NN'), ('.', '.')]\",\n",
       " \"[(',', ','), ('with', 'IN'), ('the', 'DT'), ('grade', 'NN'), ('lowered', 'VBN'), ('by', 'IN'), ('one', 'CD'), ('grade', 'NN'), (',', ','), ('with', 'IN'), ('a', 'DT'), ('one-day', 'JJ'), ('window', 'NN'), ('.', '.')]\",\n",
       " \"[(',', ','), ('with', 'IN'), ('the', 'DT'), ('grade', 'NN'), ('lowered', 'VBN'), ('by', 'IN'), ('one', 'CD'), ('grade', 'NN'), (',', ','), ('with', 'IN'), ('a', 'DT'), ('one-day', 'JJ'), ('window', 'NN'), ('.', '.')]\",\n",
       " \"[(',', ','), ('with', 'IN'), ('the', 'DT'), ('grade', 'NN'), ('lowered', 'VBN'), ('by', 'IN'), ('one', 'CD'), ('grade', 'NN'), (',', ','), ('with', 'IN'), ('a', 'DT'), ('one-day', 'JJ'), ('window', 'NN'), ('.', '.')]\",\n",
       " \"[(',', ','), ('with', 'IN'), ('the', 'DT'), ('grade', 'NN'), ('lowered', 'VBN'), ('by', 'IN'), ('one', 'CD'), ('grade', 'NN'), (',', ','), ('with', 'IN'), ('a', 'DT'), ('one-day', 'JJ'), ('window', 'NN'), ('.', '.')]\",\n",
       " \"[(',', ','), ('with', 'IN'), ('the', 'DT'), ('grade', 'NN'), ('lowered', 'VBN'), ('by', 'IN'), ('one', 'CD'), ('grade', 'NN'), (',', ','), ('with', 'IN'), ('a', 'DT'), ('one-day', 'JJ'), ('window', 'NN'), ('.', '.')]\",\n",
       " \"[(',', ','), ('with', 'IN'), ('the', 'DT'), ('grade', 'NN'), ('lowered', 'VBN'), ('by', 'IN'), ('one', 'CD'), ('grade', 'NN'), (',', ','), ('with', 'IN'), ('a', 'DT'), ('one-day', 'JJ'), ('window', 'NN'), ('.', '.')]\",\n",
       " \"[(',', ','), ('with', 'IN'), ('the', 'DT'), ('grade', 'NN'), ('lowered', 'VBN'), ('by', 'IN'), ('one', 'CD'), ('grade', 'NN'), (',', ','), ('with', 'IN'), ('a', 'DT'), ('one-day', 'JJ'), ('window', 'NN'), ('.', '.')]\",\n",
       " \"[(',', ','), ('with', 'IN'), ('the', 'DT'), ('grade', 'NN'), ('lowered', 'VBN'), ('by', 'IN'), ('one', 'CD'), ('grade', 'NN'), (',', ','), ('with', 'IN'), ('a', 'DT'), ('one-day', 'JJ'), ('window', 'NN'), ('.', '.')]\",\n",
       " \"[(',', ','), ('with', 'IN'), ('the', 'DT'), ('grade', 'NN'), ('lowered', 'VBN'), ('by', 'IN'), ('one', 'CD'), ('grade', 'NN'), (',', ','), ('with', 'IN'), ('a', 'DT'), ('one-day', 'JJ'), ('window', 'NN'), ('.', '.')]\",\n",
       " \"[(',', ','), ('with', 'IN'), ('the', 'DT'), ('grade', 'NN'), ('lowered', 'VBN'), ('by', 'IN'), ('one', 'CD'), ('grade', 'NN'), (',', ','), ('with', 'IN'), ('a', 'DT'), ('one-day', 'JJ'), ('window', 'NN'), ('.', '.')]\",\n",
       " \"[(',', ','), ('with', 'IN'), ('the', 'DT'), ('grade', 'NN'), ('lowered', 'VBN'), ('by', 'IN'), ('one', 'CD'), ('grade', 'NN'), (',', ','), ('with', 'IN'), ('a', 'DT'), ('one-day', 'JJ'), ('window', 'NN'), ('.', '.')]\",\n",
       " \"[(',', ','), ('with', 'IN'), ('the', 'DT'), ('grade', 'NN'), ('lowered', 'VBN'), ('by', 'IN'), ('one', 'CD'), ('grade', 'NN'), (',', ','), ('with', 'IN'), ('a', 'DT'), ('one-day', 'JJ'), ('window', 'NN'), ('.', '.')]\",\n",
       " \"[(',', ','), ('with', 'IN'), ('the', 'DT'), ('grade', 'NN'), ('lowered', 'VBN'), ('by', 'IN'), ('one', 'CD'), ('grade', 'NN'), (',', ','), ('with', 'IN'), ('a', 'DT'), ('one-day', 'JJ'), ('window', 'NN'), ('.', '.')]\",\n",
       " \"[(',', ','), ('with', 'IN'), ('the', 'DT'), ('grade', 'NN'), ('lowered', 'VBN'), ('by', 'IN'), ('one', 'CD'), ('grade', 'NN'), (',', ','), ('with', 'IN'), ('a', 'DT'), ('one-day', 'JJ'), ('window', 'NN'), ('.', '.')]\",\n",
       " \"[(',', ','), ('with', 'IN'), ('the', 'DT'), ('grade', 'NN'), ('lowered', 'VBN'), ('by', 'IN'), ('one', 'CD'), ('grade', 'NN'), (',', ','), ('with', 'IN'), ('a', 'DT'), ('one-day', 'JJ'), ('window', 'NN'), ('.', '.')]\",\n",
       " \"[(',', ','), ('with', 'IN'), ('the', 'DT'), ('grade', 'NN'), ('lowered', 'VBN'), ('by', 'IN'), ('one', 'CD'), ('grade', 'NN'), (',', ','), ('with', 'IN'), ('a', 'DT'), ('one-day', 'JJ'), ('window', 'NN'), ('.', '.')]\",\n",
       " \"[(',', ','), ('with', 'IN'), ('the', 'DT'), ('grade', 'NN'), ('lowered', 'VBN'), ('by', 'IN'), ('one', 'CD'), ('grade', 'NN'), (',', ','), ('with', 'IN'), ('a', 'DT'), ('one-day', 'JJ'), ('window', 'NN'), ('.', '.')]\",\n",
       " \"[(',', ','), ('with', 'IN'), ('the', 'DT'), ('grade', 'NN'), ('lowered', 'VBN'), ('by', 'IN'), ('one', 'CD'), ('grade', 'NN'), (',', ','), ('with', 'IN'), ('a', 'DT'), ('one-day', 'JJ'), ('window', 'NN'), ('.', '.')]\",\n",
       " \"[(',', ','), ('with', 'IN'), ('the', 'DT'), ('grade', 'NN'), ('lowered', 'VBN'), ('by', 'IN'), ('one', 'CD'), ('grade', 'NN'), (',', ','), ('with', 'IN'), ('a', 'DT'), ('one-day', 'JJ'), ('window', 'NN'), ('.', '.')]\",\n",
       " \"[(',', ','), ('with', 'IN'), ('the', 'DT'), ('grade', 'NN'), ('lowered', 'VBN'), ('by', 'IN'), ('one', 'CD'), ('grade', 'NN'), (',', ','), ('with', 'IN'), ('a', 'DT'), ('one-day', 'JJ'), ('window', 'NN'), ('.', '.')]\",\n",
       " \"[(',', ','), ('with', 'IN'), ('the', 'DT'), ('grade', 'NN'), ('lowered', 'VBN'), ('by', 'IN'), ('one', 'CD'), ('grade', 'NN'), (',', ','), ('with', 'IN'), ('a', 'DT'), ('one-day', 'JJ'), ('window', 'NN'), ('.', '.')]\",\n",
       " \"[(',', ','), ('with', 'IN'), ('the', 'DT'), ('grade', 'NN'), ('lowered', 'VBN'), ('by', 'IN'), ('one', 'CD'), ('grade', 'NN'), (',', ','), ('with', 'IN'), ('a', 'DT'), ('one-day', 'JJ'), ('window', 'NN'), ('.', '.')]\",\n",
       " \"[(',', ','), ('with', 'IN'), ('the', 'DT'), ('grade', 'NN'), ('lowered', 'VBN'), ('by', 'IN'), ('one', 'CD'), ('grade', 'NN'), (',', ','), ('with', 'IN'), ('a', 'DT'), ('one-day', 'JJ'), ('window', 'NN'), ('.', '.')]\",\n",
       " \"[(',', ','), ('with', 'IN'), ('the', 'DT'), ('grade', 'NN'), ('lowered', 'VBN'), ('by', 'IN'), ('one', 'CD'), ('grade', 'NN'), (',', ','), ('with', 'IN'), ('a', 'DT'), ('one-day', 'JJ'), ('window', 'NN'), ('.', '.')]\",\n",
       " \"[(',', ','), ('with', 'IN'), ('the', 'DT'), ('grade', 'NN'), ('lowered', 'VBN'), ('by', 'IN'), ('one', 'CD'), ('grade', 'NN'), (',', ','), ('with', 'IN'), ('a', 'DT'), ('one-day', 'JJ'), ('window', 'NN'), ('.', '.')]\",\n",
       " \"[(',', ','), ('with', 'IN'), ('the', 'DT'), ('grade', 'NN'), ('lowered', 'VBN'), ('by', 'IN'), ('one', 'CD'), ('grade', 'NN'), (',', ','), ('with', 'IN'), ('a', 'DT'), ('one-day', 'JJ'), ('window', 'NN'), ('.', '.')]\",\n",
       " \"[(',', ','), ('with', 'IN'), ('the', 'DT'), ('grade', 'NN'), ('lowered', 'VBN'), ('by', 'IN'), ('one', 'CD'), ('grade', 'NN'), (',', ','), ('with', 'IN'), ('a', 'DT'), ('one-day', 'JJ'), ('window', 'NN'), ('.', '.')]\"]"
      ]
     },
     "execution_count": 127,
     "metadata": {},
     "output_type": "execute_result"
    }
   ],
   "source": [
    "list(le.inverse_transform(test_pre))"
   ]
  },
  {
   "cell_type": "code",
   "execution_count": 118,
   "metadata": {},
   "outputs": [
    {
     "data": {
      "text/plain": [
       "array([1, 1, 1, 1, 1, 1, 1, 1, 1, 1, 1, 1, 1, 1, 1, 1, 1, 1, 1, 1, 1, 0,\n",
       "       1, 1, 1, 1, 1, 1, 1, 1, 1, 1, 1, 1, 1, 1, 1, 1, 1, 1, 1, 1, 1, 1,\n",
       "       0, 1, 1, 1, 0, 1, 1, 1, 1, 1, 1, 1, 1, 1, 1, 1, 1, 1, 1, 1, 1, 1,\n",
       "       1, 1, 1, 1, 1, 1, 1, 1, 1, 1, 1, 1, 1, 1, 1, 1, 1, 1, 0, 1, 1, 1,\n",
       "       1, 0, 1, 1, 1, 1, 1, 1, 1, 1, 1, 1, 1, 1, 1, 1, 1, 1, 1, 1, 1, 1,\n",
       "       1, 1, 1, 1, 1, 1, 1, 1, 1, 1, 1, 1, 1, 1, 1, 1, 1, 1, 1, 1, 1, 1,\n",
       "       1, 1, 1, 1, 1, 1, 1, 1, 1, 1, 1, 1, 1, 1, 1, 1, 1, 1, 1, 1, 1, 1,\n",
       "       0, 1, 1, 1, 1, 1, 1, 1, 1, 1, 1, 1, 1, 1, 1, 1, 1, 1, 1, 1, 1, 1,\n",
       "       1, 1, 1, 1, 1, 0, 1, 1, 1, 1, 0, 1, 1, 1, 1, 1, 1, 1, 1, 1, 0, 1,\n",
       "       1, 0, 1, 1, 1, 1, 1, 1, 1, 1, 0, 1, 0, 1, 0, 1, 1, 0, 1, 1, 1, 1,\n",
       "       1, 1, 1, 1, 1, 1, 1, 1, 1, 1, 1, 1, 1, 1, 1, 1, 1, 1, 1, 1, 1, 1,\n",
       "       1, 1, 1, 1, 1, 1, 1, 1, 1, 1, 1, 1, 1, 1, 1, 1, 1, 1, 1, 1, 1, 1,\n",
       "       1, 1, 1, 1, 1, 1, 1, 1, 1, 1, 1, 1, 1, 1, 1, 1, 1, 1, 1, 1, 1, 1,\n",
       "       1, 1, 1, 1, 1, 1, 1, 1, 1, 1, 1, 1, 1, 1, 1, 1, 1, 1, 1, 0, 1, 1,\n",
       "       1, 1, 1, 1, 1, 1, 1, 1, 1, 1, 1, 1, 1, 1, 1, 1, 1, 1, 1, 1, 0, 1,\n",
       "       1, 1, 0, 1, 1, 1, 1, 1, 1, 1, 1, 1, 1, 1, 1, 1, 1, 1, 1, 1, 1, 1,\n",
       "       1, 1, 1, 1, 1, 1, 1, 1, 1, 1, 1, 1, 1, 1, 1, 1, 0, 1, 1, 1, 1, 0,\n",
       "       1, 1, 1, 1, 1, 1, 1, 1, 1, 1, 1, 1, 1, 1, 1, 1, 1, 1, 1, 1, 1, 1,\n",
       "       1, 1, 1, 1, 1, 1, 1, 1, 1, 1, 1, 1, 1, 1, 1, 1, 1, 1, 1, 1, 1, 1,\n",
       "       1, 1, 1, 1, 1, 1, 1, 1, 1, 1, 1, 1, 1, 1, 1, 1, 1, 1, 1, 1, 0, 1,\n",
       "       1, 1, 1, 1, 1, 1, 1, 1, 1, 1, 1, 1, 1, 1, 1, 1, 1, 1, 1, 1, 1, 1,\n",
       "       1, 1, 1, 0, 1, 1, 1, 1, 0, 1, 1, 1, 1, 1, 1, 1, 1, 1, 0, 1, 1, 0,\n",
       "       1, 1, 1, 1, 1, 1, 1, 1, 0, 1, 0, 1, 0, 1, 1, 0, 1, 1, 1, 1, 1, 1,\n",
       "       1, 1, 1, 1, 1, 1, 1, 1, 1, 1, 1, 1, 1, 1, 1, 1, 1, 1, 1, 1, 1, 1,\n",
       "       1, 1, 1, 1, 1, 1, 1, 1, 1, 1, 1, 1, 1, 1, 1, 1, 1, 1, 1, 1, 1, 1,\n",
       "       1, 1, 1, 1, 1, 1, 1, 1, 1, 1, 1, 1, 1, 1, 1, 1, 1, 1])"
      ]
     },
     "execution_count": 118,
     "metadata": {},
     "output_type": "execute_result"
    }
   ],
   "source": [
    "test_pre"
   ]
  },
  {
   "cell_type": "code",
   "execution_count": null,
   "metadata": {},
   "outputs": [],
   "source": []
  }
 ],
 "metadata": {
  "kernelspec": {
   "display_name": "Python 3",
   "language": "python",
   "name": "python3"
  },
  "language_info": {
   "codemirror_mode": {
    "name": "ipython",
    "version": 3
   },
   "file_extension": ".py",
   "mimetype": "text/x-python",
   "name": "python",
   "nbconvert_exporter": "python",
   "pygments_lexer": "ipython3",
   "version": "3.6.9"
  }
 },
 "nbformat": 4,
 "nbformat_minor": 4
}
