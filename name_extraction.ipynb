{
 "cells": [
  {
   "cell_type": "code",
   "execution_count": 1,
   "metadata": {},
   "outputs": [],
   "source": [
    "import spacy\n",
    "import pandas as pd"
   ]
  },
  {
   "cell_type": "code",
   "execution_count": 4,
   "metadata": {},
   "outputs": [],
   "source": [
    "df = pd.read_excel('headings.xlsx')"
   ]
  },
  {
   "cell_type": "code",
   "execution_count": 2,
   "metadata": {},
   "outputs": [],
   "source": [
    "nlp = spacy.load(\"en\")"
   ]
  },
  {
   "cell_type": "code",
   "execution_count": 5,
   "metadata": {},
   "outputs": [],
   "source": [
    "# for ent in doc.ents:\n",
    "#     print(ent.text, ent.label_)"
   ]
  },
  {
   "cell_type": "code",
   "execution_count": 7,
   "metadata": {
    "scrolled": true
   },
   "outputs": [
    {
     "name": "stdout",
     "output_type": "stream",
     "text": [
      "Don Polly\n",
      "Charlie\n",
      "DUSA\n",
      "Michael Gavin Isaacs\n",
      "Michael Dreyer\n",
      "Jean Madar Holding SAS\n",
      "Ariel R&D\n",
      "Ariel\n",
      "Ariel\n",
      "PHILIP GROTHE\n",
      "Peter O'Brien\n",
      "Inc\n",
      "Hung-Yi\n",
      "Christopher P. Shea\n",
      "Asembia Specialty Pharmacy Summit\n",
      "Westpark Advisors\n",
      "Westpark Advisors\n",
      "Seller\n",
      "Derek lwanaka\n",
      "Wilton\n",
      "Rosh Haayin\n",
      "Park Afek\n",
      "LP\n",
      "Sered North River\n",
      "Contango ORE, Inc.\n",
      "N. Brand Boulevard\n",
      "ELI E. HENDEL\n",
      "Mustang Bio\n",
      "Skymark Tower\n",
      "Lakeville\n",
      "SGO MN Burnsville\n",
      "SGO MN Lakeville\n",
      "Lakeville Owner\n",
      "SGO MN Burnsville\n",
      "PRESTON HILLS\n",
      "VILLAGE SPE\n",
      "Powell\n",
      "Licensor\n",
      "Licensor\n",
      "Keane Frac LP\n",
      "WYNN RESORTS\n",
      "WYNN MA\n",
      "Inc\n",
      "Steve Stubbleﬁeld\n",
      "AHMEDABAD 380061\n",
      "Ahmedabad 380015\n",
      "Golden Pegasus Racing Incorporated\n",
      "Westcott\n",
      "Wilmington\n",
      "Terrence Duﬀy\n",
      "Craig S. Donohue\n",
      "Mitchell Steinhause\n",
      "James E. Newsome\n",
      "Virginia 20171\n",
      "Galleria Parkway\n",
      "Galleria Parkway\n",
      "James Crane\n",
      "Rory Herriman\n",
      "Austin\n",
      "_\n",
      "LESSEE\n",
      "Sun\n",
      "William Sondheim\n",
      "Queensland 4066\n",
      "Quintiles\n",
      "Matt Edelman\n",
      "Peter Kingsley\n",
      "Accenture LLP\n",
      "N. Clark\n",
      "TELUPAY\n",
      "Roces Ave\n",
      "Johnson Ferry Road\n",
      "Antik Denim LLC\n",
      "Lithia Hyundai\n",
      "MICHAEL KARPHEDEN\n",
      "MICHAEL KARPHEDEN\n",
      "Stephen Rozow\n",
      "Cliﬀ Haigler\n",
      "Williams\n",
      "Jane Street\n",
      "CONFIDENTIAL TREATMENT\n",
      "Madison Avenue\n",
      "Alpharetta\n",
      "Paragon\n",
      "CareMatrix\n",
      "Accenture LLP\n",
      "N. Clark\n",
      "Ian Schrager\n"
     ]
    }
   ],
   "source": [
    "for x in range(len(df)):\n",
    "    df_s = df['Text'].loc[x]\n",
    "    df_s = df_s.replace(u'\\xa0', u' ')\n",
    "    df_s = df_s.replace('\\n',' ')\n",
    "    df_s = df_s.strip(' ')\n",
    "    doc = nlp(df_s)\n",
    "    for ent in doc.ents:\n",
    "        if ent.label_ == 'PERSON':\n",
    "            print(ent.text)\n",
    "        else:\n",
    "            pass"
   ]
  },
  {
   "cell_type": "code",
   "execution_count": 46,
   "metadata": {
    "scrolled": false
   },
   "outputs": [
    {
     "name": "stdout",
     "output_type": "stream",
     "text": [
      "Canna Powder Ltd. ORG\n",
      "DUSA PERSON\n",
      "Dallas TX ORG\n"
     ]
    }
   ],
   "source": [
    "df_s = df['Text'].loc[1]\n",
    "df_s = df_s.replace(u'\\xa0', u' ')\n",
    "df_s = df_s.replace('\\n',' ')\n",
    "df_s = df_s.strip(' ')\n",
    "doc = nlp(df_s)\n",
    "for ent in doc.ents:\n",
    "    if ent.label_ == 'PERSON' or ent.label_ == 'ORG':\n",
    "        print(ent.text, ent.label_)\n",
    "    else:\n",
    "        pass"
   ]
  },
  {
   "cell_type": "code",
   "execution_count": 18,
   "metadata": {},
   "outputs": [],
   "source": [
    "labels = [x.label_ for x in doc.ents]"
   ]
  },
  {
   "cell_type": "code",
   "execution_count": 27,
   "metadata": {},
   "outputs": [],
   "source": [
    "from collections import Counter\n",
    "from spacy import displacy"
   ]
  },
  {
   "cell_type": "code",
   "execution_count": 22,
   "metadata": {},
   "outputs": [
    {
     "data": {
      "text/plain": [
       "Counter({'CARDINAL': 1,\n",
       "         'DATE': 1,\n",
       "         'WORK_OF_ART': 2,\n",
       "         'PERSON': 2,\n",
       "         'ORG': 1,\n",
       "         'GPE': 2})"
      ]
     },
     "execution_count": 22,
     "metadata": {},
     "output_type": "execute_result"
    }
   ],
   "source": [
    "Counter(labels)"
   ]
  },
  {
   "cell_type": "code",
   "execution_count": 23,
   "metadata": {},
   "outputs": [
    {
     "data": {
      "text/plain": [
       "[('Don Polly', 2), ('10.2', 1), ('the 5th day of June, 2019', 1)]"
      ]
     },
     "execution_count": 23,
     "metadata": {},
     "output_type": "execute_result"
    }
   ],
   "source": [
    "items = [x.text for x in doc.ents]\n",
    "Counter(items).most_common(3)"
   ]
  },
  {
   "cell_type": "code",
   "execution_count": 28,
   "metadata": {
    "scrolled": true
   },
   "outputs": [
    {
     "data": {
      "text/html": [
       "<div class=\"entities\" style=\"line-height: 2.5; direction: ltr\">[Exhibit 10.2                                                                                                CONFIDENTIAL SERVICES AGREEMENT            , \n",
       "<mark class=\"entity\" style=\"background: #7aecec; padding: 0.45em 0.6em; margin: 0 0.25em; line-height: 1; border-radius: 0.35em;\">\n",
       "    This Conﬁdential Services Agreement\n",
       "    <span style=\"font-size: 0.8em; font-weight: bold; line-height: 1; border-radius: 0.35em; text-transform: uppercase; vertical-align: middle; margin-left: 0.5rem\">ORG</span>\n",
       "</mark>\n",
       " (hereinafter referred to as &quot;Agreement&quot;) is eﬀective as of \n",
       "<mark class=\"entity\" style=\"background: #bfe1d9; padding: 0.45em 0.6em; margin: 0 0.25em; line-height: 1; border-radius: 0.35em;\">\n",
       "    the 5th day of June, 2019\n",
       "    <span style=\"font-size: 0.8em; font-weight: bold; line-height: 1; border-radius: 0.35em; text-transform: uppercase; vertical-align: middle; margin-left: 0.5rem\">DATE</span>\n",
       "</mark>\n",
       " (hereinafter \n",
       "<mark class=\"entity\" style=\"background: #f0d0ff; padding: 0.45em 0.6em; margin: 0 0.25em; line-height: 1; border-radius: 0.35em;\">\n",
       "    “the Eﬀective Date”\n",
       "    <span style=\"font-size: 0.8em; font-weight: bold; line-height: 1; border-radius: 0.35em; text-transform: uppercase; vertical-align: middle; margin-left: 0.5rem\">WORK_OF_ART</span>\n",
       "</mark>\n",
       "), by and between \n",
       "<mark class=\"entity\" style=\"background: #aa9cfc; padding: 0.45em 0.6em; margin: 0 0.25em; line-height: 1; border-radius: 0.35em;\">\n",
       "    Don Polly\n",
       "    <span style=\"font-size: 0.8em; font-weight: bold; line-height: 1; border-radius: 0.35em; text-transform: uppercase; vertical-align: middle; margin-left: 0.5rem\">PERSON</span>\n",
       "</mark>\n",
       ", \n",
       "<mark class=\"entity\" style=\"background: #7aecec; padding: 0.45em 0.6em; margin: 0 0.25em; line-height: 1; border-radius: 0.35em;\">\n",
       "    LLC\n",
       "    <span style=\"font-size: 0.8em; font-weight: bold; line-height: 1; border-radius: 0.35em; text-transform: uppercase; vertical-align: middle; margin-left: 0.5rem\">ORG</span>\n",
       "</mark>\n",
       ", a \n",
       "<mark class=\"entity\" style=\"background: #feca74; padding: 0.45em 0.6em; margin: 0 0.25em; line-height: 1; border-radius: 0.35em;\">\n",
       "    Nevada\n",
       "    <span style=\"font-size: 0.8em; font-weight: bold; line-height: 1; border-radius: 0.35em; text-transform: uppercase; vertical-align: middle; margin-left: 0.5rem\">GPE</span>\n",
       "</mark>\n",
       " limited liability company,, (hereinafter referred to as &quot;\n",
       "<mark class=\"entity\" style=\"background: #f0d0ff; padding: 0.45em 0.6em; margin: 0 0.25em; line-height: 1; border-radius: 0.35em;\">\n",
       "    Don Polly\n",
       "    <span style=\"font-size: 0.8em; font-weight: bold; line-height: 1; border-radius: 0.35em; text-transform: uppercase; vertical-align: middle; margin-left: 0.5rem\">WORK_OF_ART</span>\n",
       "</mark>\n",
       "&quot;), and, \n",
       "<mark class=\"entity\" style=\"background: #aa9cfc; padding: 0.45em 0.6em; margin: 0 0.25em; line-height: 1; border-radius: 0.35em;\">\n",
       "    Charlie\n",
       "    <span style=\"font-size: 0.8em; font-weight: bold; line-height: 1; border-radius: 0.35em; text-transform: uppercase; vertical-align: middle; margin-left: 0.5rem\">PERSON</span>\n",
       "</mark>\n",
       "’s Chalk Dust, a \n",
       "<mark class=\"entity\" style=\"background: #feca74; padding: 0.45em 0.6em; margin: 0 0.25em; line-height: 1; border-radius: 0.35em;\">\n",
       "    California\n",
       "    <span style=\"font-size: 0.8em; font-weight: bold; line-height: 1; border-radius: 0.35em; text-transform: uppercase; vertical-align: middle; margin-left: 0.5rem\">GPE</span>\n",
       "</mark>\n",
       " limited liability company, (hereinafter referred to as &quot;Contractor&quot;).]</div>"
      ],
      "text/plain": [
       "<IPython.core.display.HTML object>"
      ]
     },
     "metadata": {},
     "output_type": "display_data"
    }
   ],
   "source": [
    "displacy.render(nlp(str(sentences)), jupyter=True, style='ent')"
   ]
  },
  {
   "cell_type": "code",
   "execution_count": 30,
   "metadata": {
    "scrolled": true
   },
   "outputs": [
    {
     "data": {
      "text/plain": [
       "[('Exhibit', 'NOUN', 'exhibit'),\n",
       " ('10.2', 'NUM', '10.2'),\n",
       " ('                                                                                               ',\n",
       "  'SPACE',\n",
       "  '                                                                                               '),\n",
       " ('CONFIDENTIAL', 'PROPN', 'CONFIDENTIAL'),\n",
       " ('SERVICES', 'PROPN', 'SERVICES'),\n",
       " ('AGREEMENT', 'PROPN', 'AGREEMENT'),\n",
       " ('           ', 'SPACE', '           '),\n",
       " ('Conﬁdential', 'PROPN', 'Conﬁdential'),\n",
       " ('Services', 'PROPN', 'Services'),\n",
       " ('Agreement', 'PROPN', 'Agreement'),\n",
       " ('hereinafter', 'NOUN', 'hereinafter'),\n",
       " ('referred', 'VERB', 'refer'),\n",
       " ('Agreement', 'PROPN', 'Agreement'),\n",
       " ('eﬀective', 'ADJ', 'eﬀective'),\n",
       " ('5th', 'ADJ', '5th'),\n",
       " ('day', 'NOUN', 'day'),\n",
       " ('June', 'PROPN', 'June'),\n",
       " ('2019', 'NUM', '2019'),\n",
       " ('hereinafter', 'VERB', 'hereinafter'),\n",
       " ('Eﬀective', 'PROPN', 'Eﬀective'),\n",
       " ('Date', 'PROPN', 'Date'),\n",
       " ('Don', 'PROPN', 'Don'),\n",
       " ('Polly', 'PROPN', 'Polly'),\n",
       " ('LLC', 'PROPN', 'LLC'),\n",
       " ('Nevada', 'PROPN', 'Nevada'),\n",
       " ('limited', 'VERB', 'limit'),\n",
       " ('liability', 'NOUN', 'liability'),\n",
       " ('company', 'NOUN', 'company'),\n",
       " ('hereinafter', 'PROPN', 'hereinafter'),\n",
       " ('referred', 'VERB', 'refer'),\n",
       " ('Don', 'PROPN', 'Don'),\n",
       " ('Polly', 'PROPN', 'Polly'),\n",
       " ('Charlie', 'PROPN', 'Charlie'),\n",
       " ('Chalk', 'PROPN', 'Chalk'),\n",
       " ('Dust', 'PROPN', 'Dust'),\n",
       " ('California', 'PROPN', 'California'),\n",
       " ('limited', 'VERB', 'limit'),\n",
       " ('liability', 'NOUN', 'liability'),\n",
       " ('company', 'NOUN', 'company'),\n",
       " ('hereinafter', 'PROPN', 'hereinafter'),\n",
       " ('referred', 'VERB', 'refer'),\n",
       " ('Contractor', 'PROPN', 'Contractor')]"
      ]
     },
     "execution_count": 30,
     "metadata": {},
     "output_type": "execute_result"
    }
   ],
   "source": [
    "[(x.orth_,x.pos_, x.lemma_) for x in [y for y in nlp(str(sentences)) if not y.is_stop and y.pos_ != 'PUNCT']]"
   ]
  },
  {
   "cell_type": "code",
   "execution_count": 43,
   "metadata": {},
   "outputs": [
    {
     "data": {
      "text/html": [
       "<div class=\"entities\" style=\"line-height: 2.5; direction: ltr\">[Exhibit 10.2                                                                                                CONFIDENTIAL SERVICES AGREEMENT            , \n",
       "<mark class=\"entity\" style=\"background: #7aecec; padding: 0.45em 0.6em; margin: 0 0.25em; line-height: 1; border-radius: 0.35em;\">\n",
       "    This Conﬁdential Services Agreement\n",
       "    <span style=\"font-size: 0.8em; font-weight: bold; line-height: 1; border-radius: 0.35em; text-transform: uppercase; vertical-align: middle; margin-left: 0.5rem\">ORG</span>\n",
       "</mark>\n",
       " (hereinafter referred to as &quot;Agreement&quot;) is eﬀective as of \n",
       "<mark class=\"entity\" style=\"background: #bfe1d9; padding: 0.45em 0.6em; margin: 0 0.25em; line-height: 1; border-radius: 0.35em;\">\n",
       "    the 5th day of June, 2019\n",
       "    <span style=\"font-size: 0.8em; font-weight: bold; line-height: 1; border-radius: 0.35em; text-transform: uppercase; vertical-align: middle; margin-left: 0.5rem\">DATE</span>\n",
       "</mark>\n",
       " (hereinafter \n",
       "<mark class=\"entity\" style=\"background: #f0d0ff; padding: 0.45em 0.6em; margin: 0 0.25em; line-height: 1; border-radius: 0.35em;\">\n",
       "    “the Eﬀective Date”\n",
       "    <span style=\"font-size: 0.8em; font-weight: bold; line-height: 1; border-radius: 0.35em; text-transform: uppercase; vertical-align: middle; margin-left: 0.5rem\">WORK_OF_ART</span>\n",
       "</mark>\n",
       "), by and between \n",
       "<mark class=\"entity\" style=\"background: #aa9cfc; padding: 0.45em 0.6em; margin: 0 0.25em; line-height: 1; border-radius: 0.35em;\">\n",
       "    Don Polly\n",
       "    <span style=\"font-size: 0.8em; font-weight: bold; line-height: 1; border-radius: 0.35em; text-transform: uppercase; vertical-align: middle; margin-left: 0.5rem\">PERSON</span>\n",
       "</mark>\n",
       ", \n",
       "<mark class=\"entity\" style=\"background: #7aecec; padding: 0.45em 0.6em; margin: 0 0.25em; line-height: 1; border-radius: 0.35em;\">\n",
       "    LLC\n",
       "    <span style=\"font-size: 0.8em; font-weight: bold; line-height: 1; border-radius: 0.35em; text-transform: uppercase; vertical-align: middle; margin-left: 0.5rem\">ORG</span>\n",
       "</mark>\n",
       ", a \n",
       "<mark class=\"entity\" style=\"background: #feca74; padding: 0.45em 0.6em; margin: 0 0.25em; line-height: 1; border-radius: 0.35em;\">\n",
       "    Nevada\n",
       "    <span style=\"font-size: 0.8em; font-weight: bold; line-height: 1; border-radius: 0.35em; text-transform: uppercase; vertical-align: middle; margin-left: 0.5rem\">GPE</span>\n",
       "</mark>\n",
       " limited liability company,, (hereinafter referred to as &quot;\n",
       "<mark class=\"entity\" style=\"background: #f0d0ff; padding: 0.45em 0.6em; margin: 0 0.25em; line-height: 1; border-radius: 0.35em;\">\n",
       "    Don Polly\n",
       "    <span style=\"font-size: 0.8em; font-weight: bold; line-height: 1; border-radius: 0.35em; text-transform: uppercase; vertical-align: middle; margin-left: 0.5rem\">WORK_OF_ART</span>\n",
       "</mark>\n",
       "&quot;), and, \n",
       "<mark class=\"entity\" style=\"background: #aa9cfc; padding: 0.45em 0.6em; margin: 0 0.25em; line-height: 1; border-radius: 0.35em;\">\n",
       "    Charlie\n",
       "    <span style=\"font-size: 0.8em; font-weight: bold; line-height: 1; border-radius: 0.35em; text-transform: uppercase; vertical-align: middle; margin-left: 0.5rem\">PERSON</span>\n",
       "</mark>\n",
       "’s Chalk Dust, a \n",
       "<mark class=\"entity\" style=\"background: #feca74; padding: 0.45em 0.6em; margin: 0 0.25em; line-height: 1; border-radius: 0.35em;\">\n",
       "    California\n",
       "    <span style=\"font-size: 0.8em; font-weight: bold; line-height: 1; border-radius: 0.35em; text-transform: uppercase; vertical-align: middle; margin-left: 0.5rem\">GPE</span>\n",
       "</mark>\n",
       " limited liability company, (hereinafter referred to as &quot;Contractor&quot;).]</div>"
      ],
      "text/plain": [
       "<IPython.core.display.HTML object>"
      ]
     },
     "metadata": {},
     "output_type": "display_data"
    }
   ],
   "source": [
    "displacy.render(nlp(str(sentences)), jupyter=True, style='ent')"
   ]
  },
  {
   "cell_type": "code",
   "execution_count": 47,
   "metadata": {},
   "outputs": [],
   "source": [
    "import re"
   ]
  },
  {
   "cell_type": "code",
   "execution_count": 149,
   "metadata": {},
   "outputs": [],
   "source": [
    "test_re=re.compile(\"(Height\\s*(\\:|\\b)\\s*(\\d+(\\.\\d+)?\\s*(ft|m|\\'|feet)+ (\\d\\d\\s*(inch|cm|\\\"){1})?)|Weight\\s*(\\:|\\b)\\s*(\\d+(\\.\\d+)\\s*(kgs|kg|Kg|Lbs|lbs)))\")"
   ]
  },
  {
   "cell_type": "code",
   "execution_count": 150,
   "metadata": {},
   "outputs": [],
   "source": [
    "match = test_re.findall(\"These are oranges Height : 6 feet 10inch apples and pears, Weight :56.6 kg but not pinapples.\")"
   ]
  },
  {
   "cell_type": "code",
   "execution_count": 151,
   "metadata": {},
   "outputs": [
    {
     "data": {
      "text/plain": [
       "[('Height : 6 feet 10inch',\n",
       "  ':',\n",
       "  '6 feet 10inch',\n",
       "  '',\n",
       "  'feet',\n",
       "  '10inch',\n",
       "  'inch',\n",
       "  '',\n",
       "  '',\n",
       "  '',\n",
       "  ''),\n",
       " ('Weight :56.6 kg', '', '', '', '', '', '', ':', '56.6 kg', '.6', 'kg')]"
      ]
     },
     "execution_count": 151,
     "metadata": {},
     "output_type": "execute_result"
    }
   ],
   "source": [
    "match"
   ]
  },
  {
   "cell_type": "code",
   "execution_count": 152,
   "metadata": {},
   "outputs": [],
   "source": [
    "height = match[0][0]\n",
    "height = height.split('Height')\n",
    "height = height[1]\n",
    "height = height.replace(':', '')\n",
    "height = height.strip(' ')\n",
    "\n",
    "weight = match[1][0]\n",
    "weight = weight.split('Weight')\n",
    "weight = weight[1]\n",
    "weight = weight.replace(':', '')\n",
    "weight = weight.strip(' ')"
   ]
  },
  {
   "cell_type": "code",
   "execution_count": 153,
   "metadata": {},
   "outputs": [
    {
     "data": {
      "text/plain": [
       "'6 feet 10inch'"
      ]
     },
     "execution_count": 153,
     "metadata": {},
     "output_type": "execute_result"
    }
   ],
   "source": [
    "height"
   ]
  },
  {
   "cell_type": "code",
   "execution_count": 154,
   "metadata": {},
   "outputs": [
    {
     "data": {
      "text/plain": [
       "'56.6 kg'"
      ]
     },
     "execution_count": 154,
     "metadata": {},
     "output_type": "execute_result"
    }
   ],
   "source": [
    "weight"
   ]
  },
  {
   "cell_type": "code",
   "execution_count": 156,
   "metadata": {},
   "outputs": [
    {
     "name": "stdout",
     "output_type": "stream",
     "text": [
      "Match 1 was found at 18-40: Height : 5 feet 10inch\n",
      "Group 1 found at 18-40: Height : 5 feet 10inch\n",
      "Group 2 found at 25-26: :\n",
      "Group 3 found at 27-40: 5 feet 10inch\n",
      "Group 4 found at -1--1: None\n",
      "Group 5 found at 29-33: feet\n",
      "Group 6 found at 34-40: 10inch\n",
      "Group 7 found at 36-40: inch\n",
      "Group 8 found at -1--1: None\n",
      "Group 9 found at -1--1: None\n",
      "Group 10 found at -1--1: None\n",
      "Group 11 found at -1--1: None\n",
      "Match 2 was found at 64-77: Weight 56.2kg\n",
      "Group 1 found at 64-77: Weight 56.2kg\n",
      "Group 2 found at -1--1: None\n",
      "Group 3 found at -1--1: None\n",
      "Group 4 found at -1--1: None\n",
      "Group 5 found at -1--1: None\n",
      "Group 6 found at -1--1: None\n",
      "Group 7 found at -1--1: None\n",
      "Group 8 found at 71-71: \n",
      "Group 9 found at 71-77: 56.2kg\n",
      "Group 10 found at 73-75: .2\n",
      "Group 11 found at 75-77: kg\n"
     ]
    }
   ],
   "source": [
    "regex = r'(Height\\s*(\\:|\\b)\\s*(\\d+(\\.\\d+)?\\s*(ft|m|\\'|feet)+ (\\d\\d\\s*(inch|cm|\\\"){1})?)|Weight\\s*(\\:|\\b)\\s*(\\d+(\\.\\d+)\\s*(kgs|kg|Kg|Lbs|lbs)))'\n",
    "\n",
    "test_str = (\"These are oranges Height : 5 feet 10inch  and apples and pears, Weight 56.2kg  but not pinapples.\\n\\n\"\n",
    "\t\"(Height : \\\\d+(ft|m|\\\\'))\")\n",
    "\n",
    "matches = re.finditer(regex, test_str)\n",
    "\n",
    "for matchNum, match in enumerate(matches, start=1):\n",
    "    \n",
    "    print (\"Match {matchNum} was found at {start}-{end}: {match}\".format(matchNum = matchNum, start = match.start(), end = match.end(), match = match.group()))\n",
    "    \n",
    "    for groupNum in range(0, len(match.groups())):\n",
    "        groupNum = groupNum + 1\n",
    "        \n",
    "        print (\"Group {groupNum} found at {start}-{end}: {group}\".format(groupNum = groupNum, start = match.start(groupNum), end = match.end(groupNum), group = match.group(groupNum)))"
   ]
  },
  {
   "cell_type": "code",
   "execution_count": 161,
   "metadata": {},
   "outputs": [
    {
     "data": {
      "text/plain": [
       "'Weight 56.2kg'"
      ]
     },
     "execution_count": 161,
     "metadata": {},
     "output_type": "execute_result"
    }
   ],
   "source": [
    "match.group(1)"
   ]
  },
  {
   "cell_type": "code",
   "execution_count": null,
   "metadata": {},
   "outputs": [],
   "source": []
  }
 ],
 "metadata": {
  "kernelspec": {
   "display_name": "Python 3",
   "language": "python",
   "name": "python3"
  },
  "language_info": {
   "codemirror_mode": {
    "name": "ipython",
    "version": 3
   },
   "file_extension": ".py",
   "mimetype": "text/x-python",
   "name": "python",
   "nbconvert_exporter": "python",
   "pygments_lexer": "ipython3",
   "version": "3.6.9"
  }
 },
 "nbformat": 4,
 "nbformat_minor": 4
}
