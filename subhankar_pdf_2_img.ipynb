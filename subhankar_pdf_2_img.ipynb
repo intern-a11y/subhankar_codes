{
 "cells": [
  {
   "cell_type": "code",
   "execution_count": 1,
   "metadata": {},
   "outputs": [],
   "source": [
    "import cv2\n",
    "import numpy as np\n",
    "from PyPDF2 import PdfFileReader, PdfFileWriter\n",
    "from pdf2image import convert_from_path, convert_from_bytes\n",
    "import tempfile\n",
    "import os\n",
    "from pdf2image.exceptions import (\n",
    "    PDFInfoNotInstalledError,\n",
    "    PDFPageCountError,\n",
    "    PDFSyntaxError\n",
    ")\n",
    "from pdf2image import convert_from_path, convert_from_bytes"
   ]
  },
  {
   "cell_type": "code",
   "execution_count": 43,
   "metadata": {},
   "outputs": [],
   "source": [
    "# reader = PdfFileReader('subhankarUkraineLLCPfizerLEAFinalsigned.pdf', 'r')\n",
    "\n",
    "# # getting the first page\n",
    "# page = reader.getPage(0) \n",
    "\n",
    "# writer = PdfFileWriter()\n",
    "\n",
    "# # Loop through all pages in pdf object to crop based on (x,y) coordinates\n",
    "# for i in range(reader.getNumPages()):\n",
    "#     page = reader.getPage(i)\n",
    "# #     page.cropBox.setLowerLeft((0,115))\n",
    "#     page.cropBox.setUpperRight((300, 800))\n",
    "#     writer.addPage(page)\n",
    "\n",
    "# outstream = open('samples_cropped.pdf','wb')\n",
    "# writer.write(outstream)\n",
    "# outstream.close()"
   ]
  },
  {
   "cell_type": "code",
   "execution_count": 41,
   "metadata": {},
   "outputs": [],
   "source": [
    "# page.cropBox.setUpperLeft((0,720))\n",
    "# page.cropBox.setLowerLeft((0,70))\n",
    "# page.cropBox.setLowerRight((612,70))\n",
    "# page.cropBox.setUpperRight((612,720)) "
   ]
  },
  {
   "cell_type": "code",
   "execution_count": 14,
   "metadata": {},
   "outputs": [],
   "source": [
    "rootdir = '/home/xelpmoc/Desktop/contracts/open_test/pdfs/'\n",
    "dest = '/home/xelpmoc/Desktop/contracts/open_test/images/image_1/'"
   ]
  },
  {
   "cell_type": "code",
   "execution_count": 19,
   "metadata": {},
   "outputs": [],
   "source": [
    "for subdir, dirs, files in os.walk(rootdir):\n",
    "    for file in files:\n",
    "        f_n = os.path.join(file)\n",
    "#         if '.ppm' in f_n:\n",
    "#                 os.remove(subdir+'/'+f_n)\n",
    "        if 'subhankarLSAAustriafullyexecuted.pdf' in f_n:\n",
    "            images_from_path = convert_from_path(subdir+'/'+f_n, output_folder=dest, fmt=\"jpeg\")\n",
    "        else:\n",
    "            pass            "
   ]
  },
  {
   "cell_type": "code",
   "execution_count": null,
   "metadata": {},
   "outputs": [],
   "source": []
  }
 ],
 "metadata": {
  "kernelspec": {
   "display_name": "Python 3",
   "language": "python",
   "name": "python3"
  },
  "language_info": {
   "codemirror_mode": {
    "name": "ipython",
    "version": 3
   },
   "file_extension": ".py",
   "mimetype": "text/x-python",
   "name": "python",
   "nbconvert_exporter": "python",
   "pygments_lexer": "ipython3",
   "version": "3.6.9"
  }
 },
 "nbformat": 4,
 "nbformat_minor": 4
}
