{
 "cells": [
  {
   "cell_type": "code",
   "execution_count": 1,
   "metadata": {},
   "outputs": [],
   "source": [
    "import camelot\n",
    "import os"
   ]
  },
  {
   "cell_type": "code",
   "execution_count": 2,
   "metadata": {},
   "outputs": [],
   "source": [
    "rootdir = '/home/xelpmoc/Desktop/contracts/open_test/pdfs/'\n",
    "dest = '/home/xelpmoc/Desktop/contracts/open_test/pdfs/jsons/'"
   ]
  },
  {
   "cell_type": "code",
   "execution_count": 3,
   "metadata": {},
   "outputs": [
    {
     "name": "stderr",
     "output_type": "stream",
     "text": [
      "UserWarning:   (557.88, 560.64888) does not lie in column range (90.8816807738815, 557.4076420798066) [utils.py:664]\n",
      "UserWarning: page-8 is image-based, camelot only works on text-based pages. [lattice.py:395]\n",
      "UserWarning: '  (511.15, 513.085043) does not lie in column range (96.15375, 510.12) [utils.py:664]\n",
      "UserWarning: page-8 is image-based, camelot only works on text-based pages. [lattice.py:395]\n"
     ]
    }
   ],
   "source": [
    "for subdir, dirs, files in os.walk(rootdir):\n",
    "    for file in files:\n",
    "        f_n = os.path.join(file)\n",
    "        if '.pdf' in f_n:\n",
    "            tables = camelot.read_pdf(subdir+f_n, pages='all')\n",
    "            s_dir = f_n\n",
    "            s_dir = s_dir.split('.pdf')\n",
    "            s_dir = s_dir[0]\n",
    "            out_dir = dest+s_dir+'/'\n",
    "            c = 1\n",
    "            for tb in tables:\n",
    "                if not os.path.exists(out_dir):\n",
    "                  os.makedirs(out_dir)\n",
    "                tb.to_json(out_dir+str(c)+'.json')\n",
    "                c = c + 1"
   ]
  },
  {
   "cell_type": "code",
   "execution_count": 4,
   "metadata": {},
   "outputs": [],
   "source": [
    "# s = [{\"0\":\"SECTION B -\\nINVOICING AND PAYMENT RE.UIRE  1ENTS\",\"1\":\"\"},{\"0\":\"Local Currency \\nInsert relevant Local Currency (as set out in \\nsection  1.3.2 of Exlubit 8 (PriC'il1c:  and \\nFinancial Provisions))\",\"1\":\"British Pound (GBP)\"},{\"0\":\"Regional GMP for In-scope Country \\nPlease insert initial allocation of the 11w11thl) \\nRegional GMP.for the  relevmu In-scope \\nCo1.111trv,  in  Local Curre11cv\",\"1\":\"The breakdown of the constituent clements or the \\nRegional GMP  for In-l-cope Country i~  set out in \\nAttachment  l  to this Local Services Agreement\"},{\"0\":\"Invoicing Re<1uirements \\nPlease insert local invoicing  requirements, \\nsuch as invoicing format,  billing address,  etc. \\nIf the Services are being pe,formed under a \\nManaged Agreement (and 110  Charges are \\npayable under this Local Agreement),  this \\nshould say \\\"As per the Managed Agreemellf \\\".\",\"1\":\"Hard copies or invoices to be sent to address as \\nfollow . . for attention o f CR.ES point of contact \\nCredit Suisse (Gibraltar) Ltd \\nNeptune House \\nMarina Bay, Gibraltar \\nSoft copies or invoices to be emailed to CR.ES  point \\nof contact(s) as  required.\"},{\"0\":\"Local CS Policies \\nPlease insert any CS Policies.for the rele  ant \\nIn-Scope Country l\\u2022d1ich  Contracting Party \\nshall need to comply with in  its pe1.for111a11ce \\nof the Services\",\"1\":\"\\u20ac  The CS Policies set out in Exhibit 13 ( CS Policies) \\nshall apply to this Local Services Agreement; or \\n@ In  addition  to  the CS Policies set out in  Exhibit  13 \\n(CS Policies),  the Local Contracting Party shall \\ncomply with  the following CS Policies: \\n\\u2022  Health and Safety Policy Statement EMEA \\nRegion \\no  GP-00012-S0l -EMEA Regional Supplement -\\nReport.ing Unusual or Suspicious Activity, \\nincluding Client or Counterparty Misconduct \\n\\u2022  GP-00012-S02 - Events Requiring Disclosure to \\nthe General Counsel Division -\\nSupplement to\"}]"
   ]
  },
  {
   "cell_type": "code",
   "execution_count": 5,
   "metadata": {},
   "outputs": [
    {
     "ename": "SyntaxError",
     "evalue": "invalid syntax (<ipython-input-5-8b8b0f86fc52>, line 2)",
     "output_type": "error",
     "traceback": [
      "\u001b[0;36m  File \u001b[0;32m\"<ipython-input-5-8b8b0f86fc52>\"\u001b[0;36m, line \u001b[0;32m2\u001b[0m\n\u001b[0;31m    for i in x\u001b[0m\n\u001b[0m              ^\u001b[0m\n\u001b[0;31mSyntaxError\u001b[0m\u001b[0;31m:\u001b[0m invalid syntax\n"
     ]
    }
   ],
   "source": [
    "# for x in s:\n",
    "#     for i in x"
   ]
  },
  {
   "cell_type": "code",
   "execution_count": null,
   "metadata": {},
   "outputs": [],
   "source": [
    "# for i in x:\n",
    "#     print(i[0])"
   ]
  },
  {
   "cell_type": "code",
   "execution_count": null,
   "metadata": {},
   "outputs": [],
   "source": [
    "# x['0']"
   ]
  },
  {
   "cell_type": "code",
   "execution_count": null,
   "metadata": {},
   "outputs": [],
   "source": [
    "# tables = camelot.read_pdf(rootdir+'subhankarHPLIAHungary.pdf', pages='all')"
   ]
  },
  {
   "cell_type": "code",
   "execution_count": null,
   "metadata": {},
   "outputs": [],
   "source": []
  }
 ],
 "metadata": {
  "kernelspec": {
   "display_name": "Python 3",
   "language": "python",
   "name": "python3"
  },
  "language_info": {
   "codemirror_mode": {
    "name": "ipython",
    "version": 3
   },
   "file_extension": ".py",
   "mimetype": "text/x-python",
   "name": "python",
   "nbconvert_exporter": "python",
   "pygments_lexer": "ipython3",
   "version": "3.6.9"
  }
 },
 "nbformat": 4,
 "nbformat_minor": 4
}
