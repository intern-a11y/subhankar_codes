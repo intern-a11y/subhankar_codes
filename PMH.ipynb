{
 "cells": [
  {
   "cell_type": "code",
   "execution_count": 227,
   "metadata": {},
   "outputs": [],
   "source": [
    "f = open(\"pmx.txt\", \"r\")"
   ]
  },
  {
   "cell_type": "code",
   "execution_count": 228,
   "metadata": {},
   "outputs": [],
   "source": [
    "string = f.read()"
   ]
  },
  {
   "cell_type": "code",
   "execution_count": 229,
   "metadata": {},
   "outputs": [],
   "source": [
    "# PAST MEDICAL HISTORY, PAST SURGICAL HISTORY"
   ]
  },
  {
   "cell_type": "code",
   "execution_count": 230,
   "metadata": {},
   "outputs": [],
   "source": [
    "def find_str(g_str, string):\n",
    "    match_dict = {g_str:[]}\n",
    "    for x in range(string.count(g_str)):\n",
    "        if string.find(g_str):\n",
    "            num = string.find(g_str)\n",
    "            num = num + len(g_str)+1\n",
    "            t_str = string[num:]\n",
    "            str_from = t_str.find(':')\n",
    "            rev_str = t_str[:str_from+1]\n",
    "            rev_str = rev_str[::-1]\n",
    "            str_to = rev_str.find('\\n')\n",
    "            t_str = t_str[:(str_from-str_to)]\n",
    "            t_str = t_str.replace('\\n', ' ')\n",
    "            t_str = t_str.strip(' ')\n",
    "            n = string.find(g_str)\n",
    "            string = string[n+1:]\n",
    "            match_dict[g_str].append(t_str)\n",
    "            print(t_str)\n",
    "        else:\n",
    "            pass\n",
    "    return(match_dict)"
   ]
  },
  {
   "cell_type": "code",
   "execution_count": 239,
   "metadata": {},
   "outputs": [
    {
     "name": "stdout",
     "output_type": "stream",
     "text": [
      "CABG  abdominal surgery related to traumatic fall (in his 30s)\n",
      "CABG as above abdominal surgery related to traumatic fall (in his 30s)\n"
     ]
    }
   ],
   "source": [
    "match = find_str(\"PAST SURGICAL HISTORY\", string)"
   ]
  },
  {
   "cell_type": "code",
   "execution_count": 241,
   "metadata": {},
   "outputs": [
    {
     "data": {
      "text/plain": [
       "{'PAST SURGICAL HISTORY': ['CABG  abdominal surgery related to traumatic fall (in his 30s)',\n",
       "  'CABG as above abdominal surgery related to traumatic fall (in his 30s)']}"
      ]
     },
     "execution_count": 241,
     "metadata": {},
     "output_type": "execute_result"
    }
   ],
   "source": [
    "match"
   ]
  },
  {
   "cell_type": "code",
   "execution_count": null,
   "metadata": {},
   "outputs": [],
   "source": []
  }
 ],
 "metadata": {
  "kernelspec": {
   "display_name": "Python 3",
   "language": "python",
   "name": "python3"
  },
  "language_info": {
   "codemirror_mode": {
    "name": "ipython",
    "version": 3
   },
   "file_extension": ".py",
   "mimetype": "text/x-python",
   "name": "python",
   "nbconvert_exporter": "python",
   "pygments_lexer": "ipython3",
   "version": "3.6.9"
  }
 },
 "nbformat": 4,
 "nbformat_minor": 4
}
