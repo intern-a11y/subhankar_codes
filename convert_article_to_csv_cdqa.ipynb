{
 "cells": [
  {
   "cell_type": "code",
   "execution_count": 1,
   "metadata": {},
   "outputs": [],
   "source": [
    "import pandas as pd"
   ]
  },
  {
   "cell_type": "code",
   "execution_count": 2,
   "metadata": {},
   "outputs": [],
   "source": [
    "# df.to_json(r'dataset-name.json')"
   ]
  },
  {
   "cell_type": "code",
   "execution_count": 3,
   "metadata": {},
   "outputs": [],
   "source": [
    "# df.to_csv(r'your-custom-corpus-here.csv')"
   ]
  },
  {
   "cell_type": "code",
   "execution_count": 4,
   "metadata": {},
   "outputs": [],
   "source": [
    "# data = [['Bank', ['You can apply for a personal loan online, over phone or by visiting a HDFC Bank branch. The process is easy and quick.', 'Personal loans are unsecured loans offered without security of collateral. It requires minimal documentation such as income proof and ID and address proof. If you are an existing customer, the process will be much easier.', \n",
    "#                   'A personal loan is meant for urgent needs, such as hospitalization or foreign university fees. You can also use the personal loan to buy a gadget or fund a holiday. Personal loans are among the best unsecured loans (loans without security or collateral) available in the market. A personal loan offers lower interest rates than revolving credit on your card.', \n",
    "#                   'Personal loans generally have high interest rates and short tenures, which increases your monthly EMI.Honestly evaluate whether you will be able to repay as per the schedule, given your current income.', \n",
    "#                   'You repay the loan in Equated Monthly Installments (EMIs) comprising both principal and interest. Repayment by way of EMI starts from the month following the month in which you take full disbursement. (For understanding how EMI is calculated, please see annex).', 'In addition to all legal documents relating to the house being bought,  banks will also ask you to submit Identity and Residence Proof, latest salary slip ( authenticated by the employer and self attested for employees ) and Form 16 ( for business persons/ self-employed ) and last 6 months bank statements / Balance Sheet, as applicable . You also need to submit the completed application form along with your photograph. Loan applications form would give a checklist of documents to be attached with the application.', \n",
    "#                   'Banks generally offer either of the following loan options: Floating Rate Home Loans and Fixed Rate Home Loans. For a Fixed Rate Loan, the rate of interest is fixed either for the entire tenure of the loan or a certain part of the tenure of the loan. In case of a pure fixed loan, the EMI due to the bank remains constant. If a bank offers a Loan which is fixed only for a certain period of the tenure of the loan, please try to elicit information from the bank whether the rates may be raised after the period (reset clause). You may try to negotiate a lock-in that should include the rate that you have agreed upon initially and the period the lock-in lasts.', \n",
    "#                   'The security for a housing loan is typically a first mortgage of the property, normally by way of deposit of title deeds. Banks also sometimes ask for other collateral security as may be necessary. Some banks insist on margin / down payment (borrowers contribution to the creation of an asset) to be maintained / made also.', \n",
    "#                   'In any kind of loan, banks usually finance only up to 90% of the amount. The rest, called margin money, has to be put in by the borrower. The extent of the loan varies between 80-90% of the total amount. So, figure out how much money you will need upfront.', \n",
    "#                   'You may approach three banks for the same loan and they may all charge an interest rate of 9%. But, if you actually compare the EMIs, it might vary. Reason: Different ways of computation. The type of reducing balance method applied or the ‘rests’ in the loan determine the effective cost. The ‘rests’ could be annual, quarterly, monthly or daily. The shorter the ‘rest’, the better is the deal. When the interest is calculated on monthly rests, the principal on which the interest is charged reduces every month. This results in a significant saving over the tenure of the loan. Thus, always compare the EMI of various financiers with a similar amount and tenure.']]]"
   ]
  },
  {
   "cell_type": "code",
   "execution_count": 5,
   "metadata": {},
   "outputs": [],
   "source": [
    "f = open(\"bank_test.txt\", \"r\")"
   ]
  },
  {
   "cell_type": "code",
   "execution_count": 6,
   "metadata": {},
   "outputs": [],
   "source": [
    "s = f.read()\n",
    "s_t = s.split('\\n\\n')"
   ]
  },
  {
   "cell_type": "code",
   "execution_count": 7,
   "metadata": {},
   "outputs": [],
   "source": [
    "data = [['Bank', s_t]]"
   ]
  },
  {
   "cell_type": "code",
   "execution_count": null,
   "metadata": {},
   "outputs": [],
   "source": [
    "df = pd.DataFrame(data, columns = ['title', 'paragraphs'])"
   ]
  },
  {
   "cell_type": "code",
   "execution_count": null,
   "metadata": {},
   "outputs": [],
   "source": [
    "df.to_csv(r'bank.csv')"
   ]
  },
  {
   "cell_type": "code",
   "execution_count": null,
   "metadata": {},
   "outputs": [],
   "source": []
  }
 ],
 "metadata": {
  "kernelspec": {
   "display_name": "Python 3",
   "language": "python",
   "name": "python3"
  },
  "language_info": {
   "codemirror_mode": {
    "name": "ipython",
    "version": 3
   },
   "file_extension": ".py",
   "mimetype": "text/x-python",
   "name": "python",
   "nbconvert_exporter": "python",
   "pygments_lexer": "ipython3",
   "version": "3.6.9"
  }
 },
 "nbformat": 4,
 "nbformat_minor": 4
}
