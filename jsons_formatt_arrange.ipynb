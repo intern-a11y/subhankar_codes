{
 "cells": [
  {
   "cell_type": "code",
   "execution_count": 1,
   "metadata": {},
   "outputs": [],
   "source": [
    "import os\n",
    "import json"
   ]
  },
  {
   "cell_type": "code",
   "execution_count": 2,
   "metadata": {},
   "outputs": [],
   "source": [
    "rootdir = '/home/xelpmoc/Desktop/contracts/open_test/pdfs/jsons/'\n",
    "dest = '/home/xelpmoc/Desktop/contracts/open_test/pdfs/jsons/'"
   ]
  },
  {
   "cell_type": "code",
   "execution_count": 3,
   "metadata": {},
   "outputs": [],
   "source": [
    "for subdir, dirs, files in os.walk(rootdir):\n",
    "    json_dict = {}\n",
    "    if files:\n",
    "        for file in files:\n",
    "            if '.json' in file:\n",
    "                f_n = os.path.join(file)\n",
    "                with open(subdir+'/'+f_n) as f:\n",
    "                    data = json.load(f)\n",
    "\n",
    "                for x in range(len(data)):\n",
    "                    temp_li = []\n",
    "                    ki = ''\n",
    "                    for k in data[x].keys():\n",
    "                        if k == '0' and data[x][k]:\n",
    "                            ki = data[x][k]\n",
    "                        elif k != '0' and data[x][k]:\n",
    "                            temp_li.append(data[x][k])\n",
    "                        else:\n",
    "                            pass\n",
    "\n",
    "                        if ki:\n",
    "                            temp_dict = {ki:temp_li}\n",
    "                            json_dict.update(temp_dict)\n",
    "#             print(subdir, file)\n",
    "#             print(json_dict)\n",
    "#             print('---------------------------XXXX--------------------------\\n')\n",
    "        with open(subdir+'/'+'format.json', 'w') as fp:\n",
    "            json.dump(json_dict, fp)"
   ]
  },
  {
   "cell_type": "code",
   "execution_count": null,
   "metadata": {},
   "outputs": [],
   "source": []
  }
 ],
 "metadata": {
  "kernelspec": {
   "display_name": "Python 3",
   "language": "python",
   "name": "python3"
  },
  "language_info": {
   "codemirror_mode": {
    "name": "ipython",
    "version": 3
   },
   "file_extension": ".py",
   "mimetype": "text/x-python",
   "name": "python",
   "nbconvert_exporter": "python",
   "pygments_lexer": "ipython3",
   "version": "3.6.9"
  }
 },
 "nbformat": 4,
 "nbformat_minor": 4
}
